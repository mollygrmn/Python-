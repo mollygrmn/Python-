{
 "cells": [
  {
   "cell_type": "markdown",
   "id": "3b3f9a75",
   "metadata": {},
   "source": [
    "# Web Scraping "
   ]
  },
  {
   "cell_type": "code",
   "execution_count": 12,
   "id": "50e43e09",
   "metadata": {},
   "outputs": [],
   "source": [
    "# import libraries \n",
    "\n",
    "from bs4 import BeautifulSoup\n",
    "import requests\n",
    "import time\n",
    "import datetime\n",
    "\n"
   ]
  },
  {
   "cell_type": "code",
   "execution_count": 36,
   "id": "f0ab5583",
   "metadata": {},
   "outputs": [
    {
     "name": "stdout",
     "output_type": "stream",
     "text": [
      "\n",
      "           Adult SMALL Data Analytics lover Geek Culture T-shirt not another dashboard\n",
      "          \n",
      "\n",
      "\n",
      "\n",
      "\n",
      "\n",
      "\n",
      "                     US $45.00\n",
      "                     \n",
      "\n",
      "\n",
      "\n",
      "\n",
      "\n"
     ]
    }
   ],
   "source": [
    "URL = 'https://www.ebay.com/itm/293050407071?hash=item443b2a589f:g:Et4AAOSwXPNaEHkD&amdata=enc%3AAQAIAAAA4FXg0R%2FWYavNqh%2FMSbP15mUBhbT2d6xM1bNDm0df3UqBDA6nK8riIfE2hyoRj3StHX2kRiiwJDc5POiKBFvGr96a170zF4gssxdYUtfJuHwJUR7ZCIceodM2d389cyzkSfTHdbN0r7u5Y3v1kYPBNEt6Kn%2BGy2pCLv6k5ut%2FdVYPSaFJ%2Fe0%2FcXIzpcFesbggOjsuXhPCDkXNJwN5YRYdCp2Wv8LRHUfHEAG%2BR3dhTkwExs7W8%2BroVwplT8c7m47m6oacRg2IOy5Yatnq00WhdNZ0k%2FO7VC1M1eEh63vvNX5A%7Ctkp%3ABk9SR6jul4bvYQ'\n",
    "\n",
    "headers = {\"User-Agent\": \"Mozilla/5.0 (Macintosh; Intel Mac OS X 10_15_7) AppleWebKit/537.36 (KHTML, like Gecko) Chrome/111.0.0.0 Safari/537.36\"}\n",
    "\n",
    "page = requests.get(URL, headers=headers)\n",
    "\n",
    "soup1 = BeautifulSoup(page.content, \"html.parser\")\n",
    "\n",
    "soup2 = BeautifulSoup(soup1.prettify(), \"html.parser\")\n",
    "\n",
    "title = soup2.find(id = \"vi-lkhdr-itmTitl\").get_text()\n",
    "\n",
    "price = soup2.find('span', {'itemprop': 'price'}).get_text()\n",
    "\n",
    "\n",
    "print(title)\n",
    "print(price)\n",
    "\n"
   ]
  },
  {
   "cell_type": "code",
   "execution_count": 38,
   "id": "87087f6a",
   "metadata": {},
   "outputs": [
    {
     "name": "stdout",
     "output_type": "stream",
     "text": [
      "45.00\n",
      "Adult SMALL Data Analytics lover Geek Culture T-shirt not another dashboard\n"
     ]
    }
   ],
   "source": [
    "# Clean up data \n",
    "\n",
    "price = price.strip()[4:]\n",
    "title = title.strip()\n",
    "\n",
    "print(price)\n",
    "print(title)"
   ]
  },
  {
   "cell_type": "code",
   "execution_count": 40,
   "id": "b93cb027",
   "metadata": {},
   "outputs": [
    {
     "name": "stdout",
     "output_type": "stream",
     "text": [
      "2023-04-13\n"
     ]
    }
   ],
   "source": [
    "# Creating a timestamp to show when data was collected\n",
    "\n",
    "import datetime \n",
    "\n",
    "today = datetime.date.today()\n",
    "\n",
    "print(today)"
   ]
  },
  {
   "cell_type": "code",
   "execution_count": 42,
   "id": "7a88e219",
   "metadata": {},
   "outputs": [],
   "source": [
    "# Create a CSV \n",
    "\n",
    "import csv\n",
    "\n",
    "header = ['Title', 'Price', 'Date']\n",
    "\n",
    "data = [title, price, today]\n",
    "\n",
    "with open('EbayWebScraper.csv', 'w', newline='', encoding = 'UTF8') as f:\n",
    "    writer = csv.writer(f)\n",
    "    writer.writerow(header)\n",
    "    writer.writerow(data)\n",
    "\n"
   ]
  },
  {
   "cell_type": "code",
   "execution_count": 44,
   "id": "b7a76ac6",
   "metadata": {},
   "outputs": [
    {
     "name": "stdout",
     "output_type": "stream",
     "text": [
      "                                               Title  Price        Date\n",
      "0  Adult SMALL Data Analytics lover Geek Culture ...   45.0  2023-04-13\n"
     ]
    }
   ],
   "source": [
    "import pandas as pd\n",
    "\n",
    "df = pd.read_csv('/Users/mollygorman/Desktop/EbayWebScraper.csv')\n",
    "\n",
    "print(df)"
   ]
  },
  {
   "cell_type": "code",
   "execution_count": null,
   "id": "d24418d5",
   "metadata": {},
   "outputs": [],
   "source": [
    "# Appending Data to the csv\n",
    "\n",
    "with open('EbayWebScraper.csv', 'a+', newline='', encoding = 'UTF8') as f:\n",
    "    writer = csv.writer(f)\n",
    "    writer.writerow(data)"
   ]
  },
  {
   "cell_type": "code",
   "execution_count": 63,
   "id": "fee6f680",
   "metadata": {},
   "outputs": [],
   "source": [
    "# Combining all of the code into one function \n",
    "\n",
    "def check_price():\n",
    "\n",
    "    URL = 'https://www.ebay.com/itm/293050407071?hash=item443b2a589f:g:Et4AAOSwXPNaEHkD&amdata=enc%3AAQAIAAAA4FXg0R%2FWYavNqh%2FMSbP15mUBhbT2d6xM1bNDm0df3UqBDA6nK8riIfE2hyoRj3StHX2kRiiwJDc5POiKBFvGr96a170zF4gssxdYUtfJuHwJUR7ZCIceodM2d389cyzkSfTHdbN0r7u5Y3v1kYPBNEt6Kn%2BGy2pCLv6k5ut%2FdVYPSaFJ%2Fe0%2FcXIzpcFesbggOjsuXhPCDkXNJwN5YRYdCp2Wv8LRHUfHEAG%2BR3dhTkwExs7W8%2BroVwplT8c7m47m6oacRg2IOy5Yatnq00WhdNZ0k%2FO7VC1M1eEh63vvNX5A%7Ctkp%3ABk9SR6jul4bvYQ'\n",
    "\n",
    "    headers = {\"User-Agent\": \"Mozilla/5.0 (Macintosh; Intel Mac OS X 10_15_7) AppleWebKit/537.36 (KHTML, like Gecko) Chrome/111.0.0.0 Safari/537.36\"}\n",
    "\n",
    "    page = requests.get(URL, headers=headers)\n",
    "\n",
    "    soup1 = BeautifulSoup(page.content, \"html.parser\")\n",
    "\n",
    "    soup2 = BeautifulSoup(soup1.prettify(), \"html.parser\")\n",
    "\n",
    "    title = soup2.find(id = \"vi-lkhdr-itmTitl\").get_text()\n",
    "\n",
    "    price = soup2.find('span', {'itemprop': 'price'}).get_text()\n",
    "\n",
    "    price = price.strip()[4:]\n",
    "    title = title.strip()\n",
    "\n",
    "    import datetime \n",
    "\n",
    "    today = datetime.date.today()\n",
    "    \n",
    "    import csv\n",
    "\n",
    "    header = ['Title', 'Price', 'Date']\n",
    "\n",
    "    data = [title, price, today]\n",
    "    \n",
    "    with open('EbayWebScraper.csv', 'a+', newline='', encoding = 'UTF8') as f:\n",
    "        writer = csv.writer(f)\n",
    "        writer.writerow(data)\n",
    "        \n",
    "    #optional \n",
    "    #if(price <=25)\n",
    "    #send_mail()\n",
    "\n",
    "\n"
   ]
  },
  {
   "cell_type": "code",
   "execution_count": null,
   "id": "cab9063a",
   "metadata": {},
   "outputs": [],
   "source": [
    "#automated running \n",
    "\n",
    "while(True):\n",
    "    check_price()\n",
    "    time.sleep(86400)\n",
    "    \n",
    "#runs in seconds"
   ]
  },
  {
   "cell_type": "code",
   "execution_count": 66,
   "id": "c33edc2f",
   "metadata": {},
   "outputs": [],
   "source": [
    "import pandas as pd\n",
    "\n",
    "df = pd.read_csv('/Users/mollygorman/Desktop/EbayWebScraper.csv')\n",
    "\n",
    "print(df)\n",
    "\n",
    "#check to see if it worked"
   ]
  },
  {
   "cell_type": "code",
   "execution_count": null,
   "id": "2691d6a6",
   "metadata": {},
   "outputs": [],
   "source": []
  },
  {
   "cell_type": "code",
   "execution_count": null,
   "id": "385fb00c",
   "metadata": {},
   "outputs": [],
   "source": [
    "# if you wanted to send yourself an email when the price drops to something more in your range\n",
    "\n",
    "\n",
    "def send_mail():\n",
    "    server = smtplib.SMTP_SSL('smtp.gmail.com',465)\n",
    "    server.ehlo()\n",
    "    #server.starttls()\n",
    "    server.ehlo()\n",
    "    server.login('mollyggorman@gmail.com','xxxxxxxxxxxxx') # x is password \n",
    "    \n",
    "    subject = \"The Shirt you want is below $25! Now is your chance to buy!\"\n",
    "    body = \"Hey, the shirt you like just dropped in price! Check it out, here's the link: https://www.ebay.com/itm/293050407071?hash=item443b2a589f:g:Et4AAOSwXPNaEHkD&amdata=enc%3AAQAIAAAA4FXg0R%2FWYavNqh%2FMSbP15mUBhbT2d6xM1bNDm0df3UqBDA6nK8riIfE2hyoRj3StHX2kRiiwJDc5POiKBFvGr96a170zF4gssxdYUtfJuHwJUR7ZCIceodM2d389cyzkSfTHdbN0r7u5Y3v1kYPBNEt6Kn%2BGy2pCLv6k5ut%2FdVYPSaFJ%2Fe0%2FcXIzpcFesbggOjsuXhPCDkXNJwN5YRYdCp2Wv8LRHUfHEAG%2BR3dhTkwExs7W8%2BroVwplT8c7m47m6oacRg2IOy5Yatnq00WhdNZ0k%2FO7VC1M1eEh63vvNX5A%7Ctkp%3ABk9SR6jul4bvYQ\"\n",
    "   \n",
    "    msg = f\"Subject: {subject}\\n\\n{body}\"\n",
    "    \n",
    "    server.sendmail(\n",
    "        'mollyggorman@gmail.com',\n",
    "        msg\n",
    "     \n",
    "    )"
   ]
  }
 ],
 "metadata": {
  "kernelspec": {
   "display_name": "Python 3 (ipykernel)",
   "language": "python",
   "name": "python3"
  },
  "language_info": {
   "codemirror_mode": {
    "name": "ipython",
    "version": 3
   },
   "file_extension": ".py",
   "mimetype": "text/x-python",
   "name": "python",
   "nbconvert_exporter": "python",
   "pygments_lexer": "ipython3",
   "version": "3.10.9"
  }
 },
 "nbformat": 4,
 "nbformat_minor": 5
}
