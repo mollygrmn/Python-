{
 "cells": [
  {
   "cell_type": "markdown",
   "id": "e77b6bc4",
   "metadata": {},
   "source": [
    "# Building a BMI Calculator "
   ]
  },
  {
   "cell_type": "code",
   "execution_count": null,
   "id": "280837e7",
   "metadata": {},
   "outputs": [],
   "source": [
    "name = input('Enter your name: ')\n",
    "\n",
    "weight = int(input(\"Enter your weight in pounds: \"))\n",
    "\n",
    "height = int(input(\"Enter your height in inches: \"))\n",
    "\n",
    "BMI = (weight * 703) / (height * height)\n",
    "\n",
    "print(BMI)\n",
    "\n",
    "if BMI > 0:\n",
    "    if(BMI < 18.5):\n",
    "        print(name + ', you are underweight')\n",
    "    elif(BMI <= 24.9):\n",
    "        print(name + ', you are normal weight')\n",
    "    elif(BMI <= 29.9):\n",
    "        print(name + ', you are overweight')\n",
    "    elif(BMI <= 34.9):\n",
    "        print(name + ', you are obese')\n",
    "    elif(BMI <= 39.9):\n",
    "        print(name + ', you are severely obese')\n",
    "    elif(BMI >= 40):\n",
    "        print(name + ', you are morbidly obese')\n",
    "else:\n",
    "        print('Enter valid input')"
   ]
  },
  {
   "cell_type": "code",
   "execution_count": null,
   "id": "e3545561",
   "metadata": {},
   "outputs": [],
   "source": []
  },
  {
   "cell_type": "code",
   "execution_count": null,
   "id": "b55bf26a",
   "metadata": {},
   "outputs": [],
   "source": []
  },
  {
   "cell_type": "code",
   "execution_count": null,
   "id": "229a99dc",
   "metadata": {},
   "outputs": [],
   "source": [
    "#BMI = (weight in pounds x 703) / (height in inches x height in inches)\n"
   ]
  },
  {
   "cell_type": "code",
   "execution_count": null,
   "id": "ef7a5a43",
   "metadata": {},
   "outputs": [],
   "source": [
    "Under 18.5\tUnderweight\tMinimal\n",
    "18.5 - 24.9\tNormal Weight\tMinimal\n",
    "25 - 29.9\tOverweight\tIncreased\n",
    "30 - 34.9\tObese\tHigh\n",
    "35 - 39.9\tSeverely Obese\tVery High\n",
    "40 and over\tMorbidly Obese\tExtremely High"
   ]
  },
  {
   "cell_type": "code",
   "execution_count": null,
   "id": "e319ce55",
   "metadata": {},
   "outputs": [],
   "source": []
  },
  {
   "cell_type": "code",
   "execution_count": 9,
   "id": "f6617ba9",
   "metadata": {},
   "outputs": [
    {
     "name": "stdout",
     "output_type": "stream",
     "text": [
      "Molly, you are normal weight\n"
     ]
    }
   ],
   "source": [
    "if BMI > 0:\n",
    "    if(BMI < 18.5):\n",
    "        print(name + ', you are underweight')\n",
    "    elif(BMI <= 24.9):\n",
    "        print(name + ', you are normal weight')\n",
    "    elif(BMI <= 29.9):\n",
    "        print(name + ', you are overweight')\n",
    "    elif(BMI <= 34.9):\n",
    "        print(name + ', you are obese')\n",
    "    elif(BMI <= 39.9):\n",
    "        print(name + ', you are severely obese')\n",
    "    elif(BMI >= 40):\n",
    "        print(name + ', you are morbidly obese')\n",
    "else:\n",
    "        print('Enter valid input')"
   ]
  },
  {
   "cell_type": "code",
   "execution_count": null,
   "id": "1b6de37b",
   "metadata": {},
   "outputs": [],
   "source": []
  },
  {
   "cell_type": "code",
   "execution_count": null,
   "id": "4841d022",
   "metadata": {},
   "outputs": [],
   "source": []
  },
  {
   "cell_type": "code",
   "execution_count": null,
   "id": "af8c05ec",
   "metadata": {},
   "outputs": [],
   "source": []
  },
  {
   "cell_type": "code",
   "execution_count": null,
   "id": "c43294f0",
   "metadata": {},
   "outputs": [],
   "source": []
  }
 ],
 "metadata": {
  "kernelspec": {
   "display_name": "Python 3 (ipykernel)",
   "language": "python",
   "name": "python3"
  },
  "language_info": {
   "codemirror_mode": {
    "name": "ipython",
    "version": 3
   },
   "file_extension": ".py",
   "mimetype": "text/x-python",
   "name": "python",
   "nbconvert_exporter": "python",
   "pygments_lexer": "ipython3",
   "version": "3.10.9"
  }
 },
 "nbformat": 4,
 "nbformat_minor": 5
}
