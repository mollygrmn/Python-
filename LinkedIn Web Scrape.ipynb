{
 "cells": [
  {
   "cell_type": "code",
   "execution_count": null,
   "id": "42cac46f",
   "metadata": {},
   "outputs": [],
   "source": [
    "# First we need to install the selenium package "
   ]
  },
  {
   "cell_type": "code",
   "execution_count": 3,
   "id": "a704d810",
   "metadata": {},
   "outputs": [
    {
     "name": "stdout",
     "output_type": "stream",
     "text": [
      "Collecting selenium\n",
      "  Downloading selenium-4.8.3-py3-none-any.whl (6.5 MB)\n",
      "\u001b[2K     \u001b[90m━━━━━━━━━━━━━━━━━━━━━━━━━━━━━━━━━━━━━━━━\u001b[0m \u001b[32m6.5/6.5 MB\u001b[0m \u001b[31m7.1 MB/s\u001b[0m eta \u001b[36m0:00:00\u001b[0m00:01\u001b[0m00:01\u001b[0m\n",
      "\u001b[?25hCollecting trio~=0.17\n",
      "  Downloading trio-0.22.0-py3-none-any.whl (384 kB)\n",
      "\u001b[2K     \u001b[90m━━━━━━━━━━━━━━━━━━━━━━━━━━━━━━━━━━━━━━━\u001b[0m \u001b[32m384.9/384.9 kB\u001b[0m \u001b[31m8.6 MB/s\u001b[0m eta \u001b[36m0:00:00\u001b[0m00:01\u001b[0m\n",
      "\u001b[?25hCollecting trio-websocket~=0.9\n",
      "  Downloading trio_websocket-0.10.2-py3-none-any.whl (17 kB)\n",
      "Requirement already satisfied: certifi>=2021.10.8 in ./anaconda3/lib/python3.10/site-packages (from selenium) (2022.12.7)\n",
      "Requirement already satisfied: urllib3[socks]~=1.26 in ./anaconda3/lib/python3.10/site-packages (from selenium) (1.26.14)\n",
      "Requirement already satisfied: attrs>=19.2.0 in ./anaconda3/lib/python3.10/site-packages (from trio~=0.17->selenium) (22.1.0)\n",
      "Requirement already satisfied: idna in ./anaconda3/lib/python3.10/site-packages (from trio~=0.17->selenium) (3.4)\n",
      "Requirement already satisfied: sortedcontainers in ./anaconda3/lib/python3.10/site-packages (from trio~=0.17->selenium) (2.4.0)\n",
      "Requirement already satisfied: sniffio in ./anaconda3/lib/python3.10/site-packages (from trio~=0.17->selenium) (1.2.0)\n",
      "Collecting async-generator>=1.9\n",
      "  Downloading async_generator-1.10-py3-none-any.whl (18 kB)\n",
      "Collecting exceptiongroup>=1.0.0rc9\n",
      "  Downloading exceptiongroup-1.1.1-py3-none-any.whl (14 kB)\n",
      "Collecting outcome\n",
      "  Downloading outcome-1.2.0-py2.py3-none-any.whl (9.7 kB)\n",
      "Collecting wsproto>=0.14\n",
      "  Downloading wsproto-1.2.0-py3-none-any.whl (24 kB)\n",
      "Requirement already satisfied: PySocks!=1.5.7,<2.0,>=1.5.6 in ./anaconda3/lib/python3.10/site-packages (from urllib3[socks]~=1.26->selenium) (1.7.1)\n",
      "Collecting h11<1,>=0.9.0\n",
      "  Downloading h11-0.14.0-py3-none-any.whl (58 kB)\n",
      "\u001b[2K     \u001b[90m━━━━━━━━━━━━━━━━━━━━━━━━━━━━━━━━━━━━━━━━\u001b[0m \u001b[32m58.3/58.3 kB\u001b[0m \u001b[31m8.2 MB/s\u001b[0m eta \u001b[36m0:00:00\u001b[0m\n",
      "\u001b[?25hInstalling collected packages: outcome, h11, exceptiongroup, async-generator, wsproto, trio, trio-websocket, selenium\n",
      "Successfully installed async-generator-1.10 exceptiongroup-1.1.1 h11-0.14.0 outcome-1.2.0 selenium-4.8.3 trio-0.22.0 trio-websocket-0.10.2 wsproto-1.2.0\n"
     ]
    }
   ],
   "source": [
    "!pip install selenium\n"
   ]
  },
  {
   "cell_type": "code",
   "execution_count": 28,
   "id": "90c858e3",
   "metadata": {},
   "outputs": [],
   "source": [
    "# now that it is installed we can extract the driver\n",
    "\n",
    "import zipfile\n",
    "\n",
    "zip_file = zipfile.ZipFile('/Users/mollygorman/Downloads/chromedriver_mac64.zip')\n",
    "\n",
    "zip_file.extractall('LinkedIn')\n"
   ]
  },
  {
   "cell_type": "code",
   "execution_count": 31,
   "id": "2812ca8a",
   "metadata": {},
   "outputs": [],
   "source": [
    "#testing to see if the driver was properly installed\n",
    "\n",
    "from time import sleep\n",
    "from selenium import webdriver\n",
    "browser = webdriver.Chrome()\n",
    "browser.get('https://www.linkedin.com/jobs/search/?currentJobId=3443880210&f_WT=2&keywords=junior%20data%20analyst&refresh=true')\n",
    "sleep(5)\n",
    "browser.close()\n",
    "\n",
    "# it was properly installed, a LinkedIn browser was opened and then closed after 5 seconds"
   ]
  },
  {
   "cell_type": "code",
   "execution_count": 127,
   "id": "9ad813ee",
   "metadata": {},
   "outputs": [],
   "source": [
    "# import necessary packages\n",
    "\n",
    "from selenium import webdriver\n",
    "import time\n",
    "import pandas as pd\n",
    "import os\n",
    "\n",
    "from selenium.webdriver.support.select import Select\n",
    "from selenium.webdriver.support.ui import WebDriverWait\n",
    "from selenium.webdriver.common.by import By\n",
    "from selenium.webdriver.support import expected_conditions as EC"
   ]
  },
  {
   "cell_type": "code",
   "execution_count": 128,
   "id": "22e08892",
   "metadata": {},
   "outputs": [],
   "source": [
    "url1='https://www.linkedin.com/jobs/search/?keywords=Junior%20Data%20Analyst&location=United%20States&locationId=&geoId=103644278&f_TPR=&f_E=2&f_WT=2&position=1&pageNum=0'\n",
    "\n"
   ]
  },
  {
   "cell_type": "code",
   "execution_count": 129,
   "id": "de8ef266",
   "metadata": {},
   "outputs": [],
   "source": [
    "browser = webdriver.Chrome()\n",
    "browser.implicitly_wait(10)\n",
    "browser.get(url1)"
   ]
  },
  {
   "cell_type": "code",
   "execution_count": 130,
   "id": "c8b2f748",
   "metadata": {},
   "outputs": [],
   "source": [
    "# now we need to find the number of job listings which we can do by inspecting the page of the browser that was opened\n",
    "\n",
    "\n",
    "element = browser.find_elements(By.CLASS_NAME, \"results-context-header__job-count\")[0].text\n"
   ]
  },
  {
   "cell_type": "code",
   "execution_count": 131,
   "id": "632ac579",
   "metadata": {},
   "outputs": [
    {
     "name": "stdout",
     "output_type": "stream",
     "text": [
      "9,000+\n"
     ]
    },
    {
     "data": {
      "text/plain": [
       "str"
      ]
     },
     "execution_count": 131,
     "metadata": {},
     "output_type": "execute_result"
    }
   ],
   "source": [
    "print(element)\n",
    "type(element)"
   ]
  },
  {
   "cell_type": "code",
   "execution_count": 132,
   "id": "22058fd9",
   "metadata": {},
   "outputs": [],
   "source": [
    "# Because my results came back so large to be able to convert I need to first remove the comma and + sign\n",
    "\n",
    "element = \"9,000+\"\n",
    "element = element.replace(\",\", \"\").replace(\"+\", \"\")\n",
    "\n",
    "# now I can convert\n",
    "\n",
    "ele_num = pd.to_numeric(element)\n"
   ]
  },
  {
   "cell_type": "code",
   "execution_count": 133,
   "id": "2c1981bb",
   "metadata": {},
   "outputs": [
    {
     "name": "stdout",
     "output_type": "stream",
     "text": [
      "9000\n"
     ]
    },
    {
     "data": {
      "text/plain": [
       "numpy.int64"
      ]
     },
     "execution_count": 133,
     "metadata": {},
     "output_type": "execute_result"
    }
   ],
   "source": [
    "print(ele_num)\n",
    "type(ele_num)"
   ]
  },
  {
   "cell_type": "code",
   "execution_count": 134,
   "id": "0975a301",
   "metadata": {},
   "outputs": [],
   "source": [
    "# create a loop it will scroll infinitely until there is no more jobs to load\n",
    "\n",
    "i=2\n",
    "while i <=16:\n",
    "    browser.execute_script(\"window.scrollTo(0, document.body.scrollHeight);\")\n",
    "    i=i+1\n",
    "    \n",
    "    try:\n",
    "        x=browser.find_elements(By.XPATH,'//button[@aria-label=\"See more jobs\"]')\n",
    "        \n",
    "        driver.execute_script(\"arguments[0].click();\", x)   \n",
    "        time.sleep(3)\n",
    "        \n",
    "        \n",
    "    except:\n",
    "        pass\n",
    "        time.sleep(4)"
   ]
  },
  {
   "cell_type": "code",
   "execution_count": 135,
   "id": "cf03f0ac",
   "metadata": {},
   "outputs": [],
   "source": [
    "# Create an empty list for company name and job title\n",
    "\n",
    "company_name = []\n",
    "job_title = []"
   ]
  },
  {
   "cell_type": "code",
   "execution_count": 136,
   "id": "18632370",
   "metadata": {},
   "outputs": [],
   "source": [
    "ele_num = 200 # assume you want to loop through 200 elements\n",
    "count = 0 # initialize a counter\n",
    "\n",
    "for i in range(ele_num):\n",
    "    if count >= 100: # if the counter reaches 100, break out of the loop\n",
    "        break\n",
    "    try:\n",
    "        company = browser.find_elements(By.CLASS_NAME, 'base-search-card__subtitle')[i].text \n",
    "        company_name.append(company)\n",
    "        count += 1 # increment the counter after each successful iteration\n",
    "    except IndexError:\n",
    "        print(\"Done\")\n"
   ]
  },
  {
   "cell_type": "code",
   "execution_count": 137,
   "id": "7c8e3f38",
   "metadata": {},
   "outputs": [
    {
     "data": {
      "text/plain": [
       "100"
      ]
     },
     "execution_count": 137,
     "metadata": {},
     "output_type": "execute_result"
    }
   ],
   "source": [
    "len(company_name)"
   ]
  },
  {
   "cell_type": "code",
   "execution_count": 82,
   "id": "c1126c8a",
   "metadata": {},
   "outputs": [],
   "source": [
    "# Find the company name then append it to the empty list\n",
    "\n",
    "# There were too many to go through so I edited it to break after 100 ^^^\n",
    "\n",
    "#for i in range(ele_num):\n",
    "    \n",
    "    #try:\n",
    "        #company = browser.find_elements(By.CLASS_NAME, 'base-search-card__subtitle')[i].text \n",
    "        #company_name = append(company)\n",
    "    \n",
    "    #except IndexError:\n",
    "        #print(\"Done\")"
   ]
  },
  {
   "cell_type": "code",
   "execution_count": 138,
   "id": "83b392c9",
   "metadata": {},
   "outputs": [],
   "source": [
    "# Find the Job Title and append it to the empty list \n",
    "\n",
    "# I will create a break in this one as well \n",
    "ele_num = 200\n",
    "count = 0\n",
    "\n",
    "for i in range(ele_num):\n",
    "    if count >= 100:\n",
    "        break\n",
    "    try:\n",
    "        title = browser.find_elements(By.CLASS_NAME,'base-search-card__title')[i].text\n",
    "        job_title.append(title)\n",
    "        count += 1\n",
    "    except IndexError:\n",
    "        print(\"Done\")"
   ]
  },
  {
   "cell_type": "code",
   "execution_count": 139,
   "id": "acbc1d54",
   "metadata": {},
   "outputs": [
    {
     "data": {
      "text/plain": [
       "100"
      ]
     },
     "execution_count": 139,
     "metadata": {},
     "output_type": "execute_result"
    }
   ],
   "source": [
    "len(job_title)"
   ]
  },
  {
   "cell_type": "code",
   "execution_count": 140,
   "id": "f11a63dc",
   "metadata": {},
   "outputs": [],
   "source": [
    "# Now we can create a data frame to hold our lists\n",
    "\n",
    "companyname = pd.DataFrame(company_name,columns = [\"company\"])\n",
    "jobtitle = pd.DataFrame(job_title, columns = [\"title\"])"
   ]
  },
  {
   "cell_type": "code",
   "execution_count": 141,
   "id": "807fb9a3",
   "metadata": {},
   "outputs": [],
   "source": [
    "# Join the 2 frames\n",
    "\n",
    "final = companyname.join(jobtitle)"
   ]
  },
  {
   "cell_type": "code",
   "execution_count": 112,
   "id": "8c680f46",
   "metadata": {},
   "outputs": [
    {
     "name": "stdout",
     "output_type": "stream",
     "text": [
      "                                    company  \\\n",
      "0                                 HireMatch   \n",
      "1                                    Avispa   \n",
      "2                                  UpStream   \n",
      "3                                    Xevant   \n",
      "4   Get It Recruit - Information Technology   \n",
      "..                                      ...   \n",
      "95                     Contech Systems Inc.   \n",
      "96                         HexaQuEST Global   \n",
      "97                        InfiCare Staffing   \n",
      "98  Get It Recruit - Information Technology   \n",
      "99                          TechTammina LLC   \n",
      "\n",
      "                                            title  \n",
      "0     Associate Data Analyst / Full-time (Remote)  \n",
      "1                 Data Analyst - Customer Success  \n",
      "2                            Quality Data Analyst  \n",
      "3                            Data Quality Analyst  \n",
      "4     Data analyst quality advisor - Remote | WFH  \n",
      "..                                            ...  \n",
      "95                  Digital Data Analyst - Remote  \n",
      "96                          Data Analyst - Remote  \n",
      "97                 Data Analyst(Initially Remote)  \n",
      "98                    Data Analyst - Remote | WFH  \n",
      "99  Data Analyst with Tableau, SQL/NoSQL, PowerBI  \n",
      "\n",
      "[100 rows x 2 columns]\n"
     ]
    }
   ],
   "source": [
    "print(final)"
   ]
  },
  {
   "cell_type": "code",
   "execution_count": 142,
   "id": "1bdcc693",
   "metadata": {},
   "outputs": [],
   "source": [
    "# now we can create a csv for the new data frame\n",
    "\n",
    "final.to_csv('linkedinjobs.csv')"
   ]
  },
  {
   "cell_type": "code",
   "execution_count": null,
   "id": "db77ebd8",
   "metadata": {},
   "outputs": [],
   "source": [
    "# CSV has been saved to my notebook that I can download and use in Excel"
   ]
  },
  {
   "cell_type": "code",
   "execution_count": null,
   "id": "ad5779ac",
   "metadata": {},
   "outputs": [],
   "source": [
    "# Now we can add the links to each of those postings to view later on"
   ]
  },
  {
   "cell_type": "code",
   "execution_count": 143,
   "id": "c03cfea1",
   "metadata": {},
   "outputs": [],
   "source": [
    "linklist = []\n",
    "findlink = browser.find_elements(By.CLASS_NAME, 'base-card__full-link')\n",
    "\n",
    "for w in findlink:\n",
    "    if len(linklist) >= 100: \n",
    "        break\n",
    "    linklist.append(w.get_attribute('href'))"
   ]
  },
  {
   "cell_type": "code",
   "execution_count": null,
   "id": "8de12ec6",
   "metadata": {},
   "outputs": [],
   "source": [
    "#linklist, links are there"
   ]
  },
  {
   "cell_type": "code",
   "execution_count": 145,
   "id": "88042d4f",
   "metadata": {},
   "outputs": [],
   "source": [
    "# convert to data frame\n",
    "\n",
    "links = pd.DataFrame(linklist, columns = ['findlink'])"
   ]
  },
  {
   "cell_type": "code",
   "execution_count": 157,
   "id": "362040fc",
   "metadata": {},
   "outputs": [],
   "source": [
    "# now we can add this to the other frames using the 'final' we created with the other 2 dataframes\n",
    "\n",
    "finalwithlinks = final.join(links)"
   ]
  },
  {
   "cell_type": "code",
   "execution_count": 158,
   "id": "b8f0a237",
   "metadata": {},
   "outputs": [
    {
     "name": "stdout",
     "output_type": "stream",
     "text": [
      "                                    company  \\\n",
      "0                                 HireMatch   \n",
      "1                                    Avispa   \n",
      "2                                  UpStream   \n",
      "3                                    Xevant   \n",
      "4   Get It Recruit - Information Technology   \n",
      "..                                      ...   \n",
      "95                       MillenniumSoft Inc   \n",
      "96                     Contech Systems Inc.   \n",
      "97                         HexaQuEST Global   \n",
      "98  Get It Recruit - Information Technology   \n",
      "99                          TechTammina LLC   \n",
      "\n",
      "                                                title  \\\n",
      "0         Associate Data Analyst / Full-time (Remote)   \n",
      "1                     Data Analyst - Customer Success   \n",
      "2                                Quality Data Analyst   \n",
      "3                                Data Quality Analyst   \n",
      "4         Data analyst quality advisor - Remote | WFH   \n",
      "..                                                ...   \n",
      "95  Data Analyst Assistant - Remote East Coast Onl...   \n",
      "96                      Digital Data Analyst - Remote   \n",
      "97                              Data Analyst - Remote   \n",
      "98                        Data Analyst - Remote | WFH   \n",
      "99      Data Analyst with Tableau, SQL/NoSQL, PowerBI   \n",
      "\n",
      "                                             findlink  \n",
      "0   https://www.linkedin.com/jobs/view/associate-d...  \n",
      "1   https://www.linkedin.com/jobs/view/data-analys...  \n",
      "2   https://www.linkedin.com/jobs/view/quality-dat...  \n",
      "3   https://www.linkedin.com/jobs/view/data-qualit...  \n",
      "4   https://www.linkedin.com/jobs/view/data-analys...  \n",
      "..                                                ...  \n",
      "95  https://www.linkedin.com/jobs/view/data-analys...  \n",
      "96  https://www.linkedin.com/jobs/view/digital-dat...  \n",
      "97  https://www.linkedin.com/jobs/view/data-analys...  \n",
      "98  https://www.linkedin.com/jobs/view/data-analys...  \n",
      "99  https://www.linkedin.com/jobs/view/data-analys...  \n",
      "\n",
      "[100 rows x 3 columns]\n"
     ]
    }
   ],
   "source": [
    "print(finalwithlinks)"
   ]
  },
  {
   "cell_type": "code",
   "execution_count": 159,
   "id": "a725a5fa",
   "metadata": {},
   "outputs": [],
   "source": [
    "# And convert to CSV as well\n",
    "\n",
    "finalwithlinks.to_csv('search.csv')"
   ]
  },
  {
   "cell_type": "code",
   "execution_count": 149,
   "id": "5a159729",
   "metadata": {},
   "outputs": [],
   "source": [
    "# close the driver\n",
    "\n",
    "# browser.close()"
   ]
  },
  {
   "cell_type": "code",
   "execution_count": null,
   "id": "237ea82c",
   "metadata": {},
   "outputs": [],
   "source": []
  },
  {
   "cell_type": "code",
   "execution_count": null,
   "id": "aca664c5",
   "metadata": {},
   "outputs": [],
   "source": []
  }
 ],
 "metadata": {
  "kernelspec": {
   "display_name": "Python 3 (ipykernel)",
   "language": "python",
   "name": "python3"
  },
  "language_info": {
   "codemirror_mode": {
    "name": "ipython",
    "version": 3
   },
   "file_extension": ".py",
   "mimetype": "text/x-python",
   "name": "python",
   "nbconvert_exporter": "python",
   "pygments_lexer": "ipython3",
   "version": "3.10.9"
  }
 },
 "nbformat": 4,
 "nbformat_minor": 5
}
