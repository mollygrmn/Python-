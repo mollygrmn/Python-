{
 "cells": [
  {
   "cell_type": "code",
   "execution_count": 1,
   "id": "f8bf3653",
   "metadata": {},
   "outputs": [],
   "source": [
    "## Importing Packages\n",
    "\n",
    "\n",
    "import numpy as np\n",
    "import pandas as pd\n",
    "import matplotlib.pyplot as plt\n",
    "import seaborn as sns"
   ]
  },
  {
   "cell_type": "markdown",
   "id": "abfd79f2",
   "metadata": {},
   "source": [
    "## Amazon Sales Challenge \n",
    " Clean and Analyze the Amazon Sales Set from Kaggle https://www.kaggle.com/datasets/karkavelrajaj/amazon-sales-dataset\n",
    " And Analyze the number of discounts and the average & median discount percentage per category"
   ]
  },
  {
   "cell_type": "code",
   "execution_count": 6,
   "id": "86e4d364",
   "metadata": {},
   "outputs": [],
   "source": [
    "## importing the data \n",
    "\n",
    "df = pd.read_csv(r'/Users/mollygorman/Documents/Kaggle Data Sets/amazon.csv')"
   ]
  },
  {
   "cell_type": "code",
   "execution_count": null,
   "id": "12d804dc",
   "metadata": {},
   "outputs": [],
   "source": [
    "# First thing to do is clean the data and remove any duplicates, fill in an missing info & change data types"
   ]
  },
  {
   "cell_type": "code",
   "execution_count": 7,
   "id": "e0401f31",
   "metadata": {},
   "outputs": [
    {
     "data": {
      "text/html": [
       "<div>\n",
       "<style scoped>\n",
       "    .dataframe tbody tr th:only-of-type {\n",
       "        vertical-align: middle;\n",
       "    }\n",
       "\n",
       "    .dataframe tbody tr th {\n",
       "        vertical-align: top;\n",
       "    }\n",
       "\n",
       "    .dataframe thead th {\n",
       "        text-align: right;\n",
       "    }\n",
       "</style>\n",
       "<table border=\"1\" class=\"dataframe\">\n",
       "  <thead>\n",
       "    <tr style=\"text-align: right;\">\n",
       "      <th></th>\n",
       "      <th>product_id</th>\n",
       "      <th>product_name</th>\n",
       "      <th>category</th>\n",
       "      <th>discounted_price</th>\n",
       "      <th>actual_price</th>\n",
       "      <th>discount_percentage</th>\n",
       "      <th>rating</th>\n",
       "      <th>rating_count</th>\n",
       "      <th>about_product</th>\n",
       "      <th>user_id</th>\n",
       "      <th>user_name</th>\n",
       "      <th>review_id</th>\n",
       "      <th>review_title</th>\n",
       "      <th>review_content</th>\n",
       "      <th>img_link</th>\n",
       "      <th>product_link</th>\n",
       "    </tr>\n",
       "  </thead>\n",
       "  <tbody>\n",
       "    <tr>\n",
       "      <th>0</th>\n",
       "      <td>B07JW9H4J1</td>\n",
       "      <td>Wayona Nylon Braided USB to Lightning Fast Cha...</td>\n",
       "      <td>Computers&amp;Accessories|Accessories&amp;Peripherals|...</td>\n",
       "      <td>₹399</td>\n",
       "      <td>₹1,099</td>\n",
       "      <td>64%</td>\n",
       "      <td>4.2</td>\n",
       "      <td>24,269</td>\n",
       "      <td>High Compatibility : Compatible With iPhone 12...</td>\n",
       "      <td>AG3D6O4STAQKAY2UVGEUV46KN35Q,AHMY5CWJMMK5BJRBB...</td>\n",
       "      <td>Manav,Adarsh gupta,Sundeep,S.Sayeed Ahmed,jasp...</td>\n",
       "      <td>R3HXWT0LRP0NMF,R2AJM3LFTLZHFO,R6AQJGUP6P86,R1K...</td>\n",
       "      <td>Satisfied,Charging is really fast,Value for mo...</td>\n",
       "      <td>Looks durable Charging is fine tooNo complains...</td>\n",
       "      <td>https://m.media-amazon.com/images/W/WEBP_40237...</td>\n",
       "      <td>https://www.amazon.in/Wayona-Braided-WN3LG1-Sy...</td>\n",
       "    </tr>\n",
       "    <tr>\n",
       "      <th>1</th>\n",
       "      <td>B098NS6PVG</td>\n",
       "      <td>Ambrane Unbreakable 60W / 3A Fast Charging 1.5...</td>\n",
       "      <td>Computers&amp;Accessories|Accessories&amp;Peripherals|...</td>\n",
       "      <td>₹199</td>\n",
       "      <td>₹349</td>\n",
       "      <td>43%</td>\n",
       "      <td>4.0</td>\n",
       "      <td>43,994</td>\n",
       "      <td>Compatible with all Type C enabled devices, be...</td>\n",
       "      <td>AECPFYFQVRUWC3KGNLJIOREFP5LQ,AGYYVPDD7YG7FYNBX...</td>\n",
       "      <td>ArdKn,Nirbhay kumar,Sagar Viswanathan,Asp,Plac...</td>\n",
       "      <td>RGIQEG07R9HS2,R1SMWZQ86XIN8U,R2J3Y1WL29GWDE,RY...</td>\n",
       "      <td>A Good Braided Cable for Your Type C Device,Go...</td>\n",
       "      <td>I ordered this cable to connect my phone to An...</td>\n",
       "      <td>https://m.media-amazon.com/images/W/WEBP_40237...</td>\n",
       "      <td>https://www.amazon.in/Ambrane-Unbreakable-Char...</td>\n",
       "    </tr>\n",
       "    <tr>\n",
       "      <th>2</th>\n",
       "      <td>B096MSW6CT</td>\n",
       "      <td>Sounce Fast Phone Charging Cable &amp; Data Sync U...</td>\n",
       "      <td>Computers&amp;Accessories|Accessories&amp;Peripherals|...</td>\n",
       "      <td>₹199</td>\n",
       "      <td>₹1,899</td>\n",
       "      <td>90%</td>\n",
       "      <td>3.9</td>\n",
       "      <td>7,928</td>\n",
       "      <td>【 Fast Charger&amp; Data Sync】-With built-in safet...</td>\n",
       "      <td>AGU3BBQ2V2DDAMOAKGFAWDDQ6QHA,AESFLDV2PT363T2AQ...</td>\n",
       "      <td>Kunal,Himanshu,viswanath,sai niharka,saqib mal...</td>\n",
       "      <td>R3J3EQQ9TZI5ZJ,R3E7WBGK7ID0KV,RWU79XKQ6I1QF,R2...</td>\n",
       "      <td>Good speed for earlier versions,Good Product,W...</td>\n",
       "      <td>Not quite durable and sturdy,https://m.media-a...</td>\n",
       "      <td>https://m.media-amazon.com/images/W/WEBP_40237...</td>\n",
       "      <td>https://www.amazon.in/Sounce-iPhone-Charging-C...</td>\n",
       "    </tr>\n",
       "    <tr>\n",
       "      <th>3</th>\n",
       "      <td>B08HDJ86NZ</td>\n",
       "      <td>boAt Deuce USB 300 2 in 1 Type-C &amp; Micro USB S...</td>\n",
       "      <td>Computers&amp;Accessories|Accessories&amp;Peripherals|...</td>\n",
       "      <td>₹329</td>\n",
       "      <td>₹699</td>\n",
       "      <td>53%</td>\n",
       "      <td>4.2</td>\n",
       "      <td>94,363</td>\n",
       "      <td>The boAt Deuce USB 300 2 in 1 cable is compati...</td>\n",
       "      <td>AEWAZDZZJLQUYVOVGBEUKSLXHQ5A,AG5HTSFRRE6NL3M5S...</td>\n",
       "      <td>Omkar dhale,JD,HEMALATHA,Ajwadh a.,amar singh ...</td>\n",
       "      <td>R3EEUZKKK9J36I,R3HJVYCLYOY554,REDECAZ7AMPQC,R1...</td>\n",
       "      <td>Good product,Good one,Nice,Really nice product...</td>\n",
       "      <td>Good product,long wire,Charges good,Nice,I bou...</td>\n",
       "      <td>https://m.media-amazon.com/images/I/41V5FtEWPk...</td>\n",
       "      <td>https://www.amazon.in/Deuce-300-Resistant-Tang...</td>\n",
       "    </tr>\n",
       "    <tr>\n",
       "      <th>4</th>\n",
       "      <td>B08CF3B7N1</td>\n",
       "      <td>Portronics Konnect L 1.2M Fast Charging 3A 8 P...</td>\n",
       "      <td>Computers&amp;Accessories|Accessories&amp;Peripherals|...</td>\n",
       "      <td>₹154</td>\n",
       "      <td>₹399</td>\n",
       "      <td>61%</td>\n",
       "      <td>4.2</td>\n",
       "      <td>16,905</td>\n",
       "      <td>[CHARGE &amp; SYNC FUNCTION]- This cable comes wit...</td>\n",
       "      <td>AE3Q6KSUK5P75D5HFYHCRAOLODSA,AFUGIFH5ZAFXRDSZH...</td>\n",
       "      <td>rahuls6099,Swasat Borah,Ajay Wadke,Pranali,RVK...</td>\n",
       "      <td>R1BP4L2HH9TFUP,R16PVJEXKV6QZS,R2UPDB81N66T4P,R...</td>\n",
       "      <td>As good as original,Decent,Good one for second...</td>\n",
       "      <td>Bought this instead of original apple, does th...</td>\n",
       "      <td>https://m.media-amazon.com/images/W/WEBP_40237...</td>\n",
       "      <td>https://www.amazon.in/Portronics-Konnect-POR-1...</td>\n",
       "    </tr>\n",
       "  </tbody>\n",
       "</table>\n",
       "</div>"
      ],
      "text/plain": [
       "   product_id                                       product_name  \\\n",
       "0  B07JW9H4J1  Wayona Nylon Braided USB to Lightning Fast Cha...   \n",
       "1  B098NS6PVG  Ambrane Unbreakable 60W / 3A Fast Charging 1.5...   \n",
       "2  B096MSW6CT  Sounce Fast Phone Charging Cable & Data Sync U...   \n",
       "3  B08HDJ86NZ  boAt Deuce USB 300 2 in 1 Type-C & Micro USB S...   \n",
       "4  B08CF3B7N1  Portronics Konnect L 1.2M Fast Charging 3A 8 P...   \n",
       "\n",
       "                                            category discounted_price  \\\n",
       "0  Computers&Accessories|Accessories&Peripherals|...             ₹399   \n",
       "1  Computers&Accessories|Accessories&Peripherals|...             ₹199   \n",
       "2  Computers&Accessories|Accessories&Peripherals|...             ₹199   \n",
       "3  Computers&Accessories|Accessories&Peripherals|...             ₹329   \n",
       "4  Computers&Accessories|Accessories&Peripherals|...             ₹154   \n",
       "\n",
       "  actual_price discount_percentage rating rating_count  \\\n",
       "0       ₹1,099                 64%    4.2       24,269   \n",
       "1         ₹349                 43%    4.0       43,994   \n",
       "2       ₹1,899                 90%    3.9        7,928   \n",
       "3         ₹699                 53%    4.2       94,363   \n",
       "4         ₹399                 61%    4.2       16,905   \n",
       "\n",
       "                                       about_product  \\\n",
       "0  High Compatibility : Compatible With iPhone 12...   \n",
       "1  Compatible with all Type C enabled devices, be...   \n",
       "2  【 Fast Charger& Data Sync】-With built-in safet...   \n",
       "3  The boAt Deuce USB 300 2 in 1 cable is compati...   \n",
       "4  [CHARGE & SYNC FUNCTION]- This cable comes wit...   \n",
       "\n",
       "                                             user_id  \\\n",
       "0  AG3D6O4STAQKAY2UVGEUV46KN35Q,AHMY5CWJMMK5BJRBB...   \n",
       "1  AECPFYFQVRUWC3KGNLJIOREFP5LQ,AGYYVPDD7YG7FYNBX...   \n",
       "2  AGU3BBQ2V2DDAMOAKGFAWDDQ6QHA,AESFLDV2PT363T2AQ...   \n",
       "3  AEWAZDZZJLQUYVOVGBEUKSLXHQ5A,AG5HTSFRRE6NL3M5S...   \n",
       "4  AE3Q6KSUK5P75D5HFYHCRAOLODSA,AFUGIFH5ZAFXRDSZH...   \n",
       "\n",
       "                                           user_name  \\\n",
       "0  Manav,Adarsh gupta,Sundeep,S.Sayeed Ahmed,jasp...   \n",
       "1  ArdKn,Nirbhay kumar,Sagar Viswanathan,Asp,Plac...   \n",
       "2  Kunal,Himanshu,viswanath,sai niharka,saqib mal...   \n",
       "3  Omkar dhale,JD,HEMALATHA,Ajwadh a.,amar singh ...   \n",
       "4  rahuls6099,Swasat Borah,Ajay Wadke,Pranali,RVK...   \n",
       "\n",
       "                                           review_id  \\\n",
       "0  R3HXWT0LRP0NMF,R2AJM3LFTLZHFO,R6AQJGUP6P86,R1K...   \n",
       "1  RGIQEG07R9HS2,R1SMWZQ86XIN8U,R2J3Y1WL29GWDE,RY...   \n",
       "2  R3J3EQQ9TZI5ZJ,R3E7WBGK7ID0KV,RWU79XKQ6I1QF,R2...   \n",
       "3  R3EEUZKKK9J36I,R3HJVYCLYOY554,REDECAZ7AMPQC,R1...   \n",
       "4  R1BP4L2HH9TFUP,R16PVJEXKV6QZS,R2UPDB81N66T4P,R...   \n",
       "\n",
       "                                        review_title  \\\n",
       "0  Satisfied,Charging is really fast,Value for mo...   \n",
       "1  A Good Braided Cable for Your Type C Device,Go...   \n",
       "2  Good speed for earlier versions,Good Product,W...   \n",
       "3  Good product,Good one,Nice,Really nice product...   \n",
       "4  As good as original,Decent,Good one for second...   \n",
       "\n",
       "                                      review_content  \\\n",
       "0  Looks durable Charging is fine tooNo complains...   \n",
       "1  I ordered this cable to connect my phone to An...   \n",
       "2  Not quite durable and sturdy,https://m.media-a...   \n",
       "3  Good product,long wire,Charges good,Nice,I bou...   \n",
       "4  Bought this instead of original apple, does th...   \n",
       "\n",
       "                                            img_link  \\\n",
       "0  https://m.media-amazon.com/images/W/WEBP_40237...   \n",
       "1  https://m.media-amazon.com/images/W/WEBP_40237...   \n",
       "2  https://m.media-amazon.com/images/W/WEBP_40237...   \n",
       "3  https://m.media-amazon.com/images/I/41V5FtEWPk...   \n",
       "4  https://m.media-amazon.com/images/W/WEBP_40237...   \n",
       "\n",
       "                                        product_link  \n",
       "0  https://www.amazon.in/Wayona-Braided-WN3LG1-Sy...  \n",
       "1  https://www.amazon.in/Ambrane-Unbreakable-Char...  \n",
       "2  https://www.amazon.in/Sounce-iPhone-Charging-C...  \n",
       "3  https://www.amazon.in/Deuce-300-Resistant-Tang...  \n",
       "4  https://www.amazon.in/Portronics-Konnect-POR-1...  "
      ]
     },
     "execution_count": 7,
     "metadata": {},
     "output_type": "execute_result"
    }
   ],
   "source": [
    "df.head()"
   ]
  },
  {
   "cell_type": "code",
   "execution_count": 11,
   "id": "b26a25de",
   "metadata": {},
   "outputs": [
    {
     "data": {
      "text/plain": [
       "Index(['product_id', 'product_name', 'category', 'discounted_price',\n",
       "       'actual_price', 'discount_percentage', 'rating', 'rating_count',\n",
       "       'about_product', 'user_id', 'user_name', 'review_id', 'review_title',\n",
       "       'review_content', 'img_link', 'product_link'],\n",
       "      dtype='object')"
      ]
     },
     "execution_count": 11,
     "metadata": {},
     "output_type": "execute_result"
    }
   ],
   "source": [
    "df.columns"
   ]
  },
  {
   "cell_type": "code",
   "execution_count": 12,
   "id": "16950ca3",
   "metadata": {},
   "outputs": [
    {
     "data": {
      "text/plain": [
       "product_id             object\n",
       "product_name           object\n",
       "category               object\n",
       "discounted_price       object\n",
       "actual_price           object\n",
       "discount_percentage    object\n",
       "rating                 object\n",
       "rating_count           object\n",
       "about_product          object\n",
       "user_id                object\n",
       "user_name              object\n",
       "review_id              object\n",
       "review_title           object\n",
       "review_content         object\n",
       "img_link               object\n",
       "product_link           object\n",
       "dtype: object"
      ]
     },
     "execution_count": 12,
     "metadata": {},
     "output_type": "execute_result"
    }
   ],
   "source": [
    "df.dtypes"
   ]
  },
  {
   "cell_type": "code",
   "execution_count": 16,
   "id": "40ff1f11",
   "metadata": {},
   "outputs": [
    {
     "data": {
      "text/html": [
       "<div>\n",
       "<style scoped>\n",
       "    .dataframe tbody tr th:only-of-type {\n",
       "        vertical-align: middle;\n",
       "    }\n",
       "\n",
       "    .dataframe tbody tr th {\n",
       "        vertical-align: top;\n",
       "    }\n",
       "\n",
       "    .dataframe thead th {\n",
       "        text-align: right;\n",
       "    }\n",
       "</style>\n",
       "<table border=\"1\" class=\"dataframe\">\n",
       "  <thead>\n",
       "    <tr style=\"text-align: right;\">\n",
       "      <th></th>\n",
       "      <th>product_id</th>\n",
       "      <th>product_name</th>\n",
       "      <th>category</th>\n",
       "      <th>discounted_price</th>\n",
       "      <th>actual_price</th>\n",
       "      <th>discount_percentage</th>\n",
       "      <th>rating</th>\n",
       "      <th>rating_count</th>\n",
       "      <th>about_product</th>\n",
       "      <th>user_id</th>\n",
       "      <th>user_name</th>\n",
       "      <th>review_id</th>\n",
       "      <th>review_title</th>\n",
       "      <th>review_content</th>\n",
       "      <th>img_link</th>\n",
       "      <th>product_link</th>\n",
       "    </tr>\n",
       "  </thead>\n",
       "  <tbody>\n",
       "  </tbody>\n",
       "</table>\n",
       "</div>"
      ],
      "text/plain": [
       "Empty DataFrame\n",
       "Columns: [product_id, product_name, category, discounted_price, actual_price, discount_percentage, rating, rating_count, about_product, user_id, user_name, review_id, review_title, review_content, img_link, product_link]\n",
       "Index: []"
      ]
     },
     "execution_count": 16,
     "metadata": {},
     "output_type": "execute_result"
    }
   ],
   "source": [
    "# Check to see if there are any duplicates\n",
    "\n",
    "duplicates = df.duplicated()\n",
    "df[duplicates]"
   ]
  },
  {
   "cell_type": "code",
   "execution_count": 17,
   "id": "21ca2c0a",
   "metadata": {},
   "outputs": [
    {
     "name": "stdout",
     "output_type": "stream",
     "text": [
      "product_id - 0%\n",
      "product_name - 0%\n",
      "category - 0%\n",
      "discounted_price - 0%\n",
      "actual_price - 0%\n",
      "discount_percentage - 0%\n",
      "rating - 0%\n",
      "rating_count - 0%\n",
      "about_product - 0%\n",
      "user_id - 0%\n",
      "user_name - 0%\n",
      "review_id - 0%\n",
      "review_title - 0%\n",
      "review_content - 0%\n",
      "img_link - 0%\n",
      "product_link - 0%\n"
     ]
    }
   ],
   "source": [
    "# Check if there is any missing data \n",
    "\n",
    "for col in df.columns:\n",
    "    pct_missing = np.mean(df[col].isnull())\n",
    "    print('{} - {}%'.format(col, round(pct_missing)*100))\n"
   ]
  },
  {
   "cell_type": "code",
   "execution_count": 18,
   "id": "02789f14",
   "metadata": {},
   "outputs": [
    {
     "data": {
      "text/plain": [
       "product_id             0\n",
       "product_name           0\n",
       "category               0\n",
       "discounted_price       0\n",
       "actual_price           0\n",
       "discount_percentage    0\n",
       "rating                 0\n",
       "rating_count           2\n",
       "about_product          0\n",
       "user_id                0\n",
       "user_name              0\n",
       "review_id              0\n",
       "review_title           0\n",
       "review_content         0\n",
       "img_link               0\n",
       "product_link           0\n",
       "dtype: int64"
      ]
     },
     "execution_count": 18,
     "metadata": {},
     "output_type": "execute_result"
    }
   ],
   "source": [
    "# Check for any missing values\n",
    "\n",
    "df.isna().sum()"
   ]
  },
  {
   "cell_type": "code",
   "execution_count": 31,
   "id": "b5a5c349",
   "metadata": {},
   "outputs": [
    {
     "data": {
      "text/html": [
       "<div>\n",
       "<style scoped>\n",
       "    .dataframe tbody tr th:only-of-type {\n",
       "        vertical-align: middle;\n",
       "    }\n",
       "\n",
       "    .dataframe tbody tr th {\n",
       "        vertical-align: top;\n",
       "    }\n",
       "\n",
       "    .dataframe thead th {\n",
       "        text-align: right;\n",
       "    }\n",
       "</style>\n",
       "<table border=\"1\" class=\"dataframe\">\n",
       "  <thead>\n",
       "    <tr style=\"text-align: right;\">\n",
       "      <th></th>\n",
       "      <th>product_id</th>\n",
       "      <th>product_name</th>\n",
       "      <th>category</th>\n",
       "      <th>discounted_price</th>\n",
       "      <th>actual_price</th>\n",
       "      <th>discount_percentage</th>\n",
       "      <th>rating</th>\n",
       "      <th>rating_count</th>\n",
       "      <th>about_product</th>\n",
       "      <th>user_id</th>\n",
       "      <th>user_name</th>\n",
       "      <th>review_id</th>\n",
       "      <th>review_title</th>\n",
       "      <th>review_content</th>\n",
       "      <th>img_link</th>\n",
       "      <th>product_link</th>\n",
       "    </tr>\n",
       "  </thead>\n",
       "  <tbody>\n",
       "    <tr>\n",
       "      <th>282</th>\n",
       "      <td>B0B94JPY2N</td>\n",
       "      <td>Amazon Brand - Solimo 65W Fast Charging Braide...</td>\n",
       "      <td>Computers&amp;Accessories|Accessories&amp;Peripherals|...</td>\n",
       "      <td>199.0</td>\n",
       "      <td>999.0</td>\n",
       "      <td>0.80</td>\n",
       "      <td>3.0</td>\n",
       "      <td>NaN</td>\n",
       "      <td>USB C to C Cable: This cable has type C connec...</td>\n",
       "      <td>AE7CFHY23VAJT2FI4NZKKP6GS2UQ</td>\n",
       "      <td>Pranav</td>\n",
       "      <td>RUB7U91HVZ30</td>\n",
       "      <td>The cable works but is not 65W as advertised</td>\n",
       "      <td>I have a pd supported car charger and I bought...</td>\n",
       "      <td>https://m.media-amazon.com/images/W/WEBP_40237...</td>\n",
       "      <td>https://www.amazon.in/Amazon-Brand-Charging-Su...</td>\n",
       "    </tr>\n",
       "    <tr>\n",
       "      <th>324</th>\n",
       "      <td>B0BQRJ3C47</td>\n",
       "      <td>REDTECH USB-C to Lightning Cable 3.3FT, [Apple...</td>\n",
       "      <td>Computers&amp;Accessories|Accessories&amp;Peripherals|...</td>\n",
       "      <td>249.0</td>\n",
       "      <td>999.0</td>\n",
       "      <td>0.75</td>\n",
       "      <td>5.0</td>\n",
       "      <td>NaN</td>\n",
       "      <td>💎[The Fastest Charge] - This iPhone USB C cabl...</td>\n",
       "      <td>AGJC5O5H5BBXWUV7WRIEIOOR3TVQ</td>\n",
       "      <td>Abdul Gafur</td>\n",
       "      <td>RQXD5SAMMPC6L</td>\n",
       "      <td>Awesome Product</td>\n",
       "      <td>Quick delivery.Awesome ProductPacking was good...</td>\n",
       "      <td>https://m.media-amazon.com/images/I/31-q0xhaTA...</td>\n",
       "      <td>https://www.amazon.in/REDTECH-Lightning-Certif...</td>\n",
       "    </tr>\n",
       "  </tbody>\n",
       "</table>\n",
       "</div>"
      ],
      "text/plain": [
       "     product_id                                       product_name  \\\n",
       "282  B0B94JPY2N  Amazon Brand - Solimo 65W Fast Charging Braide...   \n",
       "324  B0BQRJ3C47  REDTECH USB-C to Lightning Cable 3.3FT, [Apple...   \n",
       "\n",
       "                                              category  discounted_price  \\\n",
       "282  Computers&Accessories|Accessories&Peripherals|...             199.0   \n",
       "324  Computers&Accessories|Accessories&Peripherals|...             249.0   \n",
       "\n",
       "     actual_price  discount_percentage rating rating_count  \\\n",
       "282         999.0                 0.80    3.0          NaN   \n",
       "324         999.0                 0.75    5.0          NaN   \n",
       "\n",
       "                                         about_product  \\\n",
       "282  USB C to C Cable: This cable has type C connec...   \n",
       "324  💎[The Fastest Charge] - This iPhone USB C cabl...   \n",
       "\n",
       "                          user_id    user_name      review_id  \\\n",
       "282  AE7CFHY23VAJT2FI4NZKKP6GS2UQ       Pranav   RUB7U91HVZ30   \n",
       "324  AGJC5O5H5BBXWUV7WRIEIOOR3TVQ  Abdul Gafur  RQXD5SAMMPC6L   \n",
       "\n",
       "                                     review_title  \\\n",
       "282  The cable works but is not 65W as advertised   \n",
       "324                               Awesome Product   \n",
       "\n",
       "                                        review_content  \\\n",
       "282  I have a pd supported car charger and I bought...   \n",
       "324  Quick delivery.Awesome ProductPacking was good...   \n",
       "\n",
       "                                              img_link  \\\n",
       "282  https://m.media-amazon.com/images/W/WEBP_40237...   \n",
       "324  https://m.media-amazon.com/images/I/31-q0xhaTA...   \n",
       "\n",
       "                                          product_link  \n",
       "282  https://www.amazon.in/Amazon-Brand-Charging-Su...  \n",
       "324  https://www.amazon.in/REDTECH-Lightning-Certif...  "
      ]
     },
     "execution_count": 31,
     "metadata": {},
     "output_type": "execute_result"
    }
   ],
   "source": [
    "# check to find the nulls\n",
    "\n",
    "df.loc[df.rating_count.isnull()]"
   ]
  },
  {
   "cell_type": "code",
   "execution_count": 32,
   "id": "af5f654d",
   "metadata": {},
   "outputs": [],
   "source": [
    "df.drop(index = [282, 324] , inplace = True)\n"
   ]
  },
  {
   "cell_type": "code",
   "execution_count": null,
   "id": "cfa210fa",
   "metadata": {},
   "outputs": [],
   "source": [
    "# I want to changes the discount price and the actual price to floats\n",
    "\n",
    "# Also want to remove the Indian Rupee Currency sign from the string "
   ]
  },
  {
   "cell_type": "code",
   "execution_count": 13,
   "id": "37fd46e0",
   "metadata": {},
   "outputs": [],
   "source": [
    "df['discounted_price'] = df['discounted_price'].str.replace(\"₹\",'')\n",
    "df['discounted_price'] = df['discounted_price'].str.replace(\",\",'')\n",
    "df['discounted_price'] = df['discounted_price'].astype('float64')\n",
    "\n",
    "df['actual_price'] = df['actual_price'].str.replace(\"₹\",'')\n",
    "df['actual_price'] = df['actual_price'].str.replace(\",\",'')\n",
    "df['actual_price'] = df['actual_price'].astype('float64')"
   ]
  },
  {
   "cell_type": "code",
   "execution_count": 14,
   "id": "30f9c99f",
   "metadata": {},
   "outputs": [
    {
     "data": {
      "text/plain": [
       "0       0.64\n",
       "1       0.43\n",
       "2       0.90\n",
       "3       0.53\n",
       "4       0.61\n",
       "        ... \n",
       "1460    0.59\n",
       "1461    0.25\n",
       "1462    0.28\n",
       "1463    0.26\n",
       "1464    0.22\n",
       "Name: discount_percentage, Length: 1465, dtype: float64"
      ]
     },
     "execution_count": 14,
     "metadata": {},
     "output_type": "execute_result"
    }
   ],
   "source": [
    "df['discount_percentage'] = df['discount_percentage'].str.replace('%','').astype('float64')\n",
    "\n",
    "df['discount_percentage'] = df['discount_percentage'] / 100\n",
    "\n",
    "df['discount_percentage']"
   ]
  },
  {
   "cell_type": "code",
   "execution_count": 33,
   "id": "560d5568",
   "metadata": {},
   "outputs": [
    {
     "data": {
      "text/plain": [
       "array(['4.2', '4.0', '3.9', '4.1', '4.3', '4.4', '4.5', '3.7', '3.3',\n",
       "       '3.6', '3.4', '3.8', '3.5', '4.6', '3.2', '5.0', '4.7', '3.0',\n",
       "       '2.8', '4', '3.1', '4.8', '2.3', '|', '2', '3', '2.6', '2.9'],\n",
       "      dtype=object)"
      ]
     },
     "execution_count": 33,
     "metadata": {},
     "output_type": "execute_result"
    }
   ],
   "source": [
    "#Check the ratings \n",
    "\n",
    "df.rating.unique()"
   ]
  },
  {
   "cell_type": "code",
   "execution_count": 34,
   "id": "a58df957",
   "metadata": {},
   "outputs": [
    {
     "data": {
      "text/html": [
       "<div>\n",
       "<style scoped>\n",
       "    .dataframe tbody tr th:only-of-type {\n",
       "        vertical-align: middle;\n",
       "    }\n",
       "\n",
       "    .dataframe tbody tr th {\n",
       "        vertical-align: top;\n",
       "    }\n",
       "\n",
       "    .dataframe thead th {\n",
       "        text-align: right;\n",
       "    }\n",
       "</style>\n",
       "<table border=\"1\" class=\"dataframe\">\n",
       "  <thead>\n",
       "    <tr style=\"text-align: right;\">\n",
       "      <th></th>\n",
       "      <th>product_id</th>\n",
       "      <th>product_name</th>\n",
       "      <th>category</th>\n",
       "      <th>discounted_price</th>\n",
       "      <th>actual_price</th>\n",
       "      <th>discount_percentage</th>\n",
       "      <th>rating</th>\n",
       "      <th>rating_count</th>\n",
       "      <th>about_product</th>\n",
       "      <th>user_id</th>\n",
       "      <th>user_name</th>\n",
       "      <th>review_id</th>\n",
       "      <th>review_title</th>\n",
       "      <th>review_content</th>\n",
       "      <th>img_link</th>\n",
       "      <th>product_link</th>\n",
       "    </tr>\n",
       "  </thead>\n",
       "  <tbody>\n",
       "    <tr>\n",
       "      <th>1279</th>\n",
       "      <td>B08L12N5H1</td>\n",
       "      <td>Eureka Forbes car Vac 100 Watts Powerful Sucti...</td>\n",
       "      <td>Home&amp;Kitchen|Kitchen&amp;HomeAppliances|Vacuum,Cle...</td>\n",
       "      <td>2099.0</td>\n",
       "      <td>2499.0</td>\n",
       "      <td>0.16</td>\n",
       "      <td>|</td>\n",
       "      <td>992</td>\n",
       "      <td>No Installation is provided for this product|1...</td>\n",
       "      <td>AGTDSNT2FKVYEPDPXAA673AIS44A,AER2XFSWNN4LAUCJ5...</td>\n",
       "      <td>Divya,Dr Nefario,Deekshith,Preeti,Prasanth R,P...</td>\n",
       "      <td>R2KKTKM4M9RDVJ,R1O692MZOBTE79,R2WRSEWL56SOS4,R...</td>\n",
       "      <td>Decent product,doesn't pick up sand,Ok ok,Must...</td>\n",
       "      <td>Does the job well,doesn't work on sand. though...</td>\n",
       "      <td>https://m.media-amazon.com/images/W/WEBP_40237...</td>\n",
       "      <td>https://www.amazon.in/Eureka-Forbes-Vacuum-Cle...</td>\n",
       "    </tr>\n",
       "  </tbody>\n",
       "</table>\n",
       "</div>"
      ],
      "text/plain": [
       "      product_id                                       product_name  \\\n",
       "1279  B08L12N5H1  Eureka Forbes car Vac 100 Watts Powerful Sucti...   \n",
       "\n",
       "                                               category  discounted_price  \\\n",
       "1279  Home&Kitchen|Kitchen&HomeAppliances|Vacuum,Cle...            2099.0   \n",
       "\n",
       "      actual_price  discount_percentage rating rating_count  \\\n",
       "1279        2499.0                 0.16      |          992   \n",
       "\n",
       "                                          about_product  \\\n",
       "1279  No Installation is provided for this product|1...   \n",
       "\n",
       "                                                user_id  \\\n",
       "1279  AGTDSNT2FKVYEPDPXAA673AIS44A,AER2XFSWNN4LAUCJ5...   \n",
       "\n",
       "                                              user_name  \\\n",
       "1279  Divya,Dr Nefario,Deekshith,Preeti,Prasanth R,P...   \n",
       "\n",
       "                                              review_id  \\\n",
       "1279  R2KKTKM4M9RDVJ,R1O692MZOBTE79,R2WRSEWL56SOS4,R...   \n",
       "\n",
       "                                           review_title  \\\n",
       "1279  Decent product,doesn't pick up sand,Ok ok,Must...   \n",
       "\n",
       "                                         review_content  \\\n",
       "1279  Does the job well,doesn't work on sand. though...   \n",
       "\n",
       "                                               img_link  \\\n",
       "1279  https://m.media-amazon.com/images/W/WEBP_40237...   \n",
       "\n",
       "                                           product_link  \n",
       "1279  https://www.amazon.in/Eureka-Forbes-Vacuum-Cle...  "
      ]
     },
     "execution_count": 34,
     "metadata": {},
     "output_type": "execute_result"
    }
   ],
   "source": [
    "df.loc[df.rating == '|']"
   ]
  },
  {
   "cell_type": "code",
   "execution_count": 35,
   "id": "967d625a",
   "metadata": {},
   "outputs": [],
   "source": [
    "df.drop(index=1279 , inplace= True)"
   ]
  },
  {
   "cell_type": "code",
   "execution_count": 19,
   "id": "fdb0dfd7",
   "metadata": {},
   "outputs": [],
   "source": [
    "# Create a data frame with the data I want to analyze"
   ]
  },
  {
   "cell_type": "code",
   "execution_count": 20,
   "id": "9f0c8b5b",
   "metadata": {},
   "outputs": [],
   "source": [
    "df1 = df[['product_id', 'product_name', 'category', 'discounted_price', 'actual_price', 'discount_percentage', 'rating', 'rating_count']].copy()\n"
   ]
  },
  {
   "cell_type": "code",
   "execution_count": 23,
   "id": "4af73e03",
   "metadata": {},
   "outputs": [
    {
     "name": "stdout",
     "output_type": "stream",
     "text": [
      "       discounted_price   actual_price  discount_percentage\n",
      "count       1465.000000    1465.000000          1465.000000\n",
      "mean        3125.310874    5444.990635             0.476915\n",
      "std         6944.304394   10874.826864             0.216359\n",
      "min           39.000000      39.000000             0.000000\n",
      "25%          325.000000     800.000000             0.320000\n",
      "50%          799.000000    1650.000000             0.500000\n",
      "75%         1999.000000    4295.000000             0.630000\n",
      "max        77990.000000  139900.000000             0.940000\n"
     ]
    }
   ],
   "source": [
    "print(df1.describe())\n"
   ]
  },
  {
   "cell_type": "code",
   "execution_count": 24,
   "id": "1e7621ba",
   "metadata": {},
   "outputs": [
    {
     "data": {
      "text/html": [
       "<div>\n",
       "<style scoped>\n",
       "    .dataframe tbody tr th:only-of-type {\n",
       "        vertical-align: middle;\n",
       "    }\n",
       "\n",
       "    .dataframe tbody tr th {\n",
       "        vertical-align: top;\n",
       "    }\n",
       "\n",
       "    .dataframe thead th {\n",
       "        text-align: right;\n",
       "    }\n",
       "</style>\n",
       "<table border=\"1\" class=\"dataframe\">\n",
       "  <thead>\n",
       "    <tr style=\"text-align: right;\">\n",
       "      <th></th>\n",
       "      <th>0</th>\n",
       "      <th>1</th>\n",
       "      <th>2</th>\n",
       "      <th>3</th>\n",
       "      <th>4</th>\n",
       "      <th>5</th>\n",
       "      <th>6</th>\n",
       "    </tr>\n",
       "  </thead>\n",
       "  <tbody>\n",
       "    <tr>\n",
       "      <th>0</th>\n",
       "      <td>Computers&amp;Accessories</td>\n",
       "      <td>Accessories&amp;Peripherals</td>\n",
       "      <td>Cables&amp;Accessories</td>\n",
       "      <td>Cables</td>\n",
       "      <td>USBCables</td>\n",
       "      <td>None</td>\n",
       "      <td>None</td>\n",
       "    </tr>\n",
       "    <tr>\n",
       "      <th>1</th>\n",
       "      <td>Computers&amp;Accessories</td>\n",
       "      <td>Accessories&amp;Peripherals</td>\n",
       "      <td>Cables&amp;Accessories</td>\n",
       "      <td>Cables</td>\n",
       "      <td>USBCables</td>\n",
       "      <td>None</td>\n",
       "      <td>None</td>\n",
       "    </tr>\n",
       "    <tr>\n",
       "      <th>2</th>\n",
       "      <td>Computers&amp;Accessories</td>\n",
       "      <td>Accessories&amp;Peripherals</td>\n",
       "      <td>Cables&amp;Accessories</td>\n",
       "      <td>Cables</td>\n",
       "      <td>USBCables</td>\n",
       "      <td>None</td>\n",
       "      <td>None</td>\n",
       "    </tr>\n",
       "    <tr>\n",
       "      <th>3</th>\n",
       "      <td>Computers&amp;Accessories</td>\n",
       "      <td>Accessories&amp;Peripherals</td>\n",
       "      <td>Cables&amp;Accessories</td>\n",
       "      <td>Cables</td>\n",
       "      <td>USBCables</td>\n",
       "      <td>None</td>\n",
       "      <td>None</td>\n",
       "    </tr>\n",
       "    <tr>\n",
       "      <th>4</th>\n",
       "      <td>Computers&amp;Accessories</td>\n",
       "      <td>Accessories&amp;Peripherals</td>\n",
       "      <td>Cables&amp;Accessories</td>\n",
       "      <td>Cables</td>\n",
       "      <td>USBCables</td>\n",
       "      <td>None</td>\n",
       "      <td>None</td>\n",
       "    </tr>\n",
       "    <tr>\n",
       "      <th>...</th>\n",
       "      <td>...</td>\n",
       "      <td>...</td>\n",
       "      <td>...</td>\n",
       "      <td>...</td>\n",
       "      <td>...</td>\n",
       "      <td>...</td>\n",
       "      <td>...</td>\n",
       "    </tr>\n",
       "    <tr>\n",
       "      <th>1460</th>\n",
       "      <td>Home&amp;Kitchen</td>\n",
       "      <td>Kitchen&amp;HomeAppliances</td>\n",
       "      <td>WaterPurifiers&amp;Accessories</td>\n",
       "      <td>WaterPurifierAccessories</td>\n",
       "      <td>None</td>\n",
       "      <td>None</td>\n",
       "      <td>None</td>\n",
       "    </tr>\n",
       "    <tr>\n",
       "      <th>1461</th>\n",
       "      <td>Home&amp;Kitchen</td>\n",
       "      <td>Kitchen&amp;HomeAppliances</td>\n",
       "      <td>SmallKitchenAppliances</td>\n",
       "      <td>Rice&amp;PastaCookers</td>\n",
       "      <td>None</td>\n",
       "      <td>None</td>\n",
       "      <td>None</td>\n",
       "    </tr>\n",
       "    <tr>\n",
       "      <th>1462</th>\n",
       "      <td>Home&amp;Kitchen</td>\n",
       "      <td>Heating,Cooling&amp;AirQuality</td>\n",
       "      <td>RoomHeaters</td>\n",
       "      <td>HeatConvectors</td>\n",
       "      <td>None</td>\n",
       "      <td>None</td>\n",
       "      <td>None</td>\n",
       "    </tr>\n",
       "    <tr>\n",
       "      <th>1463</th>\n",
       "      <td>Home&amp;Kitchen</td>\n",
       "      <td>Heating,Cooling&amp;AirQuality</td>\n",
       "      <td>Fans</td>\n",
       "      <td>ExhaustFans</td>\n",
       "      <td>None</td>\n",
       "      <td>None</td>\n",
       "      <td>None</td>\n",
       "    </tr>\n",
       "    <tr>\n",
       "      <th>1464</th>\n",
       "      <td>Home&amp;Kitchen</td>\n",
       "      <td>Kitchen&amp;HomeAppliances</td>\n",
       "      <td>SmallKitchenAppliances</td>\n",
       "      <td>SandwichMakers</td>\n",
       "      <td>None</td>\n",
       "      <td>None</td>\n",
       "      <td>None</td>\n",
       "    </tr>\n",
       "  </tbody>\n",
       "</table>\n",
       "<p>1465 rows × 7 columns</p>\n",
       "</div>"
      ],
      "text/plain": [
       "                          0                           1  \\\n",
       "0     Computers&Accessories     Accessories&Peripherals   \n",
       "1     Computers&Accessories     Accessories&Peripherals   \n",
       "2     Computers&Accessories     Accessories&Peripherals   \n",
       "3     Computers&Accessories     Accessories&Peripherals   \n",
       "4     Computers&Accessories     Accessories&Peripherals   \n",
       "...                     ...                         ...   \n",
       "1460           Home&Kitchen      Kitchen&HomeAppliances   \n",
       "1461           Home&Kitchen      Kitchen&HomeAppliances   \n",
       "1462           Home&Kitchen  Heating,Cooling&AirQuality   \n",
       "1463           Home&Kitchen  Heating,Cooling&AirQuality   \n",
       "1464           Home&Kitchen      Kitchen&HomeAppliances   \n",
       "\n",
       "                               2                         3          4     5  \\\n",
       "0             Cables&Accessories                    Cables  USBCables  None   \n",
       "1             Cables&Accessories                    Cables  USBCables  None   \n",
       "2             Cables&Accessories                    Cables  USBCables  None   \n",
       "3             Cables&Accessories                    Cables  USBCables  None   \n",
       "4             Cables&Accessories                    Cables  USBCables  None   \n",
       "...                          ...                       ...        ...   ...   \n",
       "1460  WaterPurifiers&Accessories  WaterPurifierAccessories       None  None   \n",
       "1461      SmallKitchenAppliances         Rice&PastaCookers       None  None   \n",
       "1462                 RoomHeaters            HeatConvectors       None  None   \n",
       "1463                        Fans               ExhaustFans       None  None   \n",
       "1464      SmallKitchenAppliances            SandwichMakers       None  None   \n",
       "\n",
       "         6  \n",
       "0     None  \n",
       "1     None  \n",
       "2     None  \n",
       "3     None  \n",
       "4     None  \n",
       "...    ...  \n",
       "1460  None  \n",
       "1461  None  \n",
       "1462  None  \n",
       "1463  None  \n",
       "1464  None  \n",
       "\n",
       "[1465 rows x 7 columns]"
      ]
     },
     "execution_count": 24,
     "metadata": {},
     "output_type": "execute_result"
    }
   ],
   "source": [
    "# Split the column category to make it more organized \n",
    "\n",
    "catsplit = df['category'].str.split('|', expand=True)\n",
    "catsplit"
   ]
  },
  {
   "cell_type": "code",
   "execution_count": 26,
   "id": "e786192d",
   "metadata": {},
   "outputs": [
    {
     "name": "stdout",
     "output_type": "stream",
     "text": [
      "Computers&Accessories|Accessories&Peripherals|Cables&Accessories|Cables|USBCables                                          233\n",
      "Electronics|WearableTechnology|SmartWatches                                                                                 76\n",
      "Electronics|Mobiles&Accessories|Smartphones&BasicMobiles|Smartphones                                                        68\n",
      "Electronics|HomeTheater,TV&Video|Televisions|SmartTelevisions                                                               63\n",
      "Electronics|Headphones,Earbuds&Accessories|Headphones|In-Ear                                                                52\n",
      "                                                                                                                          ... \n",
      "Electronics|Cameras&Photography|Accessories|Batteries&Chargers|BatteryChargers                                               1\n",
      "Computers&Accessories|NetworkingDevices|DataCards&Dongles                                                                    1\n",
      "Electronics|HomeAudio|Speakers|MultimediaSpeakerSystems                                                                      1\n",
      "OfficeProducts|OfficePaperProducts|Paper|Copy&PrintingPaper|ColouredPaper                                                    1\n",
      "Home&Kitchen|Kitchen&HomeAppliances|Vacuum,Cleaning&Ironing|Vacuums&FloorCare|VacuumAccessories|VacuumBags|HandheldBags      1\n",
      "Name: category, Length: 211, dtype: int64\n"
     ]
    }
   ],
   "source": [
    "\n",
    "\n",
    "print(df1['category'].value_counts())\n"
   ]
  },
  {
   "cell_type": "code",
   "execution_count": 25,
   "id": "de939f99",
   "metadata": {},
   "outputs": [],
   "source": [
    "# Rename the columns for the category split\n",
    "\n",
    "catsplit = catsplit.rename(columns={0:'category_1', 1:'category_2', 2:'category_3'})\n"
   ]
  },
  {
   "cell_type": "code",
   "execution_count": 27,
   "id": "c6e5ca1f",
   "metadata": {},
   "outputs": [
    {
     "data": {
      "text/html": [
       "<div>\n",
       "<style scoped>\n",
       "    .dataframe tbody tr th:only-of-type {\n",
       "        vertical-align: middle;\n",
       "    }\n",
       "\n",
       "    .dataframe tbody tr th {\n",
       "        vertical-align: top;\n",
       "    }\n",
       "\n",
       "    .dataframe thead th {\n",
       "        text-align: right;\n",
       "    }\n",
       "</style>\n",
       "<table border=\"1\" class=\"dataframe\">\n",
       "  <thead>\n",
       "    <tr style=\"text-align: right;\">\n",
       "      <th></th>\n",
       "      <th>product_id</th>\n",
       "      <th>product_name</th>\n",
       "      <th>discounted_price</th>\n",
       "      <th>actual_price</th>\n",
       "      <th>discount_percentage</th>\n",
       "      <th>rating</th>\n",
       "      <th>rating_count</th>\n",
       "      <th>category_1</th>\n",
       "      <th>category_2</th>\n",
       "    </tr>\n",
       "  </thead>\n",
       "  <tbody>\n",
       "    <tr>\n",
       "      <th>0</th>\n",
       "      <td>B07JW9H4J1</td>\n",
       "      <td>Wayona Nylon Braided USB to Lightning Fast Cha...</td>\n",
       "      <td>399.0</td>\n",
       "      <td>1099.0</td>\n",
       "      <td>0.64</td>\n",
       "      <td>4.2</td>\n",
       "      <td>24,269</td>\n",
       "      <td>Computers&amp;Accessories</td>\n",
       "      <td>Accessories&amp;Peripherals</td>\n",
       "    </tr>\n",
       "    <tr>\n",
       "      <th>1</th>\n",
       "      <td>B098NS6PVG</td>\n",
       "      <td>Ambrane Unbreakable 60W / 3A Fast Charging 1.5...</td>\n",
       "      <td>199.0</td>\n",
       "      <td>349.0</td>\n",
       "      <td>0.43</td>\n",
       "      <td>4.0</td>\n",
       "      <td>43,994</td>\n",
       "      <td>Computers&amp;Accessories</td>\n",
       "      <td>Accessories&amp;Peripherals</td>\n",
       "    </tr>\n",
       "    <tr>\n",
       "      <th>2</th>\n",
       "      <td>B096MSW6CT</td>\n",
       "      <td>Sounce Fast Phone Charging Cable &amp; Data Sync U...</td>\n",
       "      <td>199.0</td>\n",
       "      <td>1899.0</td>\n",
       "      <td>0.90</td>\n",
       "      <td>3.9</td>\n",
       "      <td>7,928</td>\n",
       "      <td>Computers&amp;Accessories</td>\n",
       "      <td>Accessories&amp;Peripherals</td>\n",
       "    </tr>\n",
       "    <tr>\n",
       "      <th>3</th>\n",
       "      <td>B08HDJ86NZ</td>\n",
       "      <td>boAt Deuce USB 300 2 in 1 Type-C &amp; Micro USB S...</td>\n",
       "      <td>329.0</td>\n",
       "      <td>699.0</td>\n",
       "      <td>0.53</td>\n",
       "      <td>4.2</td>\n",
       "      <td>94,363</td>\n",
       "      <td>Computers&amp;Accessories</td>\n",
       "      <td>Accessories&amp;Peripherals</td>\n",
       "    </tr>\n",
       "    <tr>\n",
       "      <th>4</th>\n",
       "      <td>B08CF3B7N1</td>\n",
       "      <td>Portronics Konnect L 1.2M Fast Charging 3A 8 P...</td>\n",
       "      <td>154.0</td>\n",
       "      <td>399.0</td>\n",
       "      <td>0.61</td>\n",
       "      <td>4.2</td>\n",
       "      <td>16,905</td>\n",
       "      <td>Computers&amp;Accessories</td>\n",
       "      <td>Accessories&amp;Peripherals</td>\n",
       "    </tr>\n",
       "    <tr>\n",
       "      <th>...</th>\n",
       "      <td>...</td>\n",
       "      <td>...</td>\n",
       "      <td>...</td>\n",
       "      <td>...</td>\n",
       "      <td>...</td>\n",
       "      <td>...</td>\n",
       "      <td>...</td>\n",
       "      <td>...</td>\n",
       "      <td>...</td>\n",
       "    </tr>\n",
       "    <tr>\n",
       "      <th>1460</th>\n",
       "      <td>B08L7J3T31</td>\n",
       "      <td>Noir Aqua - 5pcs PP Spun Filter + 1 Spanner | ...</td>\n",
       "      <td>379.0</td>\n",
       "      <td>919.0</td>\n",
       "      <td>0.59</td>\n",
       "      <td>4</td>\n",
       "      <td>1,090</td>\n",
       "      <td>Home&amp;Kitchen</td>\n",
       "      <td>Kitchen&amp;HomeAppliances</td>\n",
       "    </tr>\n",
       "    <tr>\n",
       "      <th>1461</th>\n",
       "      <td>B01M6453MB</td>\n",
       "      <td>Prestige Delight PRWO Electric Rice Cooker (1 ...</td>\n",
       "      <td>2280.0</td>\n",
       "      <td>3045.0</td>\n",
       "      <td>0.25</td>\n",
       "      <td>4.1</td>\n",
       "      <td>4,118</td>\n",
       "      <td>Home&amp;Kitchen</td>\n",
       "      <td>Kitchen&amp;HomeAppliances</td>\n",
       "    </tr>\n",
       "    <tr>\n",
       "      <th>1462</th>\n",
       "      <td>B009P2LIL4</td>\n",
       "      <td>Bajaj Majesty RX10 2000 Watts Heat Convector R...</td>\n",
       "      <td>2219.0</td>\n",
       "      <td>3080.0</td>\n",
       "      <td>0.28</td>\n",
       "      <td>3.6</td>\n",
       "      <td>468</td>\n",
       "      <td>Home&amp;Kitchen</td>\n",
       "      <td>Heating,Cooling&amp;AirQuality</td>\n",
       "    </tr>\n",
       "    <tr>\n",
       "      <th>1463</th>\n",
       "      <td>B00J5DYCCA</td>\n",
       "      <td>Havells Ventil Air DSP 230mm Exhaust Fan (Pist...</td>\n",
       "      <td>1399.0</td>\n",
       "      <td>1890.0</td>\n",
       "      <td>0.26</td>\n",
       "      <td>4</td>\n",
       "      <td>8,031</td>\n",
       "      <td>Home&amp;Kitchen</td>\n",
       "      <td>Heating,Cooling&amp;AirQuality</td>\n",
       "    </tr>\n",
       "    <tr>\n",
       "      <th>1464</th>\n",
       "      <td>B01486F4G6</td>\n",
       "      <td>Borosil Jumbo 1000-Watt Grill Sandwich Maker (...</td>\n",
       "      <td>2863.0</td>\n",
       "      <td>3690.0</td>\n",
       "      <td>0.22</td>\n",
       "      <td>4.3</td>\n",
       "      <td>6,987</td>\n",
       "      <td>Home&amp;Kitchen</td>\n",
       "      <td>Kitchen&amp;HomeAppliances</td>\n",
       "    </tr>\n",
       "  </tbody>\n",
       "</table>\n",
       "<p>1465 rows × 9 columns</p>\n",
       "</div>"
      ],
      "text/plain": [
       "      product_id                                       product_name  \\\n",
       "0     B07JW9H4J1  Wayona Nylon Braided USB to Lightning Fast Cha...   \n",
       "1     B098NS6PVG  Ambrane Unbreakable 60W / 3A Fast Charging 1.5...   \n",
       "2     B096MSW6CT  Sounce Fast Phone Charging Cable & Data Sync U...   \n",
       "3     B08HDJ86NZ  boAt Deuce USB 300 2 in 1 Type-C & Micro USB S...   \n",
       "4     B08CF3B7N1  Portronics Konnect L 1.2M Fast Charging 3A 8 P...   \n",
       "...          ...                                                ...   \n",
       "1460  B08L7J3T31  Noir Aqua - 5pcs PP Spun Filter + 1 Spanner | ...   \n",
       "1461  B01M6453MB  Prestige Delight PRWO Electric Rice Cooker (1 ...   \n",
       "1462  B009P2LIL4  Bajaj Majesty RX10 2000 Watts Heat Convector R...   \n",
       "1463  B00J5DYCCA  Havells Ventil Air DSP 230mm Exhaust Fan (Pist...   \n",
       "1464  B01486F4G6  Borosil Jumbo 1000-Watt Grill Sandwich Maker (...   \n",
       "\n",
       "      discounted_price  actual_price  discount_percentage rating rating_count  \\\n",
       "0                399.0        1099.0                 0.64    4.2       24,269   \n",
       "1                199.0         349.0                 0.43    4.0       43,994   \n",
       "2                199.0        1899.0                 0.90    3.9        7,928   \n",
       "3                329.0         699.0                 0.53    4.2       94,363   \n",
       "4                154.0         399.0                 0.61    4.2       16,905   \n",
       "...                ...           ...                  ...    ...          ...   \n",
       "1460             379.0         919.0                 0.59      4        1,090   \n",
       "1461            2280.0        3045.0                 0.25    4.1        4,118   \n",
       "1462            2219.0        3080.0                 0.28    3.6          468   \n",
       "1463            1399.0        1890.0                 0.26      4        8,031   \n",
       "1464            2863.0        3690.0                 0.22    4.3        6,987   \n",
       "\n",
       "                 category_1                  category_2  \n",
       "0     Computers&Accessories     Accessories&Peripherals  \n",
       "1     Computers&Accessories     Accessories&Peripherals  \n",
       "2     Computers&Accessories     Accessories&Peripherals  \n",
       "3     Computers&Accessories     Accessories&Peripherals  \n",
       "4     Computers&Accessories     Accessories&Peripherals  \n",
       "...                     ...                         ...  \n",
       "1460           Home&Kitchen      Kitchen&HomeAppliances  \n",
       "1461           Home&Kitchen      Kitchen&HomeAppliances  \n",
       "1462           Home&Kitchen  Heating,Cooling&AirQuality  \n",
       "1463           Home&Kitchen  Heating,Cooling&AirQuality  \n",
       "1464           Home&Kitchen      Kitchen&HomeAppliances  \n",
       "\n",
       "[1465 rows x 9 columns]"
      ]
     },
     "execution_count": 27,
     "metadata": {},
     "output_type": "execute_result"
    }
   ],
   "source": [
    "# Also drop the original column of category to so that there is only the new ones\n",
    "\n",
    "df1['category_1'] = catsplit['category_1']\n",
    "df1['category_2'] = catsplit['category_2']\n",
    "\n",
    "df1.drop(columns='category', inplace=True)\n",
    "\n",
    "df1"
   ]
  },
  {
   "cell_type": "code",
   "execution_count": 28,
   "id": "fe5cda3d",
   "metadata": {},
   "outputs": [
    {
     "name": "stdout",
     "output_type": "stream",
     "text": [
      "Electronics              526\n",
      "Computers&Accessories    453\n",
      "Home&Kitchen             448\n",
      "OfficeProducts            31\n",
      "MusicalInstruments         2\n",
      "HomeImprovement            2\n",
      "Toys&Games                 1\n",
      "Car&Motorbike              1\n",
      "Health&PersonalCare        1\n",
      "Name: category_1, dtype: int64\n"
     ]
    }
   ],
   "source": [
    "print(df1['category_1'].value_counts())\n"
   ]
  },
  {
   "cell_type": "code",
   "execution_count": 29,
   "id": "ddbae164",
   "metadata": {},
   "outputs": [
    {
     "name": "stdout",
     "output_type": "stream",
     "text": [
      "Accessories&Peripherals                    381\n",
      "Kitchen&HomeAppliances                     308\n",
      "HomeTheater,TV&Video                       162\n",
      "Mobiles&Accessories                        161\n",
      "Heating,Cooling&AirQuality                 116\n",
      "WearableTechnology                          76\n",
      "Headphones,Earbuds&Accessories              66\n",
      "NetworkingDevices                           34\n",
      "OfficePaperProducts                         27\n",
      "ExternalDevices&DataStorage                 18\n",
      "Cameras&Photography                         16\n",
      "HomeStorage&Organization                    16\n",
      "HomeAudio                                   16\n",
      "GeneralPurposeBatteries&BatteryChargers     14\n",
      "Accessories                                 14\n",
      "Printers,Inks&Accessories                   11\n",
      "CraftMaterials                               7\n",
      "Components                                   5\n",
      "OfficeElectronics                            4\n",
      "Electrical                                   2\n",
      "Monitors                                     2\n",
      "Microphones                                  2\n",
      "Arts&Crafts                                  1\n",
      "PowerAccessories                             1\n",
      "Tablets                                      1\n",
      "Laptops                                      1\n",
      "Kitchen&Dining                               1\n",
      "CarAccessories                               1\n",
      "HomeMedicalSupplies&Equipment                1\n",
      "Name: category_2, dtype: int64\n"
     ]
    }
   ],
   "source": [
    "print(df1['category_2'].value_counts())\n"
   ]
  },
  {
   "cell_type": "code",
   "execution_count": 38,
   "id": "9cc3a92e",
   "metadata": {},
   "outputs": [
    {
     "name": "stdout",
     "output_type": "stream",
     "text": [
      "                           mean  median\n",
      "category_1                             \n",
      "Car&Motorbike          0.420000   0.420\n",
      "Computers&Accessories  0.540243   0.580\n",
      "Electronics            0.508289   0.540\n",
      "Health&PersonalCare    0.530000   0.530\n",
      "Home&Kitchen           0.401205   0.415\n",
      "HomeImprovement        0.575000   0.575\n",
      "MusicalInstruments     0.460000   0.460\n",
      "OfficeProducts         0.123548   0.050\n",
      "Toys&Games             0.000000   0.000\n"
     ]
    }
   ],
   "source": [
    "# calculate the average and median discount percentage by category\n",
    "discount_stats = df1.groupby('category_1')['discount_percentage'].agg(['mean', 'median'])\n",
    "\n",
    "# print the results\n",
    "print(discount_stats)"
   ]
  },
  {
   "cell_type": "code",
   "execution_count": 58,
   "id": "58780b66",
   "metadata": {},
   "outputs": [
    {
     "data": {
      "application/vnd.plotly.v1+json": {
       "config": {
        "plotlyServerURL": "https://plot.ly"
       },
       "data": [
        {
         "alignmentgroup": "True",
         "hovertemplate": "category_1=%{x}<br>discount_percentage=%{y}<extra></extra>",
         "legendgroup": "Computers&Accessories",
         "marker": {
          "color": "#636efa"
         },
         "name": "Computers&Accessories",
         "notched": false,
         "offsetgroup": "Computers&Accessories",
         "orientation": "v",
         "showlegend": true,
         "type": "box",
         "x": [
          "Computers&Accessories",
          "Computers&Accessories",
          "Computers&Accessories",
          "Computers&Accessories",
          "Computers&Accessories",
          "Computers&Accessories",
          "Computers&Accessories",
          "Computers&Accessories",
          "Computers&Accessories",
          "Computers&Accessories",
          "Computers&Accessories",
          "Computers&Accessories",
          "Computers&Accessories",
          "Computers&Accessories",
          "Computers&Accessories",
          "Computers&Accessories",
          "Computers&Accessories",
          "Computers&Accessories",
          "Computers&Accessories",
          "Computers&Accessories",
          "Computers&Accessories",
          "Computers&Accessories",
          "Computers&Accessories",
          "Computers&Accessories",
          "Computers&Accessories",
          "Computers&Accessories",
          "Computers&Accessories",
          "Computers&Accessories",
          "Computers&Accessories",
          "Computers&Accessories",
          "Computers&Accessories",
          "Computers&Accessories",
          "Computers&Accessories",
          "Computers&Accessories",
          "Computers&Accessories",
          "Computers&Accessories",
          "Computers&Accessories",
          "Computers&Accessories",
          "Computers&Accessories",
          "Computers&Accessories",
          "Computers&Accessories",
          "Computers&Accessories",
          "Computers&Accessories",
          "Computers&Accessories",
          "Computers&Accessories",
          "Computers&Accessories",
          "Computers&Accessories",
          "Computers&Accessories",
          "Computers&Accessories",
          "Computers&Accessories",
          "Computers&Accessories",
          "Computers&Accessories",
          "Computers&Accessories",
          "Computers&Accessories",
          "Computers&Accessories",
          "Computers&Accessories",
          "Computers&Accessories",
          "Computers&Accessories",
          "Computers&Accessories",
          "Computers&Accessories",
          "Computers&Accessories",
          "Computers&Accessories",
          "Computers&Accessories",
          "Computers&Accessories",
          "Computers&Accessories",
          "Computers&Accessories",
          "Computers&Accessories",
          "Computers&Accessories",
          "Computers&Accessories",
          "Computers&Accessories",
          "Computers&Accessories",
          "Computers&Accessories",
          "Computers&Accessories",
          "Computers&Accessories",
          "Computers&Accessories",
          "Computers&Accessories",
          "Computers&Accessories",
          "Computers&Accessories",
          "Computers&Accessories",
          "Computers&Accessories",
          "Computers&Accessories",
          "Computers&Accessories",
          "Computers&Accessories",
          "Computers&Accessories",
          "Computers&Accessories",
          "Computers&Accessories",
          "Computers&Accessories",
          "Computers&Accessories",
          "Computers&Accessories",
          "Computers&Accessories",
          "Computers&Accessories",
          "Computers&Accessories",
          "Computers&Accessories",
          "Computers&Accessories",
          "Computers&Accessories",
          "Computers&Accessories",
          "Computers&Accessories",
          "Computers&Accessories",
          "Computers&Accessories",
          "Computers&Accessories",
          "Computers&Accessories",
          "Computers&Accessories",
          "Computers&Accessories",
          "Computers&Accessories",
          "Computers&Accessories",
          "Computers&Accessories",
          "Computers&Accessories",
          "Computers&Accessories",
          "Computers&Accessories",
          "Computers&Accessories",
          "Computers&Accessories",
          "Computers&Accessories",
          "Computers&Accessories",
          "Computers&Accessories",
          "Computers&Accessories",
          "Computers&Accessories",
          "Computers&Accessories",
          "Computers&Accessories",
          "Computers&Accessories",
          "Computers&Accessories",
          "Computers&Accessories",
          "Computers&Accessories",
          "Computers&Accessories",
          "Computers&Accessories",
          "Computers&Accessories",
          "Computers&Accessories",
          "Computers&Accessories",
          "Computers&Accessories",
          "Computers&Accessories",
          "Computers&Accessories",
          "Computers&Accessories",
          "Computers&Accessories",
          "Computers&Accessories",
          "Computers&Accessories",
          "Computers&Accessories",
          "Computers&Accessories",
          "Computers&Accessories",
          "Computers&Accessories",
          "Computers&Accessories",
          "Computers&Accessories",
          "Computers&Accessories",
          "Computers&Accessories",
          "Computers&Accessories",
          "Computers&Accessories",
          "Computers&Accessories",
          "Computers&Accessories",
          "Computers&Accessories",
          "Computers&Accessories",
          "Computers&Accessories",
          "Computers&Accessories",
          "Computers&Accessories",
          "Computers&Accessories",
          "Computers&Accessories",
          "Computers&Accessories",
          "Computers&Accessories",
          "Computers&Accessories",
          "Computers&Accessories",
          "Computers&Accessories",
          "Computers&Accessories",
          "Computers&Accessories",
          "Computers&Accessories",
          "Computers&Accessories",
          "Computers&Accessories",
          "Computers&Accessories",
          "Computers&Accessories",
          "Computers&Accessories",
          "Computers&Accessories",
          "Computers&Accessories",
          "Computers&Accessories",
          "Computers&Accessories",
          "Computers&Accessories",
          "Computers&Accessories",
          "Computers&Accessories",
          "Computers&Accessories",
          "Computers&Accessories",
          "Computers&Accessories",
          "Computers&Accessories",
          "Computers&Accessories",
          "Computers&Accessories",
          "Computers&Accessories",
          "Computers&Accessories",
          "Computers&Accessories",
          "Computers&Accessories",
          "Computers&Accessories",
          "Computers&Accessories",
          "Computers&Accessories",
          "Computers&Accessories",
          "Computers&Accessories",
          "Computers&Accessories",
          "Computers&Accessories",
          "Computers&Accessories",
          "Computers&Accessories",
          "Computers&Accessories",
          "Computers&Accessories",
          "Computers&Accessories",
          "Computers&Accessories",
          "Computers&Accessories",
          "Computers&Accessories",
          "Computers&Accessories",
          "Computers&Accessories",
          "Computers&Accessories",
          "Computers&Accessories",
          "Computers&Accessories",
          "Computers&Accessories",
          "Computers&Accessories",
          "Computers&Accessories",
          "Computers&Accessories",
          "Computers&Accessories",
          "Computers&Accessories",
          "Computers&Accessories",
          "Computers&Accessories",
          "Computers&Accessories",
          "Computers&Accessories",
          "Computers&Accessories",
          "Computers&Accessories",
          "Computers&Accessories",
          "Computers&Accessories",
          "Computers&Accessories",
          "Computers&Accessories",
          "Computers&Accessories",
          "Computers&Accessories",
          "Computers&Accessories",
          "Computers&Accessories",
          "Computers&Accessories",
          "Computers&Accessories",
          "Computers&Accessories",
          "Computers&Accessories",
          "Computers&Accessories",
          "Computers&Accessories",
          "Computers&Accessories",
          "Computers&Accessories",
          "Computers&Accessories",
          "Computers&Accessories",
          "Computers&Accessories",
          "Computers&Accessories",
          "Computers&Accessories",
          "Computers&Accessories",
          "Computers&Accessories",
          "Computers&Accessories",
          "Computers&Accessories",
          "Computers&Accessories",
          "Computers&Accessories",
          "Computers&Accessories",
          "Computers&Accessories",
          "Computers&Accessories",
          "Computers&Accessories",
          "Computers&Accessories",
          "Computers&Accessories",
          "Computers&Accessories",
          "Computers&Accessories",
          "Computers&Accessories",
          "Computers&Accessories",
          "Computers&Accessories",
          "Computers&Accessories",
          "Computers&Accessories",
          "Computers&Accessories",
          "Computers&Accessories",
          "Computers&Accessories",
          "Computers&Accessories",
          "Computers&Accessories",
          "Computers&Accessories",
          "Computers&Accessories",
          "Computers&Accessories",
          "Computers&Accessories",
          "Computers&Accessories",
          "Computers&Accessories",
          "Computers&Accessories",
          "Computers&Accessories",
          "Computers&Accessories",
          "Computers&Accessories",
          "Computers&Accessories",
          "Computers&Accessories",
          "Computers&Accessories",
          "Computers&Accessories",
          "Computers&Accessories",
          "Computers&Accessories",
          "Computers&Accessories",
          "Computers&Accessories",
          "Computers&Accessories",
          "Computers&Accessories",
          "Computers&Accessories",
          "Computers&Accessories",
          "Computers&Accessories",
          "Computers&Accessories",
          "Computers&Accessories",
          "Computers&Accessories",
          "Computers&Accessories",
          "Computers&Accessories",
          "Computers&Accessories",
          "Computers&Accessories",
          "Computers&Accessories",
          "Computers&Accessories",
          "Computers&Accessories",
          "Computers&Accessories",
          "Computers&Accessories",
          "Computers&Accessories",
          "Computers&Accessories",
          "Computers&Accessories",
          "Computers&Accessories",
          "Computers&Accessories",
          "Computers&Accessories",
          "Computers&Accessories",
          "Computers&Accessories",
          "Computers&Accessories",
          "Computers&Accessories",
          "Computers&Accessories",
          "Computers&Accessories",
          "Computers&Accessories",
          "Computers&Accessories",
          "Computers&Accessories",
          "Computers&Accessories",
          "Computers&Accessories",
          "Computers&Accessories",
          "Computers&Accessories",
          "Computers&Accessories",
          "Computers&Accessories",
          "Computers&Accessories",
          "Computers&Accessories",
          "Computers&Accessories",
          "Computers&Accessories",
          "Computers&Accessories",
          "Computers&Accessories",
          "Computers&Accessories",
          "Computers&Accessories",
          "Computers&Accessories",
          "Computers&Accessories",
          "Computers&Accessories",
          "Computers&Accessories",
          "Computers&Accessories",
          "Computers&Accessories",
          "Computers&Accessories",
          "Computers&Accessories",
          "Computers&Accessories",
          "Computers&Accessories",
          "Computers&Accessories",
          "Computers&Accessories",
          "Computers&Accessories",
          "Computers&Accessories",
          "Computers&Accessories",
          "Computers&Accessories",
          "Computers&Accessories",
          "Computers&Accessories",
          "Computers&Accessories",
          "Computers&Accessories",
          "Computers&Accessories",
          "Computers&Accessories",
          "Computers&Accessories",
          "Computers&Accessories",
          "Computers&Accessories",
          "Computers&Accessories",
          "Computers&Accessories",
          "Computers&Accessories",
          "Computers&Accessories",
          "Computers&Accessories",
          "Computers&Accessories",
          "Computers&Accessories",
          "Computers&Accessories",
          "Computers&Accessories",
          "Computers&Accessories",
          "Computers&Accessories",
          "Computers&Accessories",
          "Computers&Accessories",
          "Computers&Accessories",
          "Computers&Accessories",
          "Computers&Accessories",
          "Computers&Accessories",
          "Computers&Accessories",
          "Computers&Accessories",
          "Computers&Accessories",
          "Computers&Accessories",
          "Computers&Accessories",
          "Computers&Accessories",
          "Computers&Accessories",
          "Computers&Accessories",
          "Computers&Accessories",
          "Computers&Accessories",
          "Computers&Accessories",
          "Computers&Accessories",
          "Computers&Accessories",
          "Computers&Accessories",
          "Computers&Accessories",
          "Computers&Accessories",
          "Computers&Accessories",
          "Computers&Accessories",
          "Computers&Accessories",
          "Computers&Accessories",
          "Computers&Accessories",
          "Computers&Accessories",
          "Computers&Accessories",
          "Computers&Accessories",
          "Computers&Accessories",
          "Computers&Accessories",
          "Computers&Accessories",
          "Computers&Accessories",
          "Computers&Accessories",
          "Computers&Accessories",
          "Computers&Accessories",
          "Computers&Accessories",
          "Computers&Accessories",
          "Computers&Accessories",
          "Computers&Accessories",
          "Computers&Accessories",
          "Computers&Accessories",
          "Computers&Accessories",
          "Computers&Accessories",
          "Computers&Accessories",
          "Computers&Accessories",
          "Computers&Accessories",
          "Computers&Accessories",
          "Computers&Accessories",
          "Computers&Accessories",
          "Computers&Accessories",
          "Computers&Accessories",
          "Computers&Accessories",
          "Computers&Accessories",
          "Computers&Accessories",
          "Computers&Accessories",
          "Computers&Accessories",
          "Computers&Accessories",
          "Computers&Accessories",
          "Computers&Accessories",
          "Computers&Accessories",
          "Computers&Accessories",
          "Computers&Accessories",
          "Computers&Accessories",
          "Computers&Accessories",
          "Computers&Accessories",
          "Computers&Accessories",
          "Computers&Accessories",
          "Computers&Accessories",
          "Computers&Accessories",
          "Computers&Accessories",
          "Computers&Accessories",
          "Computers&Accessories",
          "Computers&Accessories",
          "Computers&Accessories",
          "Computers&Accessories",
          "Computers&Accessories",
          "Computers&Accessories",
          "Computers&Accessories",
          "Computers&Accessories",
          "Computers&Accessories",
          "Computers&Accessories",
          "Computers&Accessories",
          "Computers&Accessories",
          "Computers&Accessories",
          "Computers&Accessories",
          "Computers&Accessories",
          "Computers&Accessories",
          "Computers&Accessories",
          "Computers&Accessories",
          "Computers&Accessories",
          "Computers&Accessories"
         ],
         "x0": " ",
         "xaxis": "x",
         "y": [
          0.64,
          0.43,
          0.9,
          0.53,
          0.61,
          0.85,
          0.65,
          0.23,
          0.5,
          0.33,
          0.55,
          0.63,
          0.61,
          0.6,
          0.13,
          0.38,
          0.6,
          0.46,
          0.7,
          0.25,
          0.51,
          0.7,
          0.73,
          0.64,
          0.65,
          0,
          0.8,
          0.85,
          0.53,
          0.8,
          0.51,
          0.7,
          0.64,
          0.38,
          0.7,
          0.67,
          0.58,
          0.5,
          0.45,
          0.64,
          0.62,
          0.43,
          0.54,
          0.77,
          0.56,
          0.86,
          0.61,
          0.62,
          0.69,
          0.61,
          0.42,
          0.77,
          0.6,
          0.6,
          0.55,
          0.58,
          0.64,
          0.44,
          0.63,
          0.75,
          0.8,
          0.68,
          0.66,
          0.57,
          0.8,
          0.17,
          0.65,
          0.42,
          0.52,
          0.53,
          0.65,
          0.6,
          0.65,
          0.7,
          0.88,
          0.73,
          0.6,
          0.47,
          0.65,
          0.85,
          0.75,
          0.2,
          0.6,
          0.4,
          0.54,
          0.73,
          0.5,
          0.64,
          0.43,
          0.44,
          0.52,
          0.44,
          0.47,
          0.69,
          0.62,
          0.38,
          0.25,
          0.66,
          0.7,
          0.63,
          0.29,
          0.69,
          0.38,
          0.44,
          0.63,
          0.67,
          0.8,
          0.6,
          0.71,
          0.64,
          0.71,
          0.57,
          0.15,
          0.53,
          0.58,
          0.38,
          0.53,
          0.66,
          0.65,
          0.47,
          0.75,
          0.48,
          0.41,
          0.55,
          0.63,
          0.25,
          0.42,
          0.75,
          0.63,
          0.6,
          0.43,
          0.68,
          0.5,
          0.54,
          0.73,
          0.55,
          0.77,
          0.29,
          0.59,
          0.68,
          0.55,
          0.66,
          0.63,
          0.89,
          0.45,
          0.87,
          0.63,
          0.7,
          0.7,
          0.63,
          0.61,
          0.7,
          0.35,
          0.8,
          0.52,
          0.6,
          0.38,
          0.8,
          0.88,
          0.75,
          0.59,
          0.61,
          0.71,
          0.78,
          0.8,
          0.66,
          0.78,
          0.61,
          0.63,
          0.57,
          0.75,
          0.65,
          0.2,
          0.63,
          0.64,
          0.43,
          0.8,
          0.53,
          0.61,
          0.85,
          0.9,
          0.65,
          0.23,
          0.33,
          0.55,
          0.63,
          0.61,
          0.6,
          0.13,
          0.46,
          0.38,
          0.6,
          0.7,
          0.44,
          0.7,
          0.51,
          0.85,
          0.53,
          0,
          0.62,
          0.69,
          0.77,
          0.6,
          0.55,
          0.56,
          0.33,
          0.08,
          0.62,
          0.77,
          0.9,
          0.68,
          0.59,
          0.5,
          0.69,
          0.54,
          0.64,
          0.44,
          0.43,
          0.8,
          0.18,
          0.33,
          0.53,
          0.3,
          0.61,
          0.62,
          0.66,
          0.85,
          0.06,
          0.9,
          0.87,
          0.64,
          0.56,
          0.27,
          0.87,
          0.67,
          0.65,
          0.43,
          0.66,
          0.5,
          0.8,
          0.18,
          0.23,
          0.54,
          0.55,
          0.56,
          0.6,
          0.43,
          0.24,
          0.5,
          0.55,
          0.38,
          0.33,
          0.61,
          0.33,
          0.6,
          0.57,
          0.94,
          0.04,
          0.13,
          0.46,
          0.41,
          0.54,
          0,
          0.36,
          0.59,
          0.26,
          0.7,
          0.4,
          0.73,
          0.58,
          0.3,
          0.32,
          0.25,
          0.83,
          0.85,
          0.63,
          0.71,
          0.64,
          0.25,
          0.53,
          0.43,
          0.55,
          0.45,
          0.36,
          0.8,
          0.28,
          0.19,
          0.56,
          0.6,
          0.25,
          0.66,
          0.39,
          0.7,
          0.6,
          0.5,
          0.49,
          0.2,
          0.66,
          0.85,
          0.73,
          0.1,
          0.51,
          0.77,
          0.51,
          0.7,
          0.24,
          0.23,
          0.38,
          0.55,
          0.5,
          0.77,
          0.4,
          0.44,
          0.73,
          0.7,
          0.62,
          0.5,
          0.41,
          0.3,
          0.5,
          0.28,
          0.59,
          0.64,
          0.22,
          0.46,
          0.55,
          0.21,
          0.65,
          0.38,
          0,
          0.35,
          0.64,
          0.41,
          0.42,
          0,
          0.22,
          0.8,
          0.53,
          0.8,
          0.85,
          0.69,
          0.38,
          0.43,
          0.18,
          0.62,
          0.63,
          0.51,
          0.7,
          0.35,
          0.4,
          0.79,
          0.67,
          0.6,
          0.8,
          0.5,
          0.38,
          0.88,
          0.65,
          0.08,
          0.5,
          0.7,
          0.3,
          0.66,
          0.4,
          0.58,
          0.53,
          0.78,
          0.5,
          0.21,
          0,
          0.23,
          0.62,
          0.57,
          0.45,
          0.25,
          0.62,
          0.65,
          0.55,
          0.35,
          0.24,
          0.43,
          0.18,
          0.34,
          0.23,
          0.1,
          0.47,
          0.55,
          0.77,
          0.6,
          0.56,
          0.56,
          0.53,
          0.76,
          0.78,
          0.75,
          0.36,
          0.68,
          0.5,
          0.4,
          0.86,
          0.36,
          0.73,
          0.58,
          0.61,
          0.66,
          0.8,
          0.75,
          0.5,
          0.76,
          0.38,
          0.42,
          0.16,
          0.48,
          0.34,
          0.31,
          0.17,
          0.17,
          0.62,
          0.34,
          0.51,
          0.69,
          0,
          0.29,
          0.8,
          0.61,
          0.5,
          0.77,
          0.6,
          0.14,
          0.48,
          0.73,
          0.62,
          0.6,
          0.47,
          0.55,
          0.55,
          0.36,
          0.5,
          0,
          0.56,
          0.58,
          0.27,
          0.57,
          0.75,
          0.13,
          0.46,
          0.75,
          0.65,
          0.64,
          0.38,
          0.8,
          0.66,
          0.7
         ],
         "y0": " ",
         "yaxis": "y"
        },
        {
         "alignmentgroup": "True",
         "hovertemplate": "category_1=%{x}<br>discount_percentage=%{y}<extra></extra>",
         "legendgroup": "Electronics",
         "marker": {
          "color": "#EF553B"
         },
         "name": "Electronics",
         "notched": false,
         "offsetgroup": "Electronics",
         "orientation": "v",
         "showlegend": true,
         "type": "box",
         "x": [
          "Electronics",
          "Electronics",
          "Electronics",
          "Electronics",
          "Electronics",
          "Electronics",
          "Electronics",
          "Electronics",
          "Electronics",
          "Electronics",
          "Electronics",
          "Electronics",
          "Electronics",
          "Electronics",
          "Electronics",
          "Electronics",
          "Electronics",
          "Electronics",
          "Electronics",
          "Electronics",
          "Electronics",
          "Electronics",
          "Electronics",
          "Electronics",
          "Electronics",
          "Electronics",
          "Electronics",
          "Electronics",
          "Electronics",
          "Electronics",
          "Electronics",
          "Electronics",
          "Electronics",
          "Electronics",
          "Electronics",
          "Electronics",
          "Electronics",
          "Electronics",
          "Electronics",
          "Electronics",
          "Electronics",
          "Electronics",
          "Electronics",
          "Electronics",
          "Electronics",
          "Electronics",
          "Electronics",
          "Electronics",
          "Electronics",
          "Electronics",
          "Electronics",
          "Electronics",
          "Electronics",
          "Electronics",
          "Electronics",
          "Electronics",
          "Electronics",
          "Electronics",
          "Electronics",
          "Electronics",
          "Electronics",
          "Electronics",
          "Electronics",
          "Electronics",
          "Electronics",
          "Electronics",
          "Electronics",
          "Electronics",
          "Electronics",
          "Electronics",
          "Electronics",
          "Electronics",
          "Electronics",
          "Electronics",
          "Electronics",
          "Electronics",
          "Electronics",
          "Electronics",
          "Electronics",
          "Electronics",
          "Electronics",
          "Electronics",
          "Electronics",
          "Electronics",
          "Electronics",
          "Electronics",
          "Electronics",
          "Electronics",
          "Electronics",
          "Electronics",
          "Electronics",
          "Electronics",
          "Electronics",
          "Electronics",
          "Electronics",
          "Electronics",
          "Electronics",
          "Electronics",
          "Electronics",
          "Electronics",
          "Electronics",
          "Electronics",
          "Electronics",
          "Electronics",
          "Electronics",
          "Electronics",
          "Electronics",
          "Electronics",
          "Electronics",
          "Electronics",
          "Electronics",
          "Electronics",
          "Electronics",
          "Electronics",
          "Electronics",
          "Electronics",
          "Electronics",
          "Electronics",
          "Electronics",
          "Electronics",
          "Electronics",
          "Electronics",
          "Electronics",
          "Electronics",
          "Electronics",
          "Electronics",
          "Electronics",
          "Electronics",
          "Electronics",
          "Electronics",
          "Electronics",
          "Electronics",
          "Electronics",
          "Electronics",
          "Electronics",
          "Electronics",
          "Electronics",
          "Electronics",
          "Electronics",
          "Electronics",
          "Electronics",
          "Electronics",
          "Electronics",
          "Electronics",
          "Electronics",
          "Electronics",
          "Electronics",
          "Electronics",
          "Electronics",
          "Electronics",
          "Electronics",
          "Electronics",
          "Electronics",
          "Electronics",
          "Electronics",
          "Electronics",
          "Electronics",
          "Electronics",
          "Electronics",
          "Electronics",
          "Electronics",
          "Electronics",
          "Electronics",
          "Electronics",
          "Electronics",
          "Electronics",
          "Electronics",
          "Electronics",
          "Electronics",
          "Electronics",
          "Electronics",
          "Electronics",
          "Electronics",
          "Electronics",
          "Electronics",
          "Electronics",
          "Electronics",
          "Electronics",
          "Electronics",
          "Electronics",
          "Electronics",
          "Electronics",
          "Electronics",
          "Electronics",
          "Electronics",
          "Electronics",
          "Electronics",
          "Electronics",
          "Electronics",
          "Electronics",
          "Electronics",
          "Electronics",
          "Electronics",
          "Electronics",
          "Electronics",
          "Electronics",
          "Electronics",
          "Electronics",
          "Electronics",
          "Electronics",
          "Electronics",
          "Electronics",
          "Electronics",
          "Electronics",
          "Electronics",
          "Electronics",
          "Electronics",
          "Electronics",
          "Electronics",
          "Electronics",
          "Electronics",
          "Electronics",
          "Electronics",
          "Electronics",
          "Electronics",
          "Electronics",
          "Electronics",
          "Electronics",
          "Electronics",
          "Electronics",
          "Electronics",
          "Electronics",
          "Electronics",
          "Electronics",
          "Electronics",
          "Electronics",
          "Electronics",
          "Electronics",
          "Electronics",
          "Electronics",
          "Electronics",
          "Electronics",
          "Electronics",
          "Electronics",
          "Electronics",
          "Electronics",
          "Electronics",
          "Electronics",
          "Electronics",
          "Electronics",
          "Electronics",
          "Electronics",
          "Electronics",
          "Electronics",
          "Electronics",
          "Electronics",
          "Electronics",
          "Electronics",
          "Electronics",
          "Electronics",
          "Electronics",
          "Electronics",
          "Electronics",
          "Electronics",
          "Electronics",
          "Electronics",
          "Electronics",
          "Electronics",
          "Electronics",
          "Electronics",
          "Electronics",
          "Electronics",
          "Electronics",
          "Electronics",
          "Electronics",
          "Electronics",
          "Electronics",
          "Electronics",
          "Electronics",
          "Electronics",
          "Electronics",
          "Electronics",
          "Electronics",
          "Electronics",
          "Electronics",
          "Electronics",
          "Electronics",
          "Electronics",
          "Electronics",
          "Electronics",
          "Electronics",
          "Electronics",
          "Electronics",
          "Electronics",
          "Electronics",
          "Electronics",
          "Electronics",
          "Electronics",
          "Electronics",
          "Electronics",
          "Electronics",
          "Electronics",
          "Electronics",
          "Electronics",
          "Electronics",
          "Electronics",
          "Electronics",
          "Electronics",
          "Electronics",
          "Electronics",
          "Electronics",
          "Electronics",
          "Electronics",
          "Electronics",
          "Electronics",
          "Electronics",
          "Electronics",
          "Electronics",
          "Electronics",
          "Electronics",
          "Electronics",
          "Electronics",
          "Electronics",
          "Electronics",
          "Electronics",
          "Electronics",
          "Electronics",
          "Electronics",
          "Electronics",
          "Electronics",
          "Electronics",
          "Electronics",
          "Electronics",
          "Electronics",
          "Electronics",
          "Electronics",
          "Electronics",
          "Electronics",
          "Electronics",
          "Electronics",
          "Electronics",
          "Electronics",
          "Electronics",
          "Electronics",
          "Electronics",
          "Electronics",
          "Electronics",
          "Electronics",
          "Electronics",
          "Electronics",
          "Electronics",
          "Electronics",
          "Electronics",
          "Electronics",
          "Electronics",
          "Electronics",
          "Electronics",
          "Electronics",
          "Electronics",
          "Electronics",
          "Electronics",
          "Electronics",
          "Electronics",
          "Electronics",
          "Electronics",
          "Electronics",
          "Electronics",
          "Electronics",
          "Electronics",
          "Electronics",
          "Electronics",
          "Electronics",
          "Electronics",
          "Electronics",
          "Electronics",
          "Electronics",
          "Electronics",
          "Electronics",
          "Electronics",
          "Electronics",
          "Electronics",
          "Electronics",
          "Electronics",
          "Electronics",
          "Electronics",
          "Electronics",
          "Electronics",
          "Electronics",
          "Electronics",
          "Electronics",
          "Electronics",
          "Electronics",
          "Electronics",
          "Electronics",
          "Electronics",
          "Electronics",
          "Electronics",
          "Electronics",
          "Electronics",
          "Electronics",
          "Electronics",
          "Electronics",
          "Electronics",
          "Electronics",
          "Electronics",
          "Electronics",
          "Electronics",
          "Electronics",
          "Electronics",
          "Electronics",
          "Electronics",
          "Electronics",
          "Electronics",
          "Electronics",
          "Electronics",
          "Electronics",
          "Electronics",
          "Electronics",
          "Electronics",
          "Electronics",
          "Electronics",
          "Electronics",
          "Electronics",
          "Electronics",
          "Electronics",
          "Electronics",
          "Electronics",
          "Electronics",
          "Electronics",
          "Electronics",
          "Electronics",
          "Electronics",
          "Electronics",
          "Electronics",
          "Electronics",
          "Electronics",
          "Electronics",
          "Electronics",
          "Electronics",
          "Electronics",
          "Electronics",
          "Electronics",
          "Electronics",
          "Electronics",
          "Electronics",
          "Electronics",
          "Electronics",
          "Electronics",
          "Electronics",
          "Electronics",
          "Electronics",
          "Electronics",
          "Electronics",
          "Electronics",
          "Electronics",
          "Electronics",
          "Electronics",
          "Electronics",
          "Electronics",
          "Electronics",
          "Electronics",
          "Electronics",
          "Electronics",
          "Electronics",
          "Electronics",
          "Electronics",
          "Electronics",
          "Electronics",
          "Electronics",
          "Electronics",
          "Electronics",
          "Electronics",
          "Electronics",
          "Electronics",
          "Electronics",
          "Electronics",
          "Electronics",
          "Electronics",
          "Electronics",
          "Electronics",
          "Electronics",
          "Electronics",
          "Electronics",
          "Electronics",
          "Electronics",
          "Electronics",
          "Electronics",
          "Electronics",
          "Electronics",
          "Electronics",
          "Electronics",
          "Electronics",
          "Electronics",
          "Electronics",
          "Electronics",
          "Electronics",
          "Electronics",
          "Electronics",
          "Electronics",
          "Electronics",
          "Electronics",
          "Electronics",
          "Electronics",
          "Electronics",
          "Electronics",
          "Electronics",
          "Electronics",
          "Electronics",
          "Electronics",
          "Electronics",
          "Electronics",
          "Electronics",
          "Electronics",
          "Electronics",
          "Electronics",
          "Electronics",
          "Electronics",
          "Electronics",
          "Electronics",
          "Electronics",
          "Electronics",
          "Electronics",
          "Electronics",
          "Electronics",
          "Electronics",
          "Electronics",
          "Electronics",
          "Electronics",
          "Electronics",
          "Electronics",
          "Electronics",
          "Electronics",
          "Electronics",
          "Electronics",
          "Electronics",
          "Electronics"
         ],
         "x0": " ",
         "xaxis": "x",
         "y": [
          0.69,
          0.44,
          0.39,
          0.44,
          0.41,
          0.42,
          0.72,
          0.25,
          0.28,
          0.43,
          0.35,
          0.6,
          0.46,
          0.54,
          0.27,
          0.78,
          0.31,
          0.44,
          0.78,
          0.47,
          0.47,
          0.37,
          0.65,
          0.64,
          0.62,
          0.25,
          0.32,
          0.41,
          0.22,
          0.54,
          0.69,
          0.77,
          0.67,
          0.27,
          0.42,
          0.63,
          0.33,
          0.8,
          0.35,
          0.63,
          0.47,
          0.53,
          0.27,
          0.53,
          0.62,
          0.64,
          0.42,
          0.59,
          0.31,
          0.73,
          0.38,
          0.58,
          0,
          0.4,
          0.23,
          0.61,
          0.31,
          0.54,
          0.26,
          0.5,
          0.41,
          0.58,
          0.56,
          0.32,
          0.75,
          0.83,
          0.46,
          0.31,
          0.6,
          0.59,
          0.53,
          0.76,
          0.48,
          0.32,
          0.75,
          0.31,
          0.82,
          0.66,
          0.65,
          0.22,
          0.63,
          0.66,
          0.35,
          0.61,
          0.7,
          0.59,
          0.28,
          0.83,
          0.65,
          0.67,
          0.5,
          0.46,
          0.57,
          0.58,
          0.88,
          0.36,
          0.42,
          0.75,
          0.56,
          0.5,
          0.6,
          0.5,
          0.83,
          0.44,
          0.56,
          0.44,
          0.76,
          0.35,
          0.42,
          0.57,
          0.6,
          0,
          0.24,
          0.59,
          0.36,
          0.43,
          0.28,
          0.65,
          0.53,
          0.6,
          0.6,
          0.34,
          0.27,
          0.5,
          0.37,
          0.4,
          0.57,
          0.46,
          0.5,
          0.48,
          0.59,
          0.4,
          0.7,
          0.41,
          0.5,
          0.5,
          0.59,
          0.52,
          0.62,
          0.63,
          0.45,
          0.37,
          0.15,
          0.45,
          0.35,
          0.63,
          0.23,
          0.59,
          0.38,
          0.54,
          0.6,
          0.5,
          0,
          0.52,
          0.11,
          0.51,
          0.46,
          0.61,
          0.48,
          0.33,
          0.91,
          0.8,
          0.75,
          0.07,
          0.28,
          0,
          0,
          0.28,
          0.28,
          0.43,
          0.62,
          0.19,
          0.79,
          0.4,
          0.21,
          0.76,
          0.25,
          0.73,
          0.65,
          0.47,
          0.21,
          0.4,
          0.48,
          0.65,
          0.28,
          0.6,
          0.81,
          0.29,
          0.47,
          0.28,
          0.91,
          0.78,
          0.32,
          0.21,
          0.91,
          0.23,
          0.24,
          0.91,
          0.25,
          0.72,
          0.76,
          0.5,
          0.18,
          0.91,
          0.25,
          0.49,
          0.19,
          0.66,
          0.8,
          0.26,
          0.2,
          0.37,
          0.43,
          0.5,
          0.75,
          0.17,
          0.71,
          0.8,
          0.71,
          0.65,
          0.28,
          0.62,
          0.3,
          0.6,
          0.8,
          0.7,
          0,
          0.84,
          0.27,
          0.1,
          0.32,
          0.6,
          0.38,
          0.19,
          0.67,
          0.68,
          0.28,
          0.27,
          0.62,
          0.75,
          0.35,
          0.28,
          0.6,
          0.28,
          0.22,
          0.62,
          0.42,
          0.76,
          0.77,
          0.26,
          0.18,
          0.21,
          0.6,
          0.81,
          0.06,
          0.48,
          0.22,
          0.3,
          0.38,
          0.28,
          0.26,
          0.66,
          0.68,
          0.22,
          0.3,
          0.5,
          0.22,
          0.18,
          0.14,
          0.79,
          0.75,
          0.66,
          0.65,
          0.52,
          0.62,
          0.78,
          0.21,
          0,
          0.66,
          0.22,
          0.75,
          0.19,
          0.7,
          0.81,
          0.82,
          0.33,
          0.54,
          0.65,
          0.28,
          0.65,
          0.17,
          0.78,
          0.81,
          0.44,
          0.85,
          0.26,
          0.13,
          0.6,
          0.77,
          0.4,
          0.82,
          0.74,
          0.79,
          0.3,
          0.04,
          0.19,
          0.29,
          0.32,
          0.5,
          0.67,
          0.78,
          0.43,
          0.8,
          0.32,
          0.7,
          0.19,
          0.76,
          0.29,
          0.58,
          0.14,
          0.85,
          0.58,
          0.75,
          0.84,
          0.13,
          0.05,
          0.8,
          0.69,
          0.66,
          0.74,
          0.7,
          0.58,
          0.35,
          0.46,
          0.19,
          0.1,
          0.13,
          0.57,
          0.53,
          0.73,
          0.8,
          0.28,
          0.9,
          0.27,
          0.25,
          0.86,
          0.33,
          0.75,
          0.5,
          0.74,
          0.74,
          0.54,
          0.88,
          0.43,
          0.32,
          0.38,
          0.42,
          0.9,
          0.21,
          0.81,
          0.16,
          0.75,
          0.74,
          0.6,
          0.21,
          0.73,
          0.49,
          0.55,
          0.29,
          0.5,
          0.78,
          0.56,
          0.57,
          0.17,
          0.82,
          0.75,
          0.79,
          0.28,
          0.72,
          0.63,
          0.63,
          0.67,
          0.8,
          0.77,
          0.57,
          0.43,
          0.6,
          0.65,
          0.63,
          0.4,
          0.69,
          0.79,
          0.5,
          0.73,
          0.6,
          0.81,
          0.67,
          0.78,
          0.16,
          0.65,
          0.76,
          0.69,
          0.5,
          0.75,
          0.8,
          0.75,
          0.71,
          0.8,
          0.62,
          0.69,
          0.6,
          0.74,
          0.76,
          0.83,
          0.17,
          0.78,
          0.8,
          0.28,
          0.6,
          0.64,
          0.28,
          0.52,
          0.54,
          0.6,
          0.1,
          0.62,
          0.57,
          0.69,
          0.77,
          0.2,
          0.47,
          0.68,
          0.06,
          0.38,
          0,
          0.7,
          0.6,
          0.63,
          0.15,
          0.47,
          0.43,
          0.45,
          0.65,
          0.39,
          0.5,
          0.4,
          0.24,
          0.8,
          0.2,
          0.44,
          0.41,
          0.5,
          0.55,
          0.33,
          0.72,
          0.81,
          0.65,
          0.7,
          0.43,
          0.75,
          0.12,
          0.54,
          0.55,
          0.3,
          0.14,
          0.74,
          0.8,
          0.8,
          0.85,
          0.57,
          0.76,
          0.44,
          0.51,
          0.64,
          0.6,
          0.67,
          0.38,
          0.75,
          0.65,
          0.21,
          0,
          0.6,
          0.25,
          0.54,
          0.62,
          0.58,
          0.48,
          0.75,
          0.82,
          0.57,
          0.43,
          0.63,
          0.76,
          0.66,
          0.25,
          0.64,
          0.38,
          0.42,
          0.58,
          0.6,
          0.69,
          0.42,
          0.25,
          0.74,
          0.53,
          0.9,
          0.16,
          0.56,
          0.25,
          0.46,
          0.44,
          0.42,
          0.59,
          0.88,
          0,
          0.14,
          0.69,
          0.25,
          0.79,
          0.7,
          0.55,
          0.05,
          0.66,
          0.6,
          0.63,
          0.5
         ],
         "y0": " ",
         "yaxis": "y"
        },
        {
         "alignmentgroup": "True",
         "hovertemplate": "category_1=%{x}<br>discount_percentage=%{y}<extra></extra>",
         "legendgroup": "MusicalInstruments",
         "marker": {
          "color": "#00cc96"
         },
         "name": "MusicalInstruments",
         "notched": false,
         "offsetgroup": "MusicalInstruments",
         "orientation": "v",
         "showlegend": true,
         "type": "box",
         "x": [
          "MusicalInstruments",
          "MusicalInstruments"
         ],
         "x0": " ",
         "xaxis": "x",
         "y": [
          0.6,
          0.32
         ],
         "y0": " ",
         "yaxis": "y"
        },
        {
         "alignmentgroup": "True",
         "hovertemplate": "category_1=%{x}<br>discount_percentage=%{y}<extra></extra>",
         "legendgroup": "OfficeProducts",
         "marker": {
          "color": "#ab63fa"
         },
         "name": "OfficeProducts",
         "notched": false,
         "offsetgroup": "OfficeProducts",
         "orientation": "v",
         "showlegend": true,
         "type": "box",
         "x": [
          "OfficeProducts",
          "OfficeProducts",
          "OfficeProducts",
          "OfficeProducts",
          "OfficeProducts",
          "OfficeProducts",
          "OfficeProducts",
          "OfficeProducts",
          "OfficeProducts",
          "OfficeProducts",
          "OfficeProducts",
          "OfficeProducts",
          "OfficeProducts",
          "OfficeProducts",
          "OfficeProducts",
          "OfficeProducts",
          "OfficeProducts",
          "OfficeProducts",
          "OfficeProducts",
          "OfficeProducts",
          "OfficeProducts",
          "OfficeProducts",
          "OfficeProducts",
          "OfficeProducts",
          "OfficeProducts",
          "OfficeProducts",
          "OfficeProducts",
          "OfficeProducts",
          "OfficeProducts",
          "OfficeProducts",
          "OfficeProducts"
         ],
         "x0": " ",
         "xaxis": "x",
         "y": [
          0,
          0,
          0.05,
          0.02,
          0.75,
          0.14,
          0,
          0,
          0.2,
          0.2,
          0.31,
          0.22,
          0,
          0.11,
          0.49,
          0.05,
          0,
          0.15,
          0.02,
          0.1,
          0,
          0.15,
          0.53,
          0,
          0,
          0.24,
          0,
          0.1,
          0,
          0,
          0
         ],
         "y0": " ",
         "yaxis": "y"
        },
        {
         "alignmentgroup": "True",
         "hovertemplate": "category_1=%{x}<br>discount_percentage=%{y}<extra></extra>",
         "legendgroup": "Home&Kitchen",
         "marker": {
          "color": "#FFA15A"
         },
         "name": "Home&Kitchen",
         "notched": false,
         "offsetgroup": "Home&Kitchen",
         "orientation": "v",
         "showlegend": true,
         "type": "box",
         "x": [
          "Home&Kitchen",
          "Home&Kitchen",
          "Home&Kitchen",
          "Home&Kitchen",
          "Home&Kitchen",
          "Home&Kitchen",
          "Home&Kitchen",
          "Home&Kitchen",
          "Home&Kitchen",
          "Home&Kitchen",
          "Home&Kitchen",
          "Home&Kitchen",
          "Home&Kitchen",
          "Home&Kitchen",
          "Home&Kitchen",
          "Home&Kitchen",
          "Home&Kitchen",
          "Home&Kitchen",
          "Home&Kitchen",
          "Home&Kitchen",
          "Home&Kitchen",
          "Home&Kitchen",
          "Home&Kitchen",
          "Home&Kitchen",
          "Home&Kitchen",
          "Home&Kitchen",
          "Home&Kitchen",
          "Home&Kitchen",
          "Home&Kitchen",
          "Home&Kitchen",
          "Home&Kitchen",
          "Home&Kitchen",
          "Home&Kitchen",
          "Home&Kitchen",
          "Home&Kitchen",
          "Home&Kitchen",
          "Home&Kitchen",
          "Home&Kitchen",
          "Home&Kitchen",
          "Home&Kitchen",
          "Home&Kitchen",
          "Home&Kitchen",
          "Home&Kitchen",
          "Home&Kitchen",
          "Home&Kitchen",
          "Home&Kitchen",
          "Home&Kitchen",
          "Home&Kitchen",
          "Home&Kitchen",
          "Home&Kitchen",
          "Home&Kitchen",
          "Home&Kitchen",
          "Home&Kitchen",
          "Home&Kitchen",
          "Home&Kitchen",
          "Home&Kitchen",
          "Home&Kitchen",
          "Home&Kitchen",
          "Home&Kitchen",
          "Home&Kitchen",
          "Home&Kitchen",
          "Home&Kitchen",
          "Home&Kitchen",
          "Home&Kitchen",
          "Home&Kitchen",
          "Home&Kitchen",
          "Home&Kitchen",
          "Home&Kitchen",
          "Home&Kitchen",
          "Home&Kitchen",
          "Home&Kitchen",
          "Home&Kitchen",
          "Home&Kitchen",
          "Home&Kitchen",
          "Home&Kitchen",
          "Home&Kitchen",
          "Home&Kitchen",
          "Home&Kitchen",
          "Home&Kitchen",
          "Home&Kitchen",
          "Home&Kitchen",
          "Home&Kitchen",
          "Home&Kitchen",
          "Home&Kitchen",
          "Home&Kitchen",
          "Home&Kitchen",
          "Home&Kitchen",
          "Home&Kitchen",
          "Home&Kitchen",
          "Home&Kitchen",
          "Home&Kitchen",
          "Home&Kitchen",
          "Home&Kitchen",
          "Home&Kitchen",
          "Home&Kitchen",
          "Home&Kitchen",
          "Home&Kitchen",
          "Home&Kitchen",
          "Home&Kitchen",
          "Home&Kitchen",
          "Home&Kitchen",
          "Home&Kitchen",
          "Home&Kitchen",
          "Home&Kitchen",
          "Home&Kitchen",
          "Home&Kitchen",
          "Home&Kitchen",
          "Home&Kitchen",
          "Home&Kitchen",
          "Home&Kitchen",
          "Home&Kitchen",
          "Home&Kitchen",
          "Home&Kitchen",
          "Home&Kitchen",
          "Home&Kitchen",
          "Home&Kitchen",
          "Home&Kitchen",
          "Home&Kitchen",
          "Home&Kitchen",
          "Home&Kitchen",
          "Home&Kitchen",
          "Home&Kitchen",
          "Home&Kitchen",
          "Home&Kitchen",
          "Home&Kitchen",
          "Home&Kitchen",
          "Home&Kitchen",
          "Home&Kitchen",
          "Home&Kitchen",
          "Home&Kitchen",
          "Home&Kitchen",
          "Home&Kitchen",
          "Home&Kitchen",
          "Home&Kitchen",
          "Home&Kitchen",
          "Home&Kitchen",
          "Home&Kitchen",
          "Home&Kitchen",
          "Home&Kitchen",
          "Home&Kitchen",
          "Home&Kitchen",
          "Home&Kitchen",
          "Home&Kitchen",
          "Home&Kitchen",
          "Home&Kitchen",
          "Home&Kitchen",
          "Home&Kitchen",
          "Home&Kitchen",
          "Home&Kitchen",
          "Home&Kitchen",
          "Home&Kitchen",
          "Home&Kitchen",
          "Home&Kitchen",
          "Home&Kitchen",
          "Home&Kitchen",
          "Home&Kitchen",
          "Home&Kitchen",
          "Home&Kitchen",
          "Home&Kitchen",
          "Home&Kitchen",
          "Home&Kitchen",
          "Home&Kitchen",
          "Home&Kitchen",
          "Home&Kitchen",
          "Home&Kitchen",
          "Home&Kitchen",
          "Home&Kitchen",
          "Home&Kitchen",
          "Home&Kitchen",
          "Home&Kitchen",
          "Home&Kitchen",
          "Home&Kitchen",
          "Home&Kitchen",
          "Home&Kitchen",
          "Home&Kitchen",
          "Home&Kitchen",
          "Home&Kitchen",
          "Home&Kitchen",
          "Home&Kitchen",
          "Home&Kitchen",
          "Home&Kitchen",
          "Home&Kitchen",
          "Home&Kitchen",
          "Home&Kitchen",
          "Home&Kitchen",
          "Home&Kitchen",
          "Home&Kitchen",
          "Home&Kitchen",
          "Home&Kitchen",
          "Home&Kitchen",
          "Home&Kitchen",
          "Home&Kitchen",
          "Home&Kitchen",
          "Home&Kitchen",
          "Home&Kitchen",
          "Home&Kitchen",
          "Home&Kitchen",
          "Home&Kitchen",
          "Home&Kitchen",
          "Home&Kitchen",
          "Home&Kitchen",
          "Home&Kitchen",
          "Home&Kitchen",
          "Home&Kitchen",
          "Home&Kitchen",
          "Home&Kitchen",
          "Home&Kitchen",
          "Home&Kitchen",
          "Home&Kitchen",
          "Home&Kitchen",
          "Home&Kitchen",
          "Home&Kitchen",
          "Home&Kitchen",
          "Home&Kitchen",
          "Home&Kitchen",
          "Home&Kitchen",
          "Home&Kitchen",
          "Home&Kitchen",
          "Home&Kitchen",
          "Home&Kitchen",
          "Home&Kitchen",
          "Home&Kitchen",
          "Home&Kitchen",
          "Home&Kitchen",
          "Home&Kitchen",
          "Home&Kitchen",
          "Home&Kitchen",
          "Home&Kitchen",
          "Home&Kitchen",
          "Home&Kitchen",
          "Home&Kitchen",
          "Home&Kitchen",
          "Home&Kitchen",
          "Home&Kitchen",
          "Home&Kitchen",
          "Home&Kitchen",
          "Home&Kitchen",
          "Home&Kitchen",
          "Home&Kitchen",
          "Home&Kitchen",
          "Home&Kitchen",
          "Home&Kitchen",
          "Home&Kitchen",
          "Home&Kitchen",
          "Home&Kitchen",
          "Home&Kitchen",
          "Home&Kitchen",
          "Home&Kitchen",
          "Home&Kitchen",
          "Home&Kitchen",
          "Home&Kitchen",
          "Home&Kitchen",
          "Home&Kitchen",
          "Home&Kitchen",
          "Home&Kitchen",
          "Home&Kitchen",
          "Home&Kitchen",
          "Home&Kitchen",
          "Home&Kitchen",
          "Home&Kitchen",
          "Home&Kitchen",
          "Home&Kitchen",
          "Home&Kitchen",
          "Home&Kitchen",
          "Home&Kitchen",
          "Home&Kitchen",
          "Home&Kitchen",
          "Home&Kitchen",
          "Home&Kitchen",
          "Home&Kitchen",
          "Home&Kitchen",
          "Home&Kitchen",
          "Home&Kitchen",
          "Home&Kitchen",
          "Home&Kitchen",
          "Home&Kitchen",
          "Home&Kitchen",
          "Home&Kitchen",
          "Home&Kitchen",
          "Home&Kitchen",
          "Home&Kitchen",
          "Home&Kitchen",
          "Home&Kitchen",
          "Home&Kitchen",
          "Home&Kitchen",
          "Home&Kitchen",
          "Home&Kitchen",
          "Home&Kitchen",
          "Home&Kitchen",
          "Home&Kitchen",
          "Home&Kitchen",
          "Home&Kitchen",
          "Home&Kitchen",
          "Home&Kitchen",
          "Home&Kitchen",
          "Home&Kitchen",
          "Home&Kitchen",
          "Home&Kitchen",
          "Home&Kitchen",
          "Home&Kitchen",
          "Home&Kitchen",
          "Home&Kitchen",
          "Home&Kitchen",
          "Home&Kitchen",
          "Home&Kitchen",
          "Home&Kitchen",
          "Home&Kitchen",
          "Home&Kitchen",
          "Home&Kitchen",
          "Home&Kitchen",
          "Home&Kitchen",
          "Home&Kitchen",
          "Home&Kitchen",
          "Home&Kitchen",
          "Home&Kitchen",
          "Home&Kitchen",
          "Home&Kitchen",
          "Home&Kitchen",
          "Home&Kitchen",
          "Home&Kitchen",
          "Home&Kitchen",
          "Home&Kitchen",
          "Home&Kitchen",
          "Home&Kitchen",
          "Home&Kitchen",
          "Home&Kitchen",
          "Home&Kitchen",
          "Home&Kitchen",
          "Home&Kitchen",
          "Home&Kitchen",
          "Home&Kitchen",
          "Home&Kitchen",
          "Home&Kitchen",
          "Home&Kitchen",
          "Home&Kitchen",
          "Home&Kitchen",
          "Home&Kitchen",
          "Home&Kitchen",
          "Home&Kitchen",
          "Home&Kitchen",
          "Home&Kitchen",
          "Home&Kitchen",
          "Home&Kitchen",
          "Home&Kitchen",
          "Home&Kitchen",
          "Home&Kitchen",
          "Home&Kitchen",
          "Home&Kitchen",
          "Home&Kitchen",
          "Home&Kitchen",
          "Home&Kitchen",
          "Home&Kitchen",
          "Home&Kitchen",
          "Home&Kitchen",
          "Home&Kitchen",
          "Home&Kitchen",
          "Home&Kitchen",
          "Home&Kitchen",
          "Home&Kitchen",
          "Home&Kitchen",
          "Home&Kitchen",
          "Home&Kitchen",
          "Home&Kitchen",
          "Home&Kitchen",
          "Home&Kitchen",
          "Home&Kitchen",
          "Home&Kitchen",
          "Home&Kitchen",
          "Home&Kitchen",
          "Home&Kitchen",
          "Home&Kitchen",
          "Home&Kitchen",
          "Home&Kitchen",
          "Home&Kitchen",
          "Home&Kitchen",
          "Home&Kitchen",
          "Home&Kitchen",
          "Home&Kitchen",
          "Home&Kitchen",
          "Home&Kitchen",
          "Home&Kitchen",
          "Home&Kitchen",
          "Home&Kitchen",
          "Home&Kitchen",
          "Home&Kitchen",
          "Home&Kitchen",
          "Home&Kitchen",
          "Home&Kitchen",
          "Home&Kitchen",
          "Home&Kitchen",
          "Home&Kitchen",
          "Home&Kitchen",
          "Home&Kitchen",
          "Home&Kitchen",
          "Home&Kitchen",
          "Home&Kitchen",
          "Home&Kitchen",
          "Home&Kitchen",
          "Home&Kitchen",
          "Home&Kitchen",
          "Home&Kitchen",
          "Home&Kitchen",
          "Home&Kitchen",
          "Home&Kitchen",
          "Home&Kitchen",
          "Home&Kitchen",
          "Home&Kitchen",
          "Home&Kitchen",
          "Home&Kitchen",
          "Home&Kitchen",
          "Home&Kitchen",
          "Home&Kitchen",
          "Home&Kitchen",
          "Home&Kitchen",
          "Home&Kitchen",
          "Home&Kitchen",
          "Home&Kitchen",
          "Home&Kitchen",
          "Home&Kitchen",
          "Home&Kitchen",
          "Home&Kitchen",
          "Home&Kitchen",
          "Home&Kitchen",
          "Home&Kitchen",
          "Home&Kitchen",
          "Home&Kitchen",
          "Home&Kitchen",
          "Home&Kitchen",
          "Home&Kitchen",
          "Home&Kitchen",
          "Home&Kitchen",
          "Home&Kitchen",
          "Home&Kitchen",
          "Home&Kitchen",
          "Home&Kitchen",
          "Home&Kitchen",
          "Home&Kitchen",
          "Home&Kitchen",
          "Home&Kitchen",
          "Home&Kitchen",
          "Home&Kitchen",
          "Home&Kitchen",
          "Home&Kitchen",
          "Home&Kitchen",
          "Home&Kitchen",
          "Home&Kitchen",
          "Home&Kitchen",
          "Home&Kitchen"
         ],
         "x0": " ",
         "xaxis": "x",
         "y": [
          0.21,
          0.15,
          0,
          0,
          0.1,
          0.13,
          0,
          0.48,
          0.29,
          0.4,
          0.54,
          0.9,
          0.41,
          0.6,
          0.4,
          0.1,
          0.48,
          0.47,
          0.22,
          0.5,
          0.11,
          0.5,
          0.55,
          0.48,
          0.42,
          0.53,
          0.46,
          0.56,
          0.4,
          0.58,
          0.63,
          0.24,
          0.38,
          0.45,
          0.5,
          0.8,
          0.25,
          0.56,
          0.41,
          0.55,
          0.65,
          0.08,
          0.44,
          0.55,
          0.48,
          0.61,
          0.12,
          0.37,
          0.21,
          0.39,
          0.5,
          0.26,
          0.34,
          0.4,
          0.62,
          0.54,
          0.42,
          0,
          0.5,
          0.55,
          0.14,
          0.45,
          0.11,
          0.59,
          0.24,
          0.6,
          0.46,
          0.39,
          0.33,
          0.4,
          0.27,
          0.37,
          0.48,
          0.65,
          0.38,
          0.47,
          0.48,
          0.34,
          0.6,
          0,
          0.44,
          0.61,
          0.34,
          0.26,
          0.28,
          0.5,
          0.51,
          0.2,
          0.36,
          0.47,
          0.14,
          0.16,
          0.71,
          0.42,
          0.24,
          0.23,
          0,
          0.35,
          0.26,
          0.14,
          0.11,
          0.54,
          0.51,
          0.18,
          0.57,
          0.16,
          0.71,
          0.39,
          0.4,
          0.33,
          0.35,
          0.41,
          0.46,
          0,
          0,
          0.48,
          0.62,
          0.47,
          0.36,
          0.45,
          0.2,
          0.48,
          0.29,
          0.6,
          0.26,
          0.33,
          0.1,
          0.55,
          0.59,
          0.31,
          0.28,
          0.2,
          0.62,
          0.48,
          0.38,
          0.41,
          0.52,
          0.18,
          0.78,
          0.31,
          0.48,
          0.48,
          0.51,
          0.45,
          0.55,
          0,
          0.47,
          0.43,
          0.52,
          0,
          0.51,
          0.32,
          0.47,
          0.39,
          0.49,
          0.49,
          0.4,
          0.23,
          0,
          0.31,
          0.6,
          0.4,
          0.2,
          0.47,
          0.79,
          0,
          0.76,
          0.11,
          0.35,
          0.49,
          0.6,
          0.42,
          0.55,
          0.26,
          0.24,
          0.41,
          0.36,
          0.49,
          0.74,
          0.58,
          0.29,
          0.37,
          0.38,
          0.6,
          0.64,
          0.44,
          0.58,
          0.35,
          0.53,
          0.29,
          0.15,
          0.12,
          0.37,
          0.43,
          0.49,
          0.77,
          0.53,
          0.11,
          0.46,
          0.61,
          0.5,
          0.27,
          0.49,
          0.29,
          0.41,
          0.28,
          0,
          0.56,
          0.39,
          0.46,
          0.62,
          0.2,
          0.5,
          0.43,
          0.66,
          0.62,
          0.39,
          0.7,
          0.38,
          0.41,
          0.28,
          0.04,
          0.13,
          0.2,
          0.47,
          0.19,
          0.34,
          0.55,
          0.22,
          0.49,
          0.68,
          0.27,
          0.38,
          0.31,
          0.52,
          0.12,
          0.39,
          0.39,
          0.33,
          0.07,
          0.55,
          0.58,
          0.51,
          0.17,
          0.5,
          0.55,
          0.41,
          0.15,
          0.06,
          0.17,
          0.73,
          0,
          0.61,
          0.54,
          0.16,
          0.52,
          0.4,
          0.37,
          0.56,
          0.18,
          0.55,
          0.41,
          0.16,
          0.14,
          0.37,
          0.46,
          0.57,
          0.55,
          0.63,
          0.77,
          0.24,
          0.26,
          0.8,
          0.5,
          0.38,
          0.44,
          0.67,
          0.22,
          0.45,
          0.4,
          0.25,
          0.52,
          0.75,
          0.44,
          0.48,
          0.03,
          0.21,
          0,
          0.48,
          0.53,
          0.03,
          0.52,
          0.48,
          0.28,
          0.58,
          0.43,
          0.49,
          0.77,
          0.57,
          0.5,
          0.73,
          0.45,
          0.4,
          0.58,
          0.33,
          0.28,
          0.45,
          0.68,
          0.35,
          0.4,
          0.62,
          0.25,
          0.27,
          0.62,
          0.41,
          0.53,
          0.21,
          0.33,
          0.55,
          0.47,
          0.18,
          0.37,
          0.37,
          0.51,
          0.28,
          0.09,
          0.3,
          0.58,
          0.14,
          0.53,
          0.5,
          0.38,
          0.6,
          0.43,
          0.41,
          0.43,
          0.49,
          0.43,
          0,
          0.46,
          0.54,
          0.08,
          0.45,
          0.43,
          0.29,
          0.55,
          0.64,
          0.51,
          0.76,
          0.39,
          0.34,
          0.41,
          0.54,
          0.5,
          0.29,
          0.38,
          0.69,
          0.22,
          0.6,
          0.86,
          0.31,
          0.71,
          0.53,
          0.08,
          0.28,
          0.45,
          0.44,
          0.33,
          0.35,
          0.04,
          0.31,
          0.57,
          0.62,
          0.17,
          0.29,
          0.5,
          0.53,
          0.45,
          0.57,
          0.62,
          0.25,
          0.45,
          0.27,
          0.26,
          0.48,
          0.33,
          0.54,
          0.3,
          0.46,
          0.37,
          0.43,
          0.78,
          0.5,
          0.24,
          0.03,
          0.33,
          0.49,
          0.27,
          0.4,
          0.8,
          0.51,
          0.33,
          0.35,
          0.59,
          0.55,
          0.59,
          0.59,
          0.11,
          0.38,
          0.59,
          0.6,
          0.24,
          0.31,
          0.37,
          0.15,
          0.48,
          0.46,
          0.5,
          0.12,
          0.33,
          0.44,
          0.38,
          0.4,
          0.5,
          0.18,
          0.28,
          0.17,
          0.49,
          0.38,
          0.39,
          0.43,
          0.43,
          0.72,
          0.55,
          0.32,
          0.57,
          0.29,
          0.5,
          0.3,
          0.59,
          0,
          0.59,
          0.8,
          0.59,
          0.25,
          0.28,
          0.26,
          0.22
         ],
         "y0": " ",
         "yaxis": "y"
        },
        {
         "alignmentgroup": "True",
         "hovertemplate": "category_1=%{x}<br>discount_percentage=%{y}<extra></extra>",
         "legendgroup": "HomeImprovement",
         "marker": {
          "color": "#19d3f3"
         },
         "name": "HomeImprovement",
         "notched": false,
         "offsetgroup": "HomeImprovement",
         "orientation": "v",
         "showlegend": true,
         "type": "box",
         "x": [
          "HomeImprovement",
          "HomeImprovement"
         ],
         "x0": " ",
         "xaxis": "x",
         "y": [
          0.57,
          0.58
         ],
         "y0": " ",
         "yaxis": "y"
        },
        {
         "alignmentgroup": "True",
         "hovertemplate": "category_1=%{x}<br>discount_percentage=%{y}<extra></extra>",
         "legendgroup": "Toys&Games",
         "marker": {
          "color": "#FF6692"
         },
         "name": "Toys&Games",
         "notched": false,
         "offsetgroup": "Toys&Games",
         "orientation": "v",
         "showlegend": true,
         "type": "box",
         "x": [
          "Toys&Games"
         ],
         "x0": " ",
         "xaxis": "x",
         "y": [
          0
         ],
         "y0": " ",
         "yaxis": "y"
        },
        {
         "alignmentgroup": "True",
         "hovertemplate": "category_1=%{x}<br>discount_percentage=%{y}<extra></extra>",
         "legendgroup": "Car&Motorbike",
         "marker": {
          "color": "#B6E880"
         },
         "name": "Car&Motorbike",
         "notched": false,
         "offsetgroup": "Car&Motorbike",
         "orientation": "v",
         "showlegend": true,
         "type": "box",
         "x": [
          "Car&Motorbike"
         ],
         "x0": " ",
         "xaxis": "x",
         "y": [
          0.42
         ],
         "y0": " ",
         "yaxis": "y"
        },
        {
         "alignmentgroup": "True",
         "hovertemplate": "category_1=%{x}<br>discount_percentage=%{y}<extra></extra>",
         "legendgroup": "Health&PersonalCare",
         "marker": {
          "color": "#FF97FF"
         },
         "name": "Health&PersonalCare",
         "notched": false,
         "offsetgroup": "Health&PersonalCare",
         "orientation": "v",
         "showlegend": true,
         "type": "box",
         "x": [
          "Health&PersonalCare"
         ],
         "x0": " ",
         "xaxis": "x",
         "y": [
          0.53
         ],
         "y0": " ",
         "yaxis": "y"
        }
       ],
       "layout": {
        "boxmode": "overlay",
        "legend": {
         "title": {
          "text": "category_1"
         },
         "tracegroupgap": 0
        },
        "margin": {
         "t": 60
        },
        "template": {
         "data": {
          "bar": [
           {
            "error_x": {
             "color": "#2a3f5f"
            },
            "error_y": {
             "color": "#2a3f5f"
            },
            "marker": {
             "line": {
              "color": "#E5ECF6",
              "width": 0.5
             },
             "pattern": {
              "fillmode": "overlay",
              "size": 10,
              "solidity": 0.2
             }
            },
            "type": "bar"
           }
          ],
          "barpolar": [
           {
            "marker": {
             "line": {
              "color": "#E5ECF6",
              "width": 0.5
             },
             "pattern": {
              "fillmode": "overlay",
              "size": 10,
              "solidity": 0.2
             }
            },
            "type": "barpolar"
           }
          ],
          "carpet": [
           {
            "aaxis": {
             "endlinecolor": "#2a3f5f",
             "gridcolor": "white",
             "linecolor": "white",
             "minorgridcolor": "white",
             "startlinecolor": "#2a3f5f"
            },
            "baxis": {
             "endlinecolor": "#2a3f5f",
             "gridcolor": "white",
             "linecolor": "white",
             "minorgridcolor": "white",
             "startlinecolor": "#2a3f5f"
            },
            "type": "carpet"
           }
          ],
          "choropleth": [
           {
            "colorbar": {
             "outlinewidth": 0,
             "ticks": ""
            },
            "type": "choropleth"
           }
          ],
          "contour": [
           {
            "colorbar": {
             "outlinewidth": 0,
             "ticks": ""
            },
            "colorscale": [
             [
              0,
              "#0d0887"
             ],
             [
              0.1111111111111111,
              "#46039f"
             ],
             [
              0.2222222222222222,
              "#7201a8"
             ],
             [
              0.3333333333333333,
              "#9c179e"
             ],
             [
              0.4444444444444444,
              "#bd3786"
             ],
             [
              0.5555555555555556,
              "#d8576b"
             ],
             [
              0.6666666666666666,
              "#ed7953"
             ],
             [
              0.7777777777777778,
              "#fb9f3a"
             ],
             [
              0.8888888888888888,
              "#fdca26"
             ],
             [
              1,
              "#f0f921"
             ]
            ],
            "type": "contour"
           }
          ],
          "contourcarpet": [
           {
            "colorbar": {
             "outlinewidth": 0,
             "ticks": ""
            },
            "type": "contourcarpet"
           }
          ],
          "heatmap": [
           {
            "colorbar": {
             "outlinewidth": 0,
             "ticks": ""
            },
            "colorscale": [
             [
              0,
              "#0d0887"
             ],
             [
              0.1111111111111111,
              "#46039f"
             ],
             [
              0.2222222222222222,
              "#7201a8"
             ],
             [
              0.3333333333333333,
              "#9c179e"
             ],
             [
              0.4444444444444444,
              "#bd3786"
             ],
             [
              0.5555555555555556,
              "#d8576b"
             ],
             [
              0.6666666666666666,
              "#ed7953"
             ],
             [
              0.7777777777777778,
              "#fb9f3a"
             ],
             [
              0.8888888888888888,
              "#fdca26"
             ],
             [
              1,
              "#f0f921"
             ]
            ],
            "type": "heatmap"
           }
          ],
          "heatmapgl": [
           {
            "colorbar": {
             "outlinewidth": 0,
             "ticks": ""
            },
            "colorscale": [
             [
              0,
              "#0d0887"
             ],
             [
              0.1111111111111111,
              "#46039f"
             ],
             [
              0.2222222222222222,
              "#7201a8"
             ],
             [
              0.3333333333333333,
              "#9c179e"
             ],
             [
              0.4444444444444444,
              "#bd3786"
             ],
             [
              0.5555555555555556,
              "#d8576b"
             ],
             [
              0.6666666666666666,
              "#ed7953"
             ],
             [
              0.7777777777777778,
              "#fb9f3a"
             ],
             [
              0.8888888888888888,
              "#fdca26"
             ],
             [
              1,
              "#f0f921"
             ]
            ],
            "type": "heatmapgl"
           }
          ],
          "histogram": [
           {
            "marker": {
             "pattern": {
              "fillmode": "overlay",
              "size": 10,
              "solidity": 0.2
             }
            },
            "type": "histogram"
           }
          ],
          "histogram2d": [
           {
            "colorbar": {
             "outlinewidth": 0,
             "ticks": ""
            },
            "colorscale": [
             [
              0,
              "#0d0887"
             ],
             [
              0.1111111111111111,
              "#46039f"
             ],
             [
              0.2222222222222222,
              "#7201a8"
             ],
             [
              0.3333333333333333,
              "#9c179e"
             ],
             [
              0.4444444444444444,
              "#bd3786"
             ],
             [
              0.5555555555555556,
              "#d8576b"
             ],
             [
              0.6666666666666666,
              "#ed7953"
             ],
             [
              0.7777777777777778,
              "#fb9f3a"
             ],
             [
              0.8888888888888888,
              "#fdca26"
             ],
             [
              1,
              "#f0f921"
             ]
            ],
            "type": "histogram2d"
           }
          ],
          "histogram2dcontour": [
           {
            "colorbar": {
             "outlinewidth": 0,
             "ticks": ""
            },
            "colorscale": [
             [
              0,
              "#0d0887"
             ],
             [
              0.1111111111111111,
              "#46039f"
             ],
             [
              0.2222222222222222,
              "#7201a8"
             ],
             [
              0.3333333333333333,
              "#9c179e"
             ],
             [
              0.4444444444444444,
              "#bd3786"
             ],
             [
              0.5555555555555556,
              "#d8576b"
             ],
             [
              0.6666666666666666,
              "#ed7953"
             ],
             [
              0.7777777777777778,
              "#fb9f3a"
             ],
             [
              0.8888888888888888,
              "#fdca26"
             ],
             [
              1,
              "#f0f921"
             ]
            ],
            "type": "histogram2dcontour"
           }
          ],
          "mesh3d": [
           {
            "colorbar": {
             "outlinewidth": 0,
             "ticks": ""
            },
            "type": "mesh3d"
           }
          ],
          "parcoords": [
           {
            "line": {
             "colorbar": {
              "outlinewidth": 0,
              "ticks": ""
             }
            },
            "type": "parcoords"
           }
          ],
          "pie": [
           {
            "automargin": true,
            "type": "pie"
           }
          ],
          "scatter": [
           {
            "fillpattern": {
             "fillmode": "overlay",
             "size": 10,
             "solidity": 0.2
            },
            "type": "scatter"
           }
          ],
          "scatter3d": [
           {
            "line": {
             "colorbar": {
              "outlinewidth": 0,
              "ticks": ""
             }
            },
            "marker": {
             "colorbar": {
              "outlinewidth": 0,
              "ticks": ""
             }
            },
            "type": "scatter3d"
           }
          ],
          "scattercarpet": [
           {
            "marker": {
             "colorbar": {
              "outlinewidth": 0,
              "ticks": ""
             }
            },
            "type": "scattercarpet"
           }
          ],
          "scattergeo": [
           {
            "marker": {
             "colorbar": {
              "outlinewidth": 0,
              "ticks": ""
             }
            },
            "type": "scattergeo"
           }
          ],
          "scattergl": [
           {
            "marker": {
             "colorbar": {
              "outlinewidth": 0,
              "ticks": ""
             }
            },
            "type": "scattergl"
           }
          ],
          "scattermapbox": [
           {
            "marker": {
             "colorbar": {
              "outlinewidth": 0,
              "ticks": ""
             }
            },
            "type": "scattermapbox"
           }
          ],
          "scatterpolar": [
           {
            "marker": {
             "colorbar": {
              "outlinewidth": 0,
              "ticks": ""
             }
            },
            "type": "scatterpolar"
           }
          ],
          "scatterpolargl": [
           {
            "marker": {
             "colorbar": {
              "outlinewidth": 0,
              "ticks": ""
             }
            },
            "type": "scatterpolargl"
           }
          ],
          "scatterternary": [
           {
            "marker": {
             "colorbar": {
              "outlinewidth": 0,
              "ticks": ""
             }
            },
            "type": "scatterternary"
           }
          ],
          "surface": [
           {
            "colorbar": {
             "outlinewidth": 0,
             "ticks": ""
            },
            "colorscale": [
             [
              0,
              "#0d0887"
             ],
             [
              0.1111111111111111,
              "#46039f"
             ],
             [
              0.2222222222222222,
              "#7201a8"
             ],
             [
              0.3333333333333333,
              "#9c179e"
             ],
             [
              0.4444444444444444,
              "#bd3786"
             ],
             [
              0.5555555555555556,
              "#d8576b"
             ],
             [
              0.6666666666666666,
              "#ed7953"
             ],
             [
              0.7777777777777778,
              "#fb9f3a"
             ],
             [
              0.8888888888888888,
              "#fdca26"
             ],
             [
              1,
              "#f0f921"
             ]
            ],
            "type": "surface"
           }
          ],
          "table": [
           {
            "cells": {
             "fill": {
              "color": "#EBF0F8"
             },
             "line": {
              "color": "white"
             }
            },
            "header": {
             "fill": {
              "color": "#C8D4E3"
             },
             "line": {
              "color": "white"
             }
            },
            "type": "table"
           }
          ]
         },
         "layout": {
          "annotationdefaults": {
           "arrowcolor": "#2a3f5f",
           "arrowhead": 0,
           "arrowwidth": 1
          },
          "autotypenumbers": "strict",
          "coloraxis": {
           "colorbar": {
            "outlinewidth": 0,
            "ticks": ""
           }
          },
          "colorscale": {
           "diverging": [
            [
             0,
             "#8e0152"
            ],
            [
             0.1,
             "#c51b7d"
            ],
            [
             0.2,
             "#de77ae"
            ],
            [
             0.3,
             "#f1b6da"
            ],
            [
             0.4,
             "#fde0ef"
            ],
            [
             0.5,
             "#f7f7f7"
            ],
            [
             0.6,
             "#e6f5d0"
            ],
            [
             0.7,
             "#b8e186"
            ],
            [
             0.8,
             "#7fbc41"
            ],
            [
             0.9,
             "#4d9221"
            ],
            [
             1,
             "#276419"
            ]
           ],
           "sequential": [
            [
             0,
             "#0d0887"
            ],
            [
             0.1111111111111111,
             "#46039f"
            ],
            [
             0.2222222222222222,
             "#7201a8"
            ],
            [
             0.3333333333333333,
             "#9c179e"
            ],
            [
             0.4444444444444444,
             "#bd3786"
            ],
            [
             0.5555555555555556,
             "#d8576b"
            ],
            [
             0.6666666666666666,
             "#ed7953"
            ],
            [
             0.7777777777777778,
             "#fb9f3a"
            ],
            [
             0.8888888888888888,
             "#fdca26"
            ],
            [
             1,
             "#f0f921"
            ]
           ],
           "sequentialminus": [
            [
             0,
             "#0d0887"
            ],
            [
             0.1111111111111111,
             "#46039f"
            ],
            [
             0.2222222222222222,
             "#7201a8"
            ],
            [
             0.3333333333333333,
             "#9c179e"
            ],
            [
             0.4444444444444444,
             "#bd3786"
            ],
            [
             0.5555555555555556,
             "#d8576b"
            ],
            [
             0.6666666666666666,
             "#ed7953"
            ],
            [
             0.7777777777777778,
             "#fb9f3a"
            ],
            [
             0.8888888888888888,
             "#fdca26"
            ],
            [
             1,
             "#f0f921"
            ]
           ]
          },
          "colorway": [
           "#636efa",
           "#EF553B",
           "#00cc96",
           "#ab63fa",
           "#FFA15A",
           "#19d3f3",
           "#FF6692",
           "#B6E880",
           "#FF97FF",
           "#FECB52"
          ],
          "font": {
           "color": "#2a3f5f"
          },
          "geo": {
           "bgcolor": "white",
           "lakecolor": "white",
           "landcolor": "#E5ECF6",
           "showlakes": true,
           "showland": true,
           "subunitcolor": "white"
          },
          "hoverlabel": {
           "align": "left"
          },
          "hovermode": "closest",
          "mapbox": {
           "style": "light"
          },
          "paper_bgcolor": "white",
          "plot_bgcolor": "#E5ECF6",
          "polar": {
           "angularaxis": {
            "gridcolor": "white",
            "linecolor": "white",
            "ticks": ""
           },
           "bgcolor": "#E5ECF6",
           "radialaxis": {
            "gridcolor": "white",
            "linecolor": "white",
            "ticks": ""
           }
          },
          "scene": {
           "xaxis": {
            "backgroundcolor": "#E5ECF6",
            "gridcolor": "white",
            "gridwidth": 2,
            "linecolor": "white",
            "showbackground": true,
            "ticks": "",
            "zerolinecolor": "white"
           },
           "yaxis": {
            "backgroundcolor": "#E5ECF6",
            "gridcolor": "white",
            "gridwidth": 2,
            "linecolor": "white",
            "showbackground": true,
            "ticks": "",
            "zerolinecolor": "white"
           },
           "zaxis": {
            "backgroundcolor": "#E5ECF6",
            "gridcolor": "white",
            "gridwidth": 2,
            "linecolor": "white",
            "showbackground": true,
            "ticks": "",
            "zerolinecolor": "white"
           }
          },
          "shapedefaults": {
           "line": {
            "color": "#2a3f5f"
           }
          },
          "ternary": {
           "aaxis": {
            "gridcolor": "white",
            "linecolor": "white",
            "ticks": ""
           },
           "baxis": {
            "gridcolor": "white",
            "linecolor": "white",
            "ticks": ""
           },
           "bgcolor": "#E5ECF6",
           "caxis": {
            "gridcolor": "white",
            "linecolor": "white",
            "ticks": ""
           }
          },
          "title": {
           "x": 0.05
          },
          "xaxis": {
           "automargin": true,
           "gridcolor": "white",
           "linecolor": "white",
           "ticks": "",
           "title": {
            "standoff": 15
           },
           "zerolinecolor": "white",
           "zerolinewidth": 2
          },
          "yaxis": {
           "automargin": true,
           "gridcolor": "white",
           "linecolor": "white",
           "ticks": "",
           "title": {
            "standoff": 15
           },
           "zerolinecolor": "white",
           "zerolinewidth": 2
          }
         }
        },
        "title": {
         "text": "Distribution of Discount Percentages by Category"
        },
        "xaxis": {
         "anchor": "y",
         "categoryarray": [
          "Computers&Accessories",
          "Electronics",
          "MusicalInstruments",
          "OfficeProducts",
          "Home&Kitchen",
          "HomeImprovement",
          "Toys&Games",
          "Car&Motorbike",
          "Health&PersonalCare"
         ],
         "categoryorder": "array",
         "domain": [
          0,
          1
         ],
         "title": {
          "text": "Category"
         }
        },
        "yaxis": {
         "anchor": "x",
         "domain": [
          0,
          1
         ],
         "title": {
          "text": "Discount Percentage"
         }
        }
       }
      },
      "text/html": [
       "<div>                            <div id=\"16499113-c21d-4319-b456-061971a96110\" class=\"plotly-graph-div\" style=\"height:525px; width:100%;\"></div>            <script type=\"text/javascript\">                require([\"plotly\"], function(Plotly) {                    window.PLOTLYENV=window.PLOTLYENV || {};                                    if (document.getElementById(\"16499113-c21d-4319-b456-061971a96110\")) {                    Plotly.newPlot(                        \"16499113-c21d-4319-b456-061971a96110\",                        [{\"alignmentgroup\":\"True\",\"hovertemplate\":\"category_1=%{x}<br>discount_percentage=%{y}<extra></extra>\",\"legendgroup\":\"Computers&Accessories\",\"marker\":{\"color\":\"#636efa\"},\"name\":\"Computers&Accessories\",\"notched\":false,\"offsetgroup\":\"Computers&Accessories\",\"orientation\":\"v\",\"showlegend\":true,\"x\":[\"Computers&Accessories\",\"Computers&Accessories\",\"Computers&Accessories\",\"Computers&Accessories\",\"Computers&Accessories\",\"Computers&Accessories\",\"Computers&Accessories\",\"Computers&Accessories\",\"Computers&Accessories\",\"Computers&Accessories\",\"Computers&Accessories\",\"Computers&Accessories\",\"Computers&Accessories\",\"Computers&Accessories\",\"Computers&Accessories\",\"Computers&Accessories\",\"Computers&Accessories\",\"Computers&Accessories\",\"Computers&Accessories\",\"Computers&Accessories\",\"Computers&Accessories\",\"Computers&Accessories\",\"Computers&Accessories\",\"Computers&Accessories\",\"Computers&Accessories\",\"Computers&Accessories\",\"Computers&Accessories\",\"Computers&Accessories\",\"Computers&Accessories\",\"Computers&Accessories\",\"Computers&Accessories\",\"Computers&Accessories\",\"Computers&Accessories\",\"Computers&Accessories\",\"Computers&Accessories\",\"Computers&Accessories\",\"Computers&Accessories\",\"Computers&Accessories\",\"Computers&Accessories\",\"Computers&Accessories\",\"Computers&Accessories\",\"Computers&Accessories\",\"Computers&Accessories\",\"Computers&Accessories\",\"Computers&Accessories\",\"Computers&Accessories\",\"Computers&Accessories\",\"Computers&Accessories\",\"Computers&Accessories\",\"Computers&Accessories\",\"Computers&Accessories\",\"Computers&Accessories\",\"Computers&Accessories\",\"Computers&Accessories\",\"Computers&Accessories\",\"Computers&Accessories\",\"Computers&Accessories\",\"Computers&Accessories\",\"Computers&Accessories\",\"Computers&Accessories\",\"Computers&Accessories\",\"Computers&Accessories\",\"Computers&Accessories\",\"Computers&Accessories\",\"Computers&Accessories\",\"Computers&Accessories\",\"Computers&Accessories\",\"Computers&Accessories\",\"Computers&Accessories\",\"Computers&Accessories\",\"Computers&Accessories\",\"Computers&Accessories\",\"Computers&Accessories\",\"Computers&Accessories\",\"Computers&Accessories\",\"Computers&Accessories\",\"Computers&Accessories\",\"Computers&Accessories\",\"Computers&Accessories\",\"Computers&Accessories\",\"Computers&Accessories\",\"Computers&Accessories\",\"Computers&Accessories\",\"Computers&Accessories\",\"Computers&Accessories\",\"Computers&Accessories\",\"Computers&Accessories\",\"Computers&Accessories\",\"Computers&Accessories\",\"Computers&Accessories\",\"Computers&Accessories\",\"Computers&Accessories\",\"Computers&Accessories\",\"Computers&Accessories\",\"Computers&Accessories\",\"Computers&Accessories\",\"Computers&Accessories\",\"Computers&Accessories\",\"Computers&Accessories\",\"Computers&Accessories\",\"Computers&Accessories\",\"Computers&Accessories\",\"Computers&Accessories\",\"Computers&Accessories\",\"Computers&Accessories\",\"Computers&Accessories\",\"Computers&Accessories\",\"Computers&Accessories\",\"Computers&Accessories\",\"Computers&Accessories\",\"Computers&Accessories\",\"Computers&Accessories\",\"Computers&Accessories\",\"Computers&Accessories\",\"Computers&Accessories\",\"Computers&Accessories\",\"Computers&Accessories\",\"Computers&Accessories\",\"Computers&Accessories\",\"Computers&Accessories\",\"Computers&Accessories\",\"Computers&Accessories\",\"Computers&Accessories\",\"Computers&Accessories\",\"Computers&Accessories\",\"Computers&Accessories\",\"Computers&Accessories\",\"Computers&Accessories\",\"Computers&Accessories\",\"Computers&Accessories\",\"Computers&Accessories\",\"Computers&Accessories\",\"Computers&Accessories\",\"Computers&Accessories\",\"Computers&Accessories\",\"Computers&Accessories\",\"Computers&Accessories\",\"Computers&Accessories\",\"Computers&Accessories\",\"Computers&Accessories\",\"Computers&Accessories\",\"Computers&Accessories\",\"Computers&Accessories\",\"Computers&Accessories\",\"Computers&Accessories\",\"Computers&Accessories\",\"Computers&Accessories\",\"Computers&Accessories\",\"Computers&Accessories\",\"Computers&Accessories\",\"Computers&Accessories\",\"Computers&Accessories\",\"Computers&Accessories\",\"Computers&Accessories\",\"Computers&Accessories\",\"Computers&Accessories\",\"Computers&Accessories\",\"Computers&Accessories\",\"Computers&Accessories\",\"Computers&Accessories\",\"Computers&Accessories\",\"Computers&Accessories\",\"Computers&Accessories\",\"Computers&Accessories\",\"Computers&Accessories\",\"Computers&Accessories\",\"Computers&Accessories\",\"Computers&Accessories\",\"Computers&Accessories\",\"Computers&Accessories\",\"Computers&Accessories\",\"Computers&Accessories\",\"Computers&Accessories\",\"Computers&Accessories\",\"Computers&Accessories\",\"Computers&Accessories\",\"Computers&Accessories\",\"Computers&Accessories\",\"Computers&Accessories\",\"Computers&Accessories\",\"Computers&Accessories\",\"Computers&Accessories\",\"Computers&Accessories\",\"Computers&Accessories\",\"Computers&Accessories\",\"Computers&Accessories\",\"Computers&Accessories\",\"Computers&Accessories\",\"Computers&Accessories\",\"Computers&Accessories\",\"Computers&Accessories\",\"Computers&Accessories\",\"Computers&Accessories\",\"Computers&Accessories\",\"Computers&Accessories\",\"Computers&Accessories\",\"Computers&Accessories\",\"Computers&Accessories\",\"Computers&Accessories\",\"Computers&Accessories\",\"Computers&Accessories\",\"Computers&Accessories\",\"Computers&Accessories\",\"Computers&Accessories\",\"Computers&Accessories\",\"Computers&Accessories\",\"Computers&Accessories\",\"Computers&Accessories\",\"Computers&Accessories\",\"Computers&Accessories\",\"Computers&Accessories\",\"Computers&Accessories\",\"Computers&Accessories\",\"Computers&Accessories\",\"Computers&Accessories\",\"Computers&Accessories\",\"Computers&Accessories\",\"Computers&Accessories\",\"Computers&Accessories\",\"Computers&Accessories\",\"Computers&Accessories\",\"Computers&Accessories\",\"Computers&Accessories\",\"Computers&Accessories\",\"Computers&Accessories\",\"Computers&Accessories\",\"Computers&Accessories\",\"Computers&Accessories\",\"Computers&Accessories\",\"Computers&Accessories\",\"Computers&Accessories\",\"Computers&Accessories\",\"Computers&Accessories\",\"Computers&Accessories\",\"Computers&Accessories\",\"Computers&Accessories\",\"Computers&Accessories\",\"Computers&Accessories\",\"Computers&Accessories\",\"Computers&Accessories\",\"Computers&Accessories\",\"Computers&Accessories\",\"Computers&Accessories\",\"Computers&Accessories\",\"Computers&Accessories\",\"Computers&Accessories\",\"Computers&Accessories\",\"Computers&Accessories\",\"Computers&Accessories\",\"Computers&Accessories\",\"Computers&Accessories\",\"Computers&Accessories\",\"Computers&Accessories\",\"Computers&Accessories\",\"Computers&Accessories\",\"Computers&Accessories\",\"Computers&Accessories\",\"Computers&Accessories\",\"Computers&Accessories\",\"Computers&Accessories\",\"Computers&Accessories\",\"Computers&Accessories\",\"Computers&Accessories\",\"Computers&Accessories\",\"Computers&Accessories\",\"Computers&Accessories\",\"Computers&Accessories\",\"Computers&Accessories\",\"Computers&Accessories\",\"Computers&Accessories\",\"Computers&Accessories\",\"Computers&Accessories\",\"Computers&Accessories\",\"Computers&Accessories\",\"Computers&Accessories\",\"Computers&Accessories\",\"Computers&Accessories\",\"Computers&Accessories\",\"Computers&Accessories\",\"Computers&Accessories\",\"Computers&Accessories\",\"Computers&Accessories\",\"Computers&Accessories\",\"Computers&Accessories\",\"Computers&Accessories\",\"Computers&Accessories\",\"Computers&Accessories\",\"Computers&Accessories\",\"Computers&Accessories\",\"Computers&Accessories\",\"Computers&Accessories\",\"Computers&Accessories\",\"Computers&Accessories\",\"Computers&Accessories\",\"Computers&Accessories\",\"Computers&Accessories\",\"Computers&Accessories\",\"Computers&Accessories\",\"Computers&Accessories\",\"Computers&Accessories\",\"Computers&Accessories\",\"Computers&Accessories\",\"Computers&Accessories\",\"Computers&Accessories\",\"Computers&Accessories\",\"Computers&Accessories\",\"Computers&Accessories\",\"Computers&Accessories\",\"Computers&Accessories\",\"Computers&Accessories\",\"Computers&Accessories\",\"Computers&Accessories\",\"Computers&Accessories\",\"Computers&Accessories\",\"Computers&Accessories\",\"Computers&Accessories\",\"Computers&Accessories\",\"Computers&Accessories\",\"Computers&Accessories\",\"Computers&Accessories\",\"Computers&Accessories\",\"Computers&Accessories\",\"Computers&Accessories\",\"Computers&Accessories\",\"Computers&Accessories\",\"Computers&Accessories\",\"Computers&Accessories\",\"Computers&Accessories\",\"Computers&Accessories\",\"Computers&Accessories\",\"Computers&Accessories\",\"Computers&Accessories\",\"Computers&Accessories\",\"Computers&Accessories\",\"Computers&Accessories\",\"Computers&Accessories\",\"Computers&Accessories\",\"Computers&Accessories\",\"Computers&Accessories\",\"Computers&Accessories\",\"Computers&Accessories\",\"Computers&Accessories\",\"Computers&Accessories\",\"Computers&Accessories\",\"Computers&Accessories\",\"Computers&Accessories\",\"Computers&Accessories\",\"Computers&Accessories\",\"Computers&Accessories\",\"Computers&Accessories\",\"Computers&Accessories\",\"Computers&Accessories\",\"Computers&Accessories\",\"Computers&Accessories\",\"Computers&Accessories\",\"Computers&Accessories\",\"Computers&Accessories\",\"Computers&Accessories\",\"Computers&Accessories\",\"Computers&Accessories\",\"Computers&Accessories\",\"Computers&Accessories\",\"Computers&Accessories\",\"Computers&Accessories\",\"Computers&Accessories\",\"Computers&Accessories\",\"Computers&Accessories\",\"Computers&Accessories\",\"Computers&Accessories\",\"Computers&Accessories\",\"Computers&Accessories\",\"Computers&Accessories\",\"Computers&Accessories\",\"Computers&Accessories\",\"Computers&Accessories\",\"Computers&Accessories\",\"Computers&Accessories\",\"Computers&Accessories\",\"Computers&Accessories\",\"Computers&Accessories\",\"Computers&Accessories\",\"Computers&Accessories\",\"Computers&Accessories\",\"Computers&Accessories\",\"Computers&Accessories\",\"Computers&Accessories\",\"Computers&Accessories\",\"Computers&Accessories\",\"Computers&Accessories\",\"Computers&Accessories\",\"Computers&Accessories\",\"Computers&Accessories\",\"Computers&Accessories\",\"Computers&Accessories\",\"Computers&Accessories\",\"Computers&Accessories\",\"Computers&Accessories\",\"Computers&Accessories\",\"Computers&Accessories\",\"Computers&Accessories\",\"Computers&Accessories\",\"Computers&Accessories\",\"Computers&Accessories\",\"Computers&Accessories\",\"Computers&Accessories\",\"Computers&Accessories\",\"Computers&Accessories\",\"Computers&Accessories\",\"Computers&Accessories\",\"Computers&Accessories\",\"Computers&Accessories\",\"Computers&Accessories\",\"Computers&Accessories\",\"Computers&Accessories\",\"Computers&Accessories\",\"Computers&Accessories\",\"Computers&Accessories\",\"Computers&Accessories\",\"Computers&Accessories\",\"Computers&Accessories\",\"Computers&Accessories\",\"Computers&Accessories\",\"Computers&Accessories\",\"Computers&Accessories\",\"Computers&Accessories\",\"Computers&Accessories\",\"Computers&Accessories\",\"Computers&Accessories\",\"Computers&Accessories\",\"Computers&Accessories\",\"Computers&Accessories\",\"Computers&Accessories\",\"Computers&Accessories\",\"Computers&Accessories\",\"Computers&Accessories\",\"Computers&Accessories\",\"Computers&Accessories\",\"Computers&Accessories\",\"Computers&Accessories\",\"Computers&Accessories\",\"Computers&Accessories\",\"Computers&Accessories\",\"Computers&Accessories\",\"Computers&Accessories\",\"Computers&Accessories\",\"Computers&Accessories\",\"Computers&Accessories\",\"Computers&Accessories\",\"Computers&Accessories\",\"Computers&Accessories\",\"Computers&Accessories\",\"Computers&Accessories\",\"Computers&Accessories\"],\"x0\":\" \",\"xaxis\":\"x\",\"y\":[0.64,0.43,0.9,0.53,0.61,0.85,0.65,0.23,0.5,0.33,0.55,0.63,0.61,0.6,0.13,0.38,0.6,0.46,0.7,0.25,0.51,0.7,0.73,0.64,0.65,0.0,0.8,0.85,0.53,0.8,0.51,0.7,0.64,0.38,0.7,0.67,0.58,0.5,0.45,0.64,0.62,0.43,0.54,0.77,0.56,0.86,0.61,0.62,0.69,0.61,0.42,0.77,0.6,0.6,0.55,0.58,0.64,0.44,0.63,0.75,0.8,0.68,0.66,0.57,0.8,0.17,0.65,0.42,0.52,0.53,0.65,0.6,0.65,0.7,0.88,0.73,0.6,0.47,0.65,0.85,0.75,0.2,0.6,0.4,0.54,0.73,0.5,0.64,0.43,0.44,0.52,0.44,0.47,0.69,0.62,0.38,0.25,0.66,0.7,0.63,0.29,0.69,0.38,0.44,0.63,0.67,0.8,0.6,0.71,0.64,0.71,0.57,0.15,0.53,0.58,0.38,0.53,0.66,0.65,0.47,0.75,0.48,0.41,0.55,0.63,0.25,0.42,0.75,0.63,0.6,0.43,0.68,0.5,0.54,0.73,0.55,0.77,0.29,0.59,0.68,0.55,0.66,0.63,0.89,0.45,0.87,0.63,0.7,0.7,0.63,0.61,0.7,0.35,0.8,0.52,0.6,0.38,0.8,0.88,0.75,0.59,0.61,0.71,0.78,0.8,0.66,0.78,0.61,0.63,0.57,0.75,0.65,0.2,0.63,0.64,0.43,0.8,0.53,0.61,0.85,0.9,0.65,0.23,0.33,0.55,0.63,0.61,0.6,0.13,0.46,0.38,0.6,0.7,0.44,0.7,0.51,0.85,0.53,0.0,0.62,0.69,0.77,0.6,0.55,0.56,0.33,0.08,0.62,0.77,0.9,0.68,0.59,0.5,0.69,0.54,0.64,0.44,0.43,0.8,0.18,0.33,0.53,0.3,0.61,0.62,0.66,0.85,0.06,0.9,0.87,0.64,0.56,0.27,0.87,0.67,0.65,0.43,0.66,0.5,0.8,0.18,0.23,0.54,0.55,0.56,0.6,0.43,0.24,0.5,0.55,0.38,0.33,0.61,0.33,0.6,0.57,0.94,0.04,0.13,0.46,0.41,0.54,0.0,0.36,0.59,0.26,0.7,0.4,0.73,0.58,0.3,0.32,0.25,0.83,0.85,0.63,0.71,0.64,0.25,0.53,0.43,0.55,0.45,0.36,0.8,0.28,0.19,0.56,0.6,0.25,0.66,0.39,0.7,0.6,0.5,0.49,0.2,0.66,0.85,0.73,0.1,0.51,0.77,0.51,0.7,0.24,0.23,0.38,0.55,0.5,0.77,0.4,0.44,0.73,0.7,0.62,0.5,0.41,0.3,0.5,0.28,0.59,0.64,0.22,0.46,0.55,0.21,0.65,0.38,0.0,0.35,0.64,0.41,0.42,0.0,0.22,0.8,0.53,0.8,0.85,0.69,0.38,0.43,0.18,0.62,0.63,0.51,0.7,0.35,0.4,0.79,0.67,0.6,0.8,0.5,0.38,0.88,0.65,0.08,0.5,0.7,0.3,0.66,0.4,0.58,0.53,0.78,0.5,0.21,0.0,0.23,0.62,0.57,0.45,0.25,0.62,0.65,0.55,0.35,0.24,0.43,0.18,0.34,0.23,0.1,0.47,0.55,0.77,0.6,0.56,0.56,0.53,0.76,0.78,0.75,0.36,0.68,0.5,0.4,0.86,0.36,0.73,0.58,0.61,0.66,0.8,0.75,0.5,0.76,0.38,0.42,0.16,0.48,0.34,0.31,0.17,0.17,0.62,0.34,0.51,0.69,0.0,0.29,0.8,0.61,0.5,0.77,0.6,0.14,0.48,0.73,0.62,0.6,0.47,0.55,0.55,0.36,0.5,0.0,0.56,0.58,0.27,0.57,0.75,0.13,0.46,0.75,0.65,0.64,0.38,0.8,0.66,0.7],\"y0\":\" \",\"yaxis\":\"y\",\"type\":\"box\"},{\"alignmentgroup\":\"True\",\"hovertemplate\":\"category_1=%{x}<br>discount_percentage=%{y}<extra></extra>\",\"legendgroup\":\"Electronics\",\"marker\":{\"color\":\"#EF553B\"},\"name\":\"Electronics\",\"notched\":false,\"offsetgroup\":\"Electronics\",\"orientation\":\"v\",\"showlegend\":true,\"x\":[\"Electronics\",\"Electronics\",\"Electronics\",\"Electronics\",\"Electronics\",\"Electronics\",\"Electronics\",\"Electronics\",\"Electronics\",\"Electronics\",\"Electronics\",\"Electronics\",\"Electronics\",\"Electronics\",\"Electronics\",\"Electronics\",\"Electronics\",\"Electronics\",\"Electronics\",\"Electronics\",\"Electronics\",\"Electronics\",\"Electronics\",\"Electronics\",\"Electronics\",\"Electronics\",\"Electronics\",\"Electronics\",\"Electronics\",\"Electronics\",\"Electronics\",\"Electronics\",\"Electronics\",\"Electronics\",\"Electronics\",\"Electronics\",\"Electronics\",\"Electronics\",\"Electronics\",\"Electronics\",\"Electronics\",\"Electronics\",\"Electronics\",\"Electronics\",\"Electronics\",\"Electronics\",\"Electronics\",\"Electronics\",\"Electronics\",\"Electronics\",\"Electronics\",\"Electronics\",\"Electronics\",\"Electronics\",\"Electronics\",\"Electronics\",\"Electronics\",\"Electronics\",\"Electronics\",\"Electronics\",\"Electronics\",\"Electronics\",\"Electronics\",\"Electronics\",\"Electronics\",\"Electronics\",\"Electronics\",\"Electronics\",\"Electronics\",\"Electronics\",\"Electronics\",\"Electronics\",\"Electronics\",\"Electronics\",\"Electronics\",\"Electronics\",\"Electronics\",\"Electronics\",\"Electronics\",\"Electronics\",\"Electronics\",\"Electronics\",\"Electronics\",\"Electronics\",\"Electronics\",\"Electronics\",\"Electronics\",\"Electronics\",\"Electronics\",\"Electronics\",\"Electronics\",\"Electronics\",\"Electronics\",\"Electronics\",\"Electronics\",\"Electronics\",\"Electronics\",\"Electronics\",\"Electronics\",\"Electronics\",\"Electronics\",\"Electronics\",\"Electronics\",\"Electronics\",\"Electronics\",\"Electronics\",\"Electronics\",\"Electronics\",\"Electronics\",\"Electronics\",\"Electronics\",\"Electronics\",\"Electronics\",\"Electronics\",\"Electronics\",\"Electronics\",\"Electronics\",\"Electronics\",\"Electronics\",\"Electronics\",\"Electronics\",\"Electronics\",\"Electronics\",\"Electronics\",\"Electronics\",\"Electronics\",\"Electronics\",\"Electronics\",\"Electronics\",\"Electronics\",\"Electronics\",\"Electronics\",\"Electronics\",\"Electronics\",\"Electronics\",\"Electronics\",\"Electronics\",\"Electronics\",\"Electronics\",\"Electronics\",\"Electronics\",\"Electronics\",\"Electronics\",\"Electronics\",\"Electronics\",\"Electronics\",\"Electronics\",\"Electronics\",\"Electronics\",\"Electronics\",\"Electronics\",\"Electronics\",\"Electronics\",\"Electronics\",\"Electronics\",\"Electronics\",\"Electronics\",\"Electronics\",\"Electronics\",\"Electronics\",\"Electronics\",\"Electronics\",\"Electronics\",\"Electronics\",\"Electronics\",\"Electronics\",\"Electronics\",\"Electronics\",\"Electronics\",\"Electronics\",\"Electronics\",\"Electronics\",\"Electronics\",\"Electronics\",\"Electronics\",\"Electronics\",\"Electronics\",\"Electronics\",\"Electronics\",\"Electronics\",\"Electronics\",\"Electronics\",\"Electronics\",\"Electronics\",\"Electronics\",\"Electronics\",\"Electronics\",\"Electronics\",\"Electronics\",\"Electronics\",\"Electronics\",\"Electronics\",\"Electronics\",\"Electronics\",\"Electronics\",\"Electronics\",\"Electronics\",\"Electronics\",\"Electronics\",\"Electronics\",\"Electronics\",\"Electronics\",\"Electronics\",\"Electronics\",\"Electronics\",\"Electronics\",\"Electronics\",\"Electronics\",\"Electronics\",\"Electronics\",\"Electronics\",\"Electronics\",\"Electronics\",\"Electronics\",\"Electronics\",\"Electronics\",\"Electronics\",\"Electronics\",\"Electronics\",\"Electronics\",\"Electronics\",\"Electronics\",\"Electronics\",\"Electronics\",\"Electronics\",\"Electronics\",\"Electronics\",\"Electronics\",\"Electronics\",\"Electronics\",\"Electronics\",\"Electronics\",\"Electronics\",\"Electronics\",\"Electronics\",\"Electronics\",\"Electronics\",\"Electronics\",\"Electronics\",\"Electronics\",\"Electronics\",\"Electronics\",\"Electronics\",\"Electronics\",\"Electronics\",\"Electronics\",\"Electronics\",\"Electronics\",\"Electronics\",\"Electronics\",\"Electronics\",\"Electronics\",\"Electronics\",\"Electronics\",\"Electronics\",\"Electronics\",\"Electronics\",\"Electronics\",\"Electronics\",\"Electronics\",\"Electronics\",\"Electronics\",\"Electronics\",\"Electronics\",\"Electronics\",\"Electronics\",\"Electronics\",\"Electronics\",\"Electronics\",\"Electronics\",\"Electronics\",\"Electronics\",\"Electronics\",\"Electronics\",\"Electronics\",\"Electronics\",\"Electronics\",\"Electronics\",\"Electronics\",\"Electronics\",\"Electronics\",\"Electronics\",\"Electronics\",\"Electronics\",\"Electronics\",\"Electronics\",\"Electronics\",\"Electronics\",\"Electronics\",\"Electronics\",\"Electronics\",\"Electronics\",\"Electronics\",\"Electronics\",\"Electronics\",\"Electronics\",\"Electronics\",\"Electronics\",\"Electronics\",\"Electronics\",\"Electronics\",\"Electronics\",\"Electronics\",\"Electronics\",\"Electronics\",\"Electronics\",\"Electronics\",\"Electronics\",\"Electronics\",\"Electronics\",\"Electronics\",\"Electronics\",\"Electronics\",\"Electronics\",\"Electronics\",\"Electronics\",\"Electronics\",\"Electronics\",\"Electronics\",\"Electronics\",\"Electronics\",\"Electronics\",\"Electronics\",\"Electronics\",\"Electronics\",\"Electronics\",\"Electronics\",\"Electronics\",\"Electronics\",\"Electronics\",\"Electronics\",\"Electronics\",\"Electronics\",\"Electronics\",\"Electronics\",\"Electronics\",\"Electronics\",\"Electronics\",\"Electronics\",\"Electronics\",\"Electronics\",\"Electronics\",\"Electronics\",\"Electronics\",\"Electronics\",\"Electronics\",\"Electronics\",\"Electronics\",\"Electronics\",\"Electronics\",\"Electronics\",\"Electronics\",\"Electronics\",\"Electronics\",\"Electronics\",\"Electronics\",\"Electronics\",\"Electronics\",\"Electronics\",\"Electronics\",\"Electronics\",\"Electronics\",\"Electronics\",\"Electronics\",\"Electronics\",\"Electronics\",\"Electronics\",\"Electronics\",\"Electronics\",\"Electronics\",\"Electronics\",\"Electronics\",\"Electronics\",\"Electronics\",\"Electronics\",\"Electronics\",\"Electronics\",\"Electronics\",\"Electronics\",\"Electronics\",\"Electronics\",\"Electronics\",\"Electronics\",\"Electronics\",\"Electronics\",\"Electronics\",\"Electronics\",\"Electronics\",\"Electronics\",\"Electronics\",\"Electronics\",\"Electronics\",\"Electronics\",\"Electronics\",\"Electronics\",\"Electronics\",\"Electronics\",\"Electronics\",\"Electronics\",\"Electronics\",\"Electronics\",\"Electronics\",\"Electronics\",\"Electronics\",\"Electronics\",\"Electronics\",\"Electronics\",\"Electronics\",\"Electronics\",\"Electronics\",\"Electronics\",\"Electronics\",\"Electronics\",\"Electronics\",\"Electronics\",\"Electronics\",\"Electronics\",\"Electronics\",\"Electronics\",\"Electronics\",\"Electronics\",\"Electronics\",\"Electronics\",\"Electronics\",\"Electronics\",\"Electronics\",\"Electronics\",\"Electronics\",\"Electronics\",\"Electronics\",\"Electronics\",\"Electronics\",\"Electronics\",\"Electronics\",\"Electronics\",\"Electronics\",\"Electronics\",\"Electronics\",\"Electronics\",\"Electronics\",\"Electronics\",\"Electronics\",\"Electronics\",\"Electronics\",\"Electronics\",\"Electronics\",\"Electronics\",\"Electronics\",\"Electronics\",\"Electronics\",\"Electronics\",\"Electronics\",\"Electronics\",\"Electronics\",\"Electronics\",\"Electronics\",\"Electronics\",\"Electronics\",\"Electronics\",\"Electronics\",\"Electronics\",\"Electronics\",\"Electronics\",\"Electronics\",\"Electronics\",\"Electronics\",\"Electronics\",\"Electronics\",\"Electronics\",\"Electronics\",\"Electronics\",\"Electronics\",\"Electronics\",\"Electronics\",\"Electronics\",\"Electronics\",\"Electronics\",\"Electronics\",\"Electronics\",\"Electronics\",\"Electronics\",\"Electronics\",\"Electronics\",\"Electronics\",\"Electronics\",\"Electronics\",\"Electronics\",\"Electronics\",\"Electronics\",\"Electronics\",\"Electronics\",\"Electronics\",\"Electronics\",\"Electronics\",\"Electronics\",\"Electronics\",\"Electronics\",\"Electronics\",\"Electronics\",\"Electronics\",\"Electronics\",\"Electronics\",\"Electronics\",\"Electronics\",\"Electronics\",\"Electronics\",\"Electronics\",\"Electronics\",\"Electronics\",\"Electronics\",\"Electronics\",\"Electronics\",\"Electronics\",\"Electronics\",\"Electronics\",\"Electronics\",\"Electronics\",\"Electronics\",\"Electronics\",\"Electronics\",\"Electronics\",\"Electronics\",\"Electronics\",\"Electronics\",\"Electronics\",\"Electronics\"],\"x0\":\" \",\"xaxis\":\"x\",\"y\":[0.69,0.44,0.39,0.44,0.41,0.42,0.72,0.25,0.28,0.43,0.35,0.6,0.46,0.54,0.27,0.78,0.31,0.44,0.78,0.47,0.47,0.37,0.65,0.64,0.62,0.25,0.32,0.41,0.22,0.54,0.69,0.77,0.67,0.27,0.42,0.63,0.33,0.8,0.35,0.63,0.47,0.53,0.27,0.53,0.62,0.64,0.42,0.59,0.31,0.73,0.38,0.58,0.0,0.4,0.23,0.61,0.31,0.54,0.26,0.5,0.41,0.58,0.56,0.32,0.75,0.83,0.46,0.31,0.6,0.59,0.53,0.76,0.48,0.32,0.75,0.31,0.82,0.66,0.65,0.22,0.63,0.66,0.35,0.61,0.7,0.59,0.28,0.83,0.65,0.67,0.5,0.46,0.57,0.58,0.88,0.36,0.42,0.75,0.56,0.5,0.6,0.5,0.83,0.44,0.56,0.44,0.76,0.35,0.42,0.57,0.6,0.0,0.24,0.59,0.36,0.43,0.28,0.65,0.53,0.6,0.6,0.34,0.27,0.5,0.37,0.4,0.57,0.46,0.5,0.48,0.59,0.4,0.7,0.41,0.5,0.5,0.59,0.52,0.62,0.63,0.45,0.37,0.15,0.45,0.35,0.63,0.23,0.59,0.38,0.54,0.6,0.5,0.0,0.52,0.11,0.51,0.46,0.61,0.48,0.33,0.91,0.8,0.75,0.07,0.28,0.0,0.0,0.28,0.28,0.43,0.62,0.19,0.79,0.4,0.21,0.76,0.25,0.73,0.65,0.47,0.21,0.4,0.48,0.65,0.28,0.6,0.81,0.29,0.47,0.28,0.91,0.78,0.32,0.21,0.91,0.23,0.24,0.91,0.25,0.72,0.76,0.5,0.18,0.91,0.25,0.49,0.19,0.66,0.8,0.26,0.2,0.37,0.43,0.5,0.75,0.17,0.71,0.8,0.71,0.65,0.28,0.62,0.3,0.6,0.8,0.7,0.0,0.84,0.27,0.1,0.32,0.6,0.38,0.19,0.67,0.68,0.28,0.27,0.62,0.75,0.35,0.28,0.6,0.28,0.22,0.62,0.42,0.76,0.77,0.26,0.18,0.21,0.6,0.81,0.06,0.48,0.22,0.3,0.38,0.28,0.26,0.66,0.68,0.22,0.3,0.5,0.22,0.18,0.14,0.79,0.75,0.66,0.65,0.52,0.62,0.78,0.21,0.0,0.66,0.22,0.75,0.19,0.7,0.81,0.82,0.33,0.54,0.65,0.28,0.65,0.17,0.78,0.81,0.44,0.85,0.26,0.13,0.6,0.77,0.4,0.82,0.74,0.79,0.3,0.04,0.19,0.29,0.32,0.5,0.67,0.78,0.43,0.8,0.32,0.7,0.19,0.76,0.29,0.58,0.14,0.85,0.58,0.75,0.84,0.13,0.05,0.8,0.69,0.66,0.74,0.7,0.58,0.35,0.46,0.19,0.1,0.13,0.57,0.53,0.73,0.8,0.28,0.9,0.27,0.25,0.86,0.33,0.75,0.5,0.74,0.74,0.54,0.88,0.43,0.32,0.38,0.42,0.9,0.21,0.81,0.16,0.75,0.74,0.6,0.21,0.73,0.49,0.55,0.29,0.5,0.78,0.56,0.57,0.17,0.82,0.75,0.79,0.28,0.72,0.63,0.63,0.67,0.8,0.77,0.57,0.43,0.6,0.65,0.63,0.4,0.69,0.79,0.5,0.73,0.6,0.81,0.67,0.78,0.16,0.65,0.76,0.69,0.5,0.75,0.8,0.75,0.71,0.8,0.62,0.69,0.6,0.74,0.76,0.83,0.17,0.78,0.8,0.28,0.6,0.64,0.28,0.52,0.54,0.6,0.1,0.62,0.57,0.69,0.77,0.2,0.47,0.68,0.06,0.38,0.0,0.7,0.6,0.63,0.15,0.47,0.43,0.45,0.65,0.39,0.5,0.4,0.24,0.8,0.2,0.44,0.41,0.5,0.55,0.33,0.72,0.81,0.65,0.7,0.43,0.75,0.12,0.54,0.55,0.3,0.14,0.74,0.8,0.8,0.85,0.57,0.76,0.44,0.51,0.64,0.6,0.67,0.38,0.75,0.65,0.21,0.0,0.6,0.25,0.54,0.62,0.58,0.48,0.75,0.82,0.57,0.43,0.63,0.76,0.66,0.25,0.64,0.38,0.42,0.58,0.6,0.69,0.42,0.25,0.74,0.53,0.9,0.16,0.56,0.25,0.46,0.44,0.42,0.59,0.88,0.0,0.14,0.69,0.25,0.79,0.7,0.55,0.05,0.66,0.6,0.63,0.5],\"y0\":\" \",\"yaxis\":\"y\",\"type\":\"box\"},{\"alignmentgroup\":\"True\",\"hovertemplate\":\"category_1=%{x}<br>discount_percentage=%{y}<extra></extra>\",\"legendgroup\":\"MusicalInstruments\",\"marker\":{\"color\":\"#00cc96\"},\"name\":\"MusicalInstruments\",\"notched\":false,\"offsetgroup\":\"MusicalInstruments\",\"orientation\":\"v\",\"showlegend\":true,\"x\":[\"MusicalInstruments\",\"MusicalInstruments\"],\"x0\":\" \",\"xaxis\":\"x\",\"y\":[0.6,0.32],\"y0\":\" \",\"yaxis\":\"y\",\"type\":\"box\"},{\"alignmentgroup\":\"True\",\"hovertemplate\":\"category_1=%{x}<br>discount_percentage=%{y}<extra></extra>\",\"legendgroup\":\"OfficeProducts\",\"marker\":{\"color\":\"#ab63fa\"},\"name\":\"OfficeProducts\",\"notched\":false,\"offsetgroup\":\"OfficeProducts\",\"orientation\":\"v\",\"showlegend\":true,\"x\":[\"OfficeProducts\",\"OfficeProducts\",\"OfficeProducts\",\"OfficeProducts\",\"OfficeProducts\",\"OfficeProducts\",\"OfficeProducts\",\"OfficeProducts\",\"OfficeProducts\",\"OfficeProducts\",\"OfficeProducts\",\"OfficeProducts\",\"OfficeProducts\",\"OfficeProducts\",\"OfficeProducts\",\"OfficeProducts\",\"OfficeProducts\",\"OfficeProducts\",\"OfficeProducts\",\"OfficeProducts\",\"OfficeProducts\",\"OfficeProducts\",\"OfficeProducts\",\"OfficeProducts\",\"OfficeProducts\",\"OfficeProducts\",\"OfficeProducts\",\"OfficeProducts\",\"OfficeProducts\",\"OfficeProducts\",\"OfficeProducts\"],\"x0\":\" \",\"xaxis\":\"x\",\"y\":[0.0,0.0,0.05,0.02,0.75,0.14,0.0,0.0,0.2,0.2,0.31,0.22,0.0,0.11,0.49,0.05,0.0,0.15,0.02,0.1,0.0,0.15,0.53,0.0,0.0,0.24,0.0,0.1,0.0,0.0,0.0],\"y0\":\" \",\"yaxis\":\"y\",\"type\":\"box\"},{\"alignmentgroup\":\"True\",\"hovertemplate\":\"category_1=%{x}<br>discount_percentage=%{y}<extra></extra>\",\"legendgroup\":\"Home&Kitchen\",\"marker\":{\"color\":\"#FFA15A\"},\"name\":\"Home&Kitchen\",\"notched\":false,\"offsetgroup\":\"Home&Kitchen\",\"orientation\":\"v\",\"showlegend\":true,\"x\":[\"Home&Kitchen\",\"Home&Kitchen\",\"Home&Kitchen\",\"Home&Kitchen\",\"Home&Kitchen\",\"Home&Kitchen\",\"Home&Kitchen\",\"Home&Kitchen\",\"Home&Kitchen\",\"Home&Kitchen\",\"Home&Kitchen\",\"Home&Kitchen\",\"Home&Kitchen\",\"Home&Kitchen\",\"Home&Kitchen\",\"Home&Kitchen\",\"Home&Kitchen\",\"Home&Kitchen\",\"Home&Kitchen\",\"Home&Kitchen\",\"Home&Kitchen\",\"Home&Kitchen\",\"Home&Kitchen\",\"Home&Kitchen\",\"Home&Kitchen\",\"Home&Kitchen\",\"Home&Kitchen\",\"Home&Kitchen\",\"Home&Kitchen\",\"Home&Kitchen\",\"Home&Kitchen\",\"Home&Kitchen\",\"Home&Kitchen\",\"Home&Kitchen\",\"Home&Kitchen\",\"Home&Kitchen\",\"Home&Kitchen\",\"Home&Kitchen\",\"Home&Kitchen\",\"Home&Kitchen\",\"Home&Kitchen\",\"Home&Kitchen\",\"Home&Kitchen\",\"Home&Kitchen\",\"Home&Kitchen\",\"Home&Kitchen\",\"Home&Kitchen\",\"Home&Kitchen\",\"Home&Kitchen\",\"Home&Kitchen\",\"Home&Kitchen\",\"Home&Kitchen\",\"Home&Kitchen\",\"Home&Kitchen\",\"Home&Kitchen\",\"Home&Kitchen\",\"Home&Kitchen\",\"Home&Kitchen\",\"Home&Kitchen\",\"Home&Kitchen\",\"Home&Kitchen\",\"Home&Kitchen\",\"Home&Kitchen\",\"Home&Kitchen\",\"Home&Kitchen\",\"Home&Kitchen\",\"Home&Kitchen\",\"Home&Kitchen\",\"Home&Kitchen\",\"Home&Kitchen\",\"Home&Kitchen\",\"Home&Kitchen\",\"Home&Kitchen\",\"Home&Kitchen\",\"Home&Kitchen\",\"Home&Kitchen\",\"Home&Kitchen\",\"Home&Kitchen\",\"Home&Kitchen\",\"Home&Kitchen\",\"Home&Kitchen\",\"Home&Kitchen\",\"Home&Kitchen\",\"Home&Kitchen\",\"Home&Kitchen\",\"Home&Kitchen\",\"Home&Kitchen\",\"Home&Kitchen\",\"Home&Kitchen\",\"Home&Kitchen\",\"Home&Kitchen\",\"Home&Kitchen\",\"Home&Kitchen\",\"Home&Kitchen\",\"Home&Kitchen\",\"Home&Kitchen\",\"Home&Kitchen\",\"Home&Kitchen\",\"Home&Kitchen\",\"Home&Kitchen\",\"Home&Kitchen\",\"Home&Kitchen\",\"Home&Kitchen\",\"Home&Kitchen\",\"Home&Kitchen\",\"Home&Kitchen\",\"Home&Kitchen\",\"Home&Kitchen\",\"Home&Kitchen\",\"Home&Kitchen\",\"Home&Kitchen\",\"Home&Kitchen\",\"Home&Kitchen\",\"Home&Kitchen\",\"Home&Kitchen\",\"Home&Kitchen\",\"Home&Kitchen\",\"Home&Kitchen\",\"Home&Kitchen\",\"Home&Kitchen\",\"Home&Kitchen\",\"Home&Kitchen\",\"Home&Kitchen\",\"Home&Kitchen\",\"Home&Kitchen\",\"Home&Kitchen\",\"Home&Kitchen\",\"Home&Kitchen\",\"Home&Kitchen\",\"Home&Kitchen\",\"Home&Kitchen\",\"Home&Kitchen\",\"Home&Kitchen\",\"Home&Kitchen\",\"Home&Kitchen\",\"Home&Kitchen\",\"Home&Kitchen\",\"Home&Kitchen\",\"Home&Kitchen\",\"Home&Kitchen\",\"Home&Kitchen\",\"Home&Kitchen\",\"Home&Kitchen\",\"Home&Kitchen\",\"Home&Kitchen\",\"Home&Kitchen\",\"Home&Kitchen\",\"Home&Kitchen\",\"Home&Kitchen\",\"Home&Kitchen\",\"Home&Kitchen\",\"Home&Kitchen\",\"Home&Kitchen\",\"Home&Kitchen\",\"Home&Kitchen\",\"Home&Kitchen\",\"Home&Kitchen\",\"Home&Kitchen\",\"Home&Kitchen\",\"Home&Kitchen\",\"Home&Kitchen\",\"Home&Kitchen\",\"Home&Kitchen\",\"Home&Kitchen\",\"Home&Kitchen\",\"Home&Kitchen\",\"Home&Kitchen\",\"Home&Kitchen\",\"Home&Kitchen\",\"Home&Kitchen\",\"Home&Kitchen\",\"Home&Kitchen\",\"Home&Kitchen\",\"Home&Kitchen\",\"Home&Kitchen\",\"Home&Kitchen\",\"Home&Kitchen\",\"Home&Kitchen\",\"Home&Kitchen\",\"Home&Kitchen\",\"Home&Kitchen\",\"Home&Kitchen\",\"Home&Kitchen\",\"Home&Kitchen\",\"Home&Kitchen\",\"Home&Kitchen\",\"Home&Kitchen\",\"Home&Kitchen\",\"Home&Kitchen\",\"Home&Kitchen\",\"Home&Kitchen\",\"Home&Kitchen\",\"Home&Kitchen\",\"Home&Kitchen\",\"Home&Kitchen\",\"Home&Kitchen\",\"Home&Kitchen\",\"Home&Kitchen\",\"Home&Kitchen\",\"Home&Kitchen\",\"Home&Kitchen\",\"Home&Kitchen\",\"Home&Kitchen\",\"Home&Kitchen\",\"Home&Kitchen\",\"Home&Kitchen\",\"Home&Kitchen\",\"Home&Kitchen\",\"Home&Kitchen\",\"Home&Kitchen\",\"Home&Kitchen\",\"Home&Kitchen\",\"Home&Kitchen\",\"Home&Kitchen\",\"Home&Kitchen\",\"Home&Kitchen\",\"Home&Kitchen\",\"Home&Kitchen\",\"Home&Kitchen\",\"Home&Kitchen\",\"Home&Kitchen\",\"Home&Kitchen\",\"Home&Kitchen\",\"Home&Kitchen\",\"Home&Kitchen\",\"Home&Kitchen\",\"Home&Kitchen\",\"Home&Kitchen\",\"Home&Kitchen\",\"Home&Kitchen\",\"Home&Kitchen\",\"Home&Kitchen\",\"Home&Kitchen\",\"Home&Kitchen\",\"Home&Kitchen\",\"Home&Kitchen\",\"Home&Kitchen\",\"Home&Kitchen\",\"Home&Kitchen\",\"Home&Kitchen\",\"Home&Kitchen\",\"Home&Kitchen\",\"Home&Kitchen\",\"Home&Kitchen\",\"Home&Kitchen\",\"Home&Kitchen\",\"Home&Kitchen\",\"Home&Kitchen\",\"Home&Kitchen\",\"Home&Kitchen\",\"Home&Kitchen\",\"Home&Kitchen\",\"Home&Kitchen\",\"Home&Kitchen\",\"Home&Kitchen\",\"Home&Kitchen\",\"Home&Kitchen\",\"Home&Kitchen\",\"Home&Kitchen\",\"Home&Kitchen\",\"Home&Kitchen\",\"Home&Kitchen\",\"Home&Kitchen\",\"Home&Kitchen\",\"Home&Kitchen\",\"Home&Kitchen\",\"Home&Kitchen\",\"Home&Kitchen\",\"Home&Kitchen\",\"Home&Kitchen\",\"Home&Kitchen\",\"Home&Kitchen\",\"Home&Kitchen\",\"Home&Kitchen\",\"Home&Kitchen\",\"Home&Kitchen\",\"Home&Kitchen\",\"Home&Kitchen\",\"Home&Kitchen\",\"Home&Kitchen\",\"Home&Kitchen\",\"Home&Kitchen\",\"Home&Kitchen\",\"Home&Kitchen\",\"Home&Kitchen\",\"Home&Kitchen\",\"Home&Kitchen\",\"Home&Kitchen\",\"Home&Kitchen\",\"Home&Kitchen\",\"Home&Kitchen\",\"Home&Kitchen\",\"Home&Kitchen\",\"Home&Kitchen\",\"Home&Kitchen\",\"Home&Kitchen\",\"Home&Kitchen\",\"Home&Kitchen\",\"Home&Kitchen\",\"Home&Kitchen\",\"Home&Kitchen\",\"Home&Kitchen\",\"Home&Kitchen\",\"Home&Kitchen\",\"Home&Kitchen\",\"Home&Kitchen\",\"Home&Kitchen\",\"Home&Kitchen\",\"Home&Kitchen\",\"Home&Kitchen\",\"Home&Kitchen\",\"Home&Kitchen\",\"Home&Kitchen\",\"Home&Kitchen\",\"Home&Kitchen\",\"Home&Kitchen\",\"Home&Kitchen\",\"Home&Kitchen\",\"Home&Kitchen\",\"Home&Kitchen\",\"Home&Kitchen\",\"Home&Kitchen\",\"Home&Kitchen\",\"Home&Kitchen\",\"Home&Kitchen\",\"Home&Kitchen\",\"Home&Kitchen\",\"Home&Kitchen\",\"Home&Kitchen\",\"Home&Kitchen\",\"Home&Kitchen\",\"Home&Kitchen\",\"Home&Kitchen\",\"Home&Kitchen\",\"Home&Kitchen\",\"Home&Kitchen\",\"Home&Kitchen\",\"Home&Kitchen\",\"Home&Kitchen\",\"Home&Kitchen\",\"Home&Kitchen\",\"Home&Kitchen\",\"Home&Kitchen\",\"Home&Kitchen\",\"Home&Kitchen\",\"Home&Kitchen\",\"Home&Kitchen\",\"Home&Kitchen\",\"Home&Kitchen\",\"Home&Kitchen\",\"Home&Kitchen\",\"Home&Kitchen\",\"Home&Kitchen\",\"Home&Kitchen\",\"Home&Kitchen\",\"Home&Kitchen\",\"Home&Kitchen\",\"Home&Kitchen\",\"Home&Kitchen\",\"Home&Kitchen\",\"Home&Kitchen\",\"Home&Kitchen\",\"Home&Kitchen\",\"Home&Kitchen\",\"Home&Kitchen\",\"Home&Kitchen\",\"Home&Kitchen\",\"Home&Kitchen\",\"Home&Kitchen\",\"Home&Kitchen\",\"Home&Kitchen\",\"Home&Kitchen\",\"Home&Kitchen\",\"Home&Kitchen\",\"Home&Kitchen\",\"Home&Kitchen\",\"Home&Kitchen\",\"Home&Kitchen\",\"Home&Kitchen\",\"Home&Kitchen\",\"Home&Kitchen\",\"Home&Kitchen\",\"Home&Kitchen\",\"Home&Kitchen\",\"Home&Kitchen\",\"Home&Kitchen\",\"Home&Kitchen\",\"Home&Kitchen\",\"Home&Kitchen\",\"Home&Kitchen\",\"Home&Kitchen\",\"Home&Kitchen\",\"Home&Kitchen\",\"Home&Kitchen\",\"Home&Kitchen\",\"Home&Kitchen\",\"Home&Kitchen\",\"Home&Kitchen\",\"Home&Kitchen\",\"Home&Kitchen\",\"Home&Kitchen\",\"Home&Kitchen\",\"Home&Kitchen\",\"Home&Kitchen\",\"Home&Kitchen\",\"Home&Kitchen\",\"Home&Kitchen\",\"Home&Kitchen\",\"Home&Kitchen\",\"Home&Kitchen\",\"Home&Kitchen\",\"Home&Kitchen\",\"Home&Kitchen\",\"Home&Kitchen\",\"Home&Kitchen\",\"Home&Kitchen\",\"Home&Kitchen\",\"Home&Kitchen\",\"Home&Kitchen\",\"Home&Kitchen\",\"Home&Kitchen\",\"Home&Kitchen\",\"Home&Kitchen\",\"Home&Kitchen\",\"Home&Kitchen\",\"Home&Kitchen\",\"Home&Kitchen\",\"Home&Kitchen\",\"Home&Kitchen\",\"Home&Kitchen\",\"Home&Kitchen\",\"Home&Kitchen\",\"Home&Kitchen\",\"Home&Kitchen\",\"Home&Kitchen\",\"Home&Kitchen\",\"Home&Kitchen\",\"Home&Kitchen\",\"Home&Kitchen\",\"Home&Kitchen\",\"Home&Kitchen\",\"Home&Kitchen\",\"Home&Kitchen\",\"Home&Kitchen\",\"Home&Kitchen\",\"Home&Kitchen\",\"Home&Kitchen\",\"Home&Kitchen\"],\"x0\":\" \",\"xaxis\":\"x\",\"y\":[0.21,0.15,0.0,0.0,0.1,0.13,0.0,0.48,0.29,0.4,0.54,0.9,0.41,0.6,0.4,0.1,0.48,0.47,0.22,0.5,0.11,0.5,0.55,0.48,0.42,0.53,0.46,0.56,0.4,0.58,0.63,0.24,0.38,0.45,0.5,0.8,0.25,0.56,0.41,0.55,0.65,0.08,0.44,0.55,0.48,0.61,0.12,0.37,0.21,0.39,0.5,0.26,0.34,0.4,0.62,0.54,0.42,0.0,0.5,0.55,0.14,0.45,0.11,0.59,0.24,0.6,0.46,0.39,0.33,0.4,0.27,0.37,0.48,0.65,0.38,0.47,0.48,0.34,0.6,0.0,0.44,0.61,0.34,0.26,0.28,0.5,0.51,0.2,0.36,0.47,0.14,0.16,0.71,0.42,0.24,0.23,0.0,0.35,0.26,0.14,0.11,0.54,0.51,0.18,0.57,0.16,0.71,0.39,0.4,0.33,0.35,0.41,0.46,0.0,0.0,0.48,0.62,0.47,0.36,0.45,0.2,0.48,0.29,0.6,0.26,0.33,0.1,0.55,0.59,0.31,0.28,0.2,0.62,0.48,0.38,0.41,0.52,0.18,0.78,0.31,0.48,0.48,0.51,0.45,0.55,0.0,0.47,0.43,0.52,0.0,0.51,0.32,0.47,0.39,0.49,0.49,0.4,0.23,0.0,0.31,0.6,0.4,0.2,0.47,0.79,0.0,0.76,0.11,0.35,0.49,0.6,0.42,0.55,0.26,0.24,0.41,0.36,0.49,0.74,0.58,0.29,0.37,0.38,0.6,0.64,0.44,0.58,0.35,0.53,0.29,0.15,0.12,0.37,0.43,0.49,0.77,0.53,0.11,0.46,0.61,0.5,0.27,0.49,0.29,0.41,0.28,0.0,0.56,0.39,0.46,0.62,0.2,0.5,0.43,0.66,0.62,0.39,0.7,0.38,0.41,0.28,0.04,0.13,0.2,0.47,0.19,0.34,0.55,0.22,0.49,0.68,0.27,0.38,0.31,0.52,0.12,0.39,0.39,0.33,0.07,0.55,0.58,0.51,0.17,0.5,0.55,0.41,0.15,0.06,0.17,0.73,0.0,0.61,0.54,0.16,0.52,0.4,0.37,0.56,0.18,0.55,0.41,0.16,0.14,0.37,0.46,0.57,0.55,0.63,0.77,0.24,0.26,0.8,0.5,0.38,0.44,0.67,0.22,0.45,0.4,0.25,0.52,0.75,0.44,0.48,0.03,0.21,0.0,0.48,0.53,0.03,0.52,0.48,0.28,0.58,0.43,0.49,0.77,0.57,0.5,0.73,0.45,0.4,0.58,0.33,0.28,0.45,0.68,0.35,0.4,0.62,0.25,0.27,0.62,0.41,0.53,0.21,0.33,0.55,0.47,0.18,0.37,0.37,0.51,0.28,0.09,0.3,0.58,0.14,0.53,0.5,0.38,0.6,0.43,0.41,0.43,0.49,0.43,0.0,0.46,0.54,0.08,0.45,0.43,0.29,0.55,0.64,0.51,0.76,0.39,0.34,0.41,0.54,0.5,0.29,0.38,0.69,0.22,0.6,0.86,0.31,0.71,0.53,0.08,0.28,0.45,0.44,0.33,0.35,0.04,0.31,0.57,0.62,0.17,0.29,0.5,0.53,0.45,0.57,0.62,0.25,0.45,0.27,0.26,0.48,0.33,0.54,0.3,0.46,0.37,0.43,0.78,0.5,0.24,0.03,0.33,0.49,0.27,0.4,0.8,0.51,0.33,0.35,0.59,0.55,0.59,0.59,0.11,0.38,0.59,0.6,0.24,0.31,0.37,0.15,0.48,0.46,0.5,0.12,0.33,0.44,0.38,0.4,0.5,0.18,0.28,0.17,0.49,0.38,0.39,0.43,0.43,0.72,0.55,0.32,0.57,0.29,0.5,0.3,0.59,0.0,0.59,0.8,0.59,0.25,0.28,0.26,0.22],\"y0\":\" \",\"yaxis\":\"y\",\"type\":\"box\"},{\"alignmentgroup\":\"True\",\"hovertemplate\":\"category_1=%{x}<br>discount_percentage=%{y}<extra></extra>\",\"legendgroup\":\"HomeImprovement\",\"marker\":{\"color\":\"#19d3f3\"},\"name\":\"HomeImprovement\",\"notched\":false,\"offsetgroup\":\"HomeImprovement\",\"orientation\":\"v\",\"showlegend\":true,\"x\":[\"HomeImprovement\",\"HomeImprovement\"],\"x0\":\" \",\"xaxis\":\"x\",\"y\":[0.57,0.58],\"y0\":\" \",\"yaxis\":\"y\",\"type\":\"box\"},{\"alignmentgroup\":\"True\",\"hovertemplate\":\"category_1=%{x}<br>discount_percentage=%{y}<extra></extra>\",\"legendgroup\":\"Toys&Games\",\"marker\":{\"color\":\"#FF6692\"},\"name\":\"Toys&Games\",\"notched\":false,\"offsetgroup\":\"Toys&Games\",\"orientation\":\"v\",\"showlegend\":true,\"x\":[\"Toys&Games\"],\"x0\":\" \",\"xaxis\":\"x\",\"y\":[0.0],\"y0\":\" \",\"yaxis\":\"y\",\"type\":\"box\"},{\"alignmentgroup\":\"True\",\"hovertemplate\":\"category_1=%{x}<br>discount_percentage=%{y}<extra></extra>\",\"legendgroup\":\"Car&Motorbike\",\"marker\":{\"color\":\"#B6E880\"},\"name\":\"Car&Motorbike\",\"notched\":false,\"offsetgroup\":\"Car&Motorbike\",\"orientation\":\"v\",\"showlegend\":true,\"x\":[\"Car&Motorbike\"],\"x0\":\" \",\"xaxis\":\"x\",\"y\":[0.42],\"y0\":\" \",\"yaxis\":\"y\",\"type\":\"box\"},{\"alignmentgroup\":\"True\",\"hovertemplate\":\"category_1=%{x}<br>discount_percentage=%{y}<extra></extra>\",\"legendgroup\":\"Health&PersonalCare\",\"marker\":{\"color\":\"#FF97FF\"},\"name\":\"Health&PersonalCare\",\"notched\":false,\"offsetgroup\":\"Health&PersonalCare\",\"orientation\":\"v\",\"showlegend\":true,\"x\":[\"Health&PersonalCare\"],\"x0\":\" \",\"xaxis\":\"x\",\"y\":[0.53],\"y0\":\" \",\"yaxis\":\"y\",\"type\":\"box\"}],                        {\"template\":{\"data\":{\"histogram2dcontour\":[{\"type\":\"histogram2dcontour\",\"colorbar\":{\"outlinewidth\":0,\"ticks\":\"\"},\"colorscale\":[[0.0,\"#0d0887\"],[0.1111111111111111,\"#46039f\"],[0.2222222222222222,\"#7201a8\"],[0.3333333333333333,\"#9c179e\"],[0.4444444444444444,\"#bd3786\"],[0.5555555555555556,\"#d8576b\"],[0.6666666666666666,\"#ed7953\"],[0.7777777777777778,\"#fb9f3a\"],[0.8888888888888888,\"#fdca26\"],[1.0,\"#f0f921\"]]}],\"choropleth\":[{\"type\":\"choropleth\",\"colorbar\":{\"outlinewidth\":0,\"ticks\":\"\"}}],\"histogram2d\":[{\"type\":\"histogram2d\",\"colorbar\":{\"outlinewidth\":0,\"ticks\":\"\"},\"colorscale\":[[0.0,\"#0d0887\"],[0.1111111111111111,\"#46039f\"],[0.2222222222222222,\"#7201a8\"],[0.3333333333333333,\"#9c179e\"],[0.4444444444444444,\"#bd3786\"],[0.5555555555555556,\"#d8576b\"],[0.6666666666666666,\"#ed7953\"],[0.7777777777777778,\"#fb9f3a\"],[0.8888888888888888,\"#fdca26\"],[1.0,\"#f0f921\"]]}],\"heatmap\":[{\"type\":\"heatmap\",\"colorbar\":{\"outlinewidth\":0,\"ticks\":\"\"},\"colorscale\":[[0.0,\"#0d0887\"],[0.1111111111111111,\"#46039f\"],[0.2222222222222222,\"#7201a8\"],[0.3333333333333333,\"#9c179e\"],[0.4444444444444444,\"#bd3786\"],[0.5555555555555556,\"#d8576b\"],[0.6666666666666666,\"#ed7953\"],[0.7777777777777778,\"#fb9f3a\"],[0.8888888888888888,\"#fdca26\"],[1.0,\"#f0f921\"]]}],\"heatmapgl\":[{\"type\":\"heatmapgl\",\"colorbar\":{\"outlinewidth\":0,\"ticks\":\"\"},\"colorscale\":[[0.0,\"#0d0887\"],[0.1111111111111111,\"#46039f\"],[0.2222222222222222,\"#7201a8\"],[0.3333333333333333,\"#9c179e\"],[0.4444444444444444,\"#bd3786\"],[0.5555555555555556,\"#d8576b\"],[0.6666666666666666,\"#ed7953\"],[0.7777777777777778,\"#fb9f3a\"],[0.8888888888888888,\"#fdca26\"],[1.0,\"#f0f921\"]]}],\"contourcarpet\":[{\"type\":\"contourcarpet\",\"colorbar\":{\"outlinewidth\":0,\"ticks\":\"\"}}],\"contour\":[{\"type\":\"contour\",\"colorbar\":{\"outlinewidth\":0,\"ticks\":\"\"},\"colorscale\":[[0.0,\"#0d0887\"],[0.1111111111111111,\"#46039f\"],[0.2222222222222222,\"#7201a8\"],[0.3333333333333333,\"#9c179e\"],[0.4444444444444444,\"#bd3786\"],[0.5555555555555556,\"#d8576b\"],[0.6666666666666666,\"#ed7953\"],[0.7777777777777778,\"#fb9f3a\"],[0.8888888888888888,\"#fdca26\"],[1.0,\"#f0f921\"]]}],\"surface\":[{\"type\":\"surface\",\"colorbar\":{\"outlinewidth\":0,\"ticks\":\"\"},\"colorscale\":[[0.0,\"#0d0887\"],[0.1111111111111111,\"#46039f\"],[0.2222222222222222,\"#7201a8\"],[0.3333333333333333,\"#9c179e\"],[0.4444444444444444,\"#bd3786\"],[0.5555555555555556,\"#d8576b\"],[0.6666666666666666,\"#ed7953\"],[0.7777777777777778,\"#fb9f3a\"],[0.8888888888888888,\"#fdca26\"],[1.0,\"#f0f921\"]]}],\"mesh3d\":[{\"type\":\"mesh3d\",\"colorbar\":{\"outlinewidth\":0,\"ticks\":\"\"}}],\"scatter\":[{\"fillpattern\":{\"fillmode\":\"overlay\",\"size\":10,\"solidity\":0.2},\"type\":\"scatter\"}],\"parcoords\":[{\"type\":\"parcoords\",\"line\":{\"colorbar\":{\"outlinewidth\":0,\"ticks\":\"\"}}}],\"scatterpolargl\":[{\"type\":\"scatterpolargl\",\"marker\":{\"colorbar\":{\"outlinewidth\":0,\"ticks\":\"\"}}}],\"bar\":[{\"error_x\":{\"color\":\"#2a3f5f\"},\"error_y\":{\"color\":\"#2a3f5f\"},\"marker\":{\"line\":{\"color\":\"#E5ECF6\",\"width\":0.5},\"pattern\":{\"fillmode\":\"overlay\",\"size\":10,\"solidity\":0.2}},\"type\":\"bar\"}],\"scattergeo\":[{\"type\":\"scattergeo\",\"marker\":{\"colorbar\":{\"outlinewidth\":0,\"ticks\":\"\"}}}],\"scatterpolar\":[{\"type\":\"scatterpolar\",\"marker\":{\"colorbar\":{\"outlinewidth\":0,\"ticks\":\"\"}}}],\"histogram\":[{\"marker\":{\"pattern\":{\"fillmode\":\"overlay\",\"size\":10,\"solidity\":0.2}},\"type\":\"histogram\"}],\"scattergl\":[{\"type\":\"scattergl\",\"marker\":{\"colorbar\":{\"outlinewidth\":0,\"ticks\":\"\"}}}],\"scatter3d\":[{\"type\":\"scatter3d\",\"line\":{\"colorbar\":{\"outlinewidth\":0,\"ticks\":\"\"}},\"marker\":{\"colorbar\":{\"outlinewidth\":0,\"ticks\":\"\"}}}],\"scattermapbox\":[{\"type\":\"scattermapbox\",\"marker\":{\"colorbar\":{\"outlinewidth\":0,\"ticks\":\"\"}}}],\"scatterternary\":[{\"type\":\"scatterternary\",\"marker\":{\"colorbar\":{\"outlinewidth\":0,\"ticks\":\"\"}}}],\"scattercarpet\":[{\"type\":\"scattercarpet\",\"marker\":{\"colorbar\":{\"outlinewidth\":0,\"ticks\":\"\"}}}],\"carpet\":[{\"aaxis\":{\"endlinecolor\":\"#2a3f5f\",\"gridcolor\":\"white\",\"linecolor\":\"white\",\"minorgridcolor\":\"white\",\"startlinecolor\":\"#2a3f5f\"},\"baxis\":{\"endlinecolor\":\"#2a3f5f\",\"gridcolor\":\"white\",\"linecolor\":\"white\",\"minorgridcolor\":\"white\",\"startlinecolor\":\"#2a3f5f\"},\"type\":\"carpet\"}],\"table\":[{\"cells\":{\"fill\":{\"color\":\"#EBF0F8\"},\"line\":{\"color\":\"white\"}},\"header\":{\"fill\":{\"color\":\"#C8D4E3\"},\"line\":{\"color\":\"white\"}},\"type\":\"table\"}],\"barpolar\":[{\"marker\":{\"line\":{\"color\":\"#E5ECF6\",\"width\":0.5},\"pattern\":{\"fillmode\":\"overlay\",\"size\":10,\"solidity\":0.2}},\"type\":\"barpolar\"}],\"pie\":[{\"automargin\":true,\"type\":\"pie\"}]},\"layout\":{\"autotypenumbers\":\"strict\",\"colorway\":[\"#636efa\",\"#EF553B\",\"#00cc96\",\"#ab63fa\",\"#FFA15A\",\"#19d3f3\",\"#FF6692\",\"#B6E880\",\"#FF97FF\",\"#FECB52\"],\"font\":{\"color\":\"#2a3f5f\"},\"hovermode\":\"closest\",\"hoverlabel\":{\"align\":\"left\"},\"paper_bgcolor\":\"white\",\"plot_bgcolor\":\"#E5ECF6\",\"polar\":{\"bgcolor\":\"#E5ECF6\",\"angularaxis\":{\"gridcolor\":\"white\",\"linecolor\":\"white\",\"ticks\":\"\"},\"radialaxis\":{\"gridcolor\":\"white\",\"linecolor\":\"white\",\"ticks\":\"\"}},\"ternary\":{\"bgcolor\":\"#E5ECF6\",\"aaxis\":{\"gridcolor\":\"white\",\"linecolor\":\"white\",\"ticks\":\"\"},\"baxis\":{\"gridcolor\":\"white\",\"linecolor\":\"white\",\"ticks\":\"\"},\"caxis\":{\"gridcolor\":\"white\",\"linecolor\":\"white\",\"ticks\":\"\"}},\"coloraxis\":{\"colorbar\":{\"outlinewidth\":0,\"ticks\":\"\"}},\"colorscale\":{\"sequential\":[[0.0,\"#0d0887\"],[0.1111111111111111,\"#46039f\"],[0.2222222222222222,\"#7201a8\"],[0.3333333333333333,\"#9c179e\"],[0.4444444444444444,\"#bd3786\"],[0.5555555555555556,\"#d8576b\"],[0.6666666666666666,\"#ed7953\"],[0.7777777777777778,\"#fb9f3a\"],[0.8888888888888888,\"#fdca26\"],[1.0,\"#f0f921\"]],\"sequentialminus\":[[0.0,\"#0d0887\"],[0.1111111111111111,\"#46039f\"],[0.2222222222222222,\"#7201a8\"],[0.3333333333333333,\"#9c179e\"],[0.4444444444444444,\"#bd3786\"],[0.5555555555555556,\"#d8576b\"],[0.6666666666666666,\"#ed7953\"],[0.7777777777777778,\"#fb9f3a\"],[0.8888888888888888,\"#fdca26\"],[1.0,\"#f0f921\"]],\"diverging\":[[0,\"#8e0152\"],[0.1,\"#c51b7d\"],[0.2,\"#de77ae\"],[0.3,\"#f1b6da\"],[0.4,\"#fde0ef\"],[0.5,\"#f7f7f7\"],[0.6,\"#e6f5d0\"],[0.7,\"#b8e186\"],[0.8,\"#7fbc41\"],[0.9,\"#4d9221\"],[1,\"#276419\"]]},\"xaxis\":{\"gridcolor\":\"white\",\"linecolor\":\"white\",\"ticks\":\"\",\"title\":{\"standoff\":15},\"zerolinecolor\":\"white\",\"automargin\":true,\"zerolinewidth\":2},\"yaxis\":{\"gridcolor\":\"white\",\"linecolor\":\"white\",\"ticks\":\"\",\"title\":{\"standoff\":15},\"zerolinecolor\":\"white\",\"automargin\":true,\"zerolinewidth\":2},\"scene\":{\"xaxis\":{\"backgroundcolor\":\"#E5ECF6\",\"gridcolor\":\"white\",\"linecolor\":\"white\",\"showbackground\":true,\"ticks\":\"\",\"zerolinecolor\":\"white\",\"gridwidth\":2},\"yaxis\":{\"backgroundcolor\":\"#E5ECF6\",\"gridcolor\":\"white\",\"linecolor\":\"white\",\"showbackground\":true,\"ticks\":\"\",\"zerolinecolor\":\"white\",\"gridwidth\":2},\"zaxis\":{\"backgroundcolor\":\"#E5ECF6\",\"gridcolor\":\"white\",\"linecolor\":\"white\",\"showbackground\":true,\"ticks\":\"\",\"zerolinecolor\":\"white\",\"gridwidth\":2}},\"shapedefaults\":{\"line\":{\"color\":\"#2a3f5f\"}},\"annotationdefaults\":{\"arrowcolor\":\"#2a3f5f\",\"arrowhead\":0,\"arrowwidth\":1},\"geo\":{\"bgcolor\":\"white\",\"landcolor\":\"#E5ECF6\",\"subunitcolor\":\"white\",\"showland\":true,\"showlakes\":true,\"lakecolor\":\"white\"},\"title\":{\"x\":0.05},\"mapbox\":{\"style\":\"light\"}}},\"xaxis\":{\"anchor\":\"y\",\"domain\":[0.0,1.0],\"title\":{\"text\":\"Category\"},\"categoryorder\":\"array\",\"categoryarray\":[\"Computers&Accessories\",\"Electronics\",\"MusicalInstruments\",\"OfficeProducts\",\"Home&Kitchen\",\"HomeImprovement\",\"Toys&Games\",\"Car&Motorbike\",\"Health&PersonalCare\"]},\"yaxis\":{\"anchor\":\"x\",\"domain\":[0.0,1.0],\"title\":{\"text\":\"Discount Percentage\"}},\"legend\":{\"title\":{\"text\":\"category_1\"},\"tracegroupgap\":0},\"margin\":{\"t\":60},\"boxmode\":\"overlay\",\"title\":{\"text\":\"Distribution of Discount Percentages by Category\"}},                        {\"responsive\": true}                    ).then(function(){\n",
       "                            \n",
       "var gd = document.getElementById('16499113-c21d-4319-b456-061971a96110');\n",
       "var x = new MutationObserver(function (mutations, observer) {{\n",
       "        var display = window.getComputedStyle(gd).display;\n",
       "        if (!display || display === 'none') {{\n",
       "            console.log([gd, 'removed!']);\n",
       "            Plotly.purge(gd);\n",
       "            observer.disconnect();\n",
       "        }}\n",
       "}});\n",
       "\n",
       "// Listen for the removal of the full notebook cells\n",
       "var notebookContainer = gd.closest('#notebook-container');\n",
       "if (notebookContainer) {{\n",
       "    x.observe(notebookContainer, {childList: true});\n",
       "}}\n",
       "\n",
       "// Listen for the clearing of the current output cell\n",
       "var outputEl = gd.closest('.output');\n",
       "if (outputEl) {{\n",
       "    x.observe(outputEl, {childList: true});\n",
       "}}\n",
       "\n",
       "                        })                };                });            </script>        </div>"
      ]
     },
     "metadata": {},
     "output_type": "display_data"
    }
   ],
   "source": [
    "import plotly.express as px\n",
    "\n",
    "# create a box plot of the discount percentages\n",
    "fig = px.box(df1, x='category_1', y='discount_percentage', color='category_1')\n",
    "\n",
    "# set axis labels and title\n",
    "fig.update_layout(xaxis_title='Category', yaxis_title='Discount Percentage', title='Distribution of Discount Percentages by Category')\n",
    "\n",
    "# show the plot\n",
    "fig.show()\n"
   ]
  },
  {
   "cell_type": "code",
   "execution_count": 57,
   "id": "c975d917",
   "metadata": {},
   "outputs": [
    {
     "data": {
      "application/vnd.plotly.v1+json": {
       "config": {
        "plotlyServerURL": "https://plot.ly"
       },
       "data": [
        {
         "hovertemplate": "variable=mean<br>category_1=%{x}<br>value=%{y}<extra></extra>",
         "legendgroup": "mean",
         "marker": {
          "color": "blue",
          "symbol": "circle"
         },
         "mode": "markers",
         "name": "mean",
         "orientation": "v",
         "showlegend": true,
         "type": "scatter",
         "x": [
          "Car&Motorbike",
          "Computers&Accessories",
          "Electronics",
          "Health&PersonalCare",
          "Home&Kitchen",
          "HomeImprovement",
          "MusicalInstruments",
          "OfficeProducts",
          "Toys&Games"
         ],
         "xaxis": "x",
         "y": [
          0.42,
          0.540242825607064,
          0.5082889733840305,
          0.53,
          0.40120535714285716,
          0.575,
          0.45999999999999996,
          0.1235483870967742,
          0
         ],
         "yaxis": "y"
        },
        {
         "hovertemplate": "variable=median<br>category_1=%{x}<br>value=%{y}<extra></extra>",
         "legendgroup": "median",
         "marker": {
          "color": "red",
          "symbol": "circle"
         },
         "mode": "markers",
         "name": "median",
         "orientation": "v",
         "showlegend": true,
         "type": "scatter",
         "x": [
          "Car&Motorbike",
          "Computers&Accessories",
          "Electronics",
          "Health&PersonalCare",
          "Home&Kitchen",
          "HomeImprovement",
          "MusicalInstruments",
          "OfficeProducts",
          "Toys&Games"
         ],
         "xaxis": "x",
         "y": [
          0.42,
          0.58,
          0.54,
          0.53,
          0.415,
          0.575,
          0.45999999999999996,
          0.05,
          0
         ],
         "yaxis": "y"
        }
       ],
       "layout": {
        "legend": {
         "title": {
          "text": "variable"
         },
         "tracegroupgap": 0
        },
        "margin": {
         "t": 60
        },
        "template": {
         "data": {
          "bar": [
           {
            "error_x": {
             "color": "#2a3f5f"
            },
            "error_y": {
             "color": "#2a3f5f"
            },
            "marker": {
             "line": {
              "color": "#E5ECF6",
              "width": 0.5
             },
             "pattern": {
              "fillmode": "overlay",
              "size": 10,
              "solidity": 0.2
             }
            },
            "type": "bar"
           }
          ],
          "barpolar": [
           {
            "marker": {
             "line": {
              "color": "#E5ECF6",
              "width": 0.5
             },
             "pattern": {
              "fillmode": "overlay",
              "size": 10,
              "solidity": 0.2
             }
            },
            "type": "barpolar"
           }
          ],
          "carpet": [
           {
            "aaxis": {
             "endlinecolor": "#2a3f5f",
             "gridcolor": "white",
             "linecolor": "white",
             "minorgridcolor": "white",
             "startlinecolor": "#2a3f5f"
            },
            "baxis": {
             "endlinecolor": "#2a3f5f",
             "gridcolor": "white",
             "linecolor": "white",
             "minorgridcolor": "white",
             "startlinecolor": "#2a3f5f"
            },
            "type": "carpet"
           }
          ],
          "choropleth": [
           {
            "colorbar": {
             "outlinewidth": 0,
             "ticks": ""
            },
            "type": "choropleth"
           }
          ],
          "contour": [
           {
            "colorbar": {
             "outlinewidth": 0,
             "ticks": ""
            },
            "colorscale": [
             [
              0,
              "#0d0887"
             ],
             [
              0.1111111111111111,
              "#46039f"
             ],
             [
              0.2222222222222222,
              "#7201a8"
             ],
             [
              0.3333333333333333,
              "#9c179e"
             ],
             [
              0.4444444444444444,
              "#bd3786"
             ],
             [
              0.5555555555555556,
              "#d8576b"
             ],
             [
              0.6666666666666666,
              "#ed7953"
             ],
             [
              0.7777777777777778,
              "#fb9f3a"
             ],
             [
              0.8888888888888888,
              "#fdca26"
             ],
             [
              1,
              "#f0f921"
             ]
            ],
            "type": "contour"
           }
          ],
          "contourcarpet": [
           {
            "colorbar": {
             "outlinewidth": 0,
             "ticks": ""
            },
            "type": "contourcarpet"
           }
          ],
          "heatmap": [
           {
            "colorbar": {
             "outlinewidth": 0,
             "ticks": ""
            },
            "colorscale": [
             [
              0,
              "#0d0887"
             ],
             [
              0.1111111111111111,
              "#46039f"
             ],
             [
              0.2222222222222222,
              "#7201a8"
             ],
             [
              0.3333333333333333,
              "#9c179e"
             ],
             [
              0.4444444444444444,
              "#bd3786"
             ],
             [
              0.5555555555555556,
              "#d8576b"
             ],
             [
              0.6666666666666666,
              "#ed7953"
             ],
             [
              0.7777777777777778,
              "#fb9f3a"
             ],
             [
              0.8888888888888888,
              "#fdca26"
             ],
             [
              1,
              "#f0f921"
             ]
            ],
            "type": "heatmap"
           }
          ],
          "heatmapgl": [
           {
            "colorbar": {
             "outlinewidth": 0,
             "ticks": ""
            },
            "colorscale": [
             [
              0,
              "#0d0887"
             ],
             [
              0.1111111111111111,
              "#46039f"
             ],
             [
              0.2222222222222222,
              "#7201a8"
             ],
             [
              0.3333333333333333,
              "#9c179e"
             ],
             [
              0.4444444444444444,
              "#bd3786"
             ],
             [
              0.5555555555555556,
              "#d8576b"
             ],
             [
              0.6666666666666666,
              "#ed7953"
             ],
             [
              0.7777777777777778,
              "#fb9f3a"
             ],
             [
              0.8888888888888888,
              "#fdca26"
             ],
             [
              1,
              "#f0f921"
             ]
            ],
            "type": "heatmapgl"
           }
          ],
          "histogram": [
           {
            "marker": {
             "pattern": {
              "fillmode": "overlay",
              "size": 10,
              "solidity": 0.2
             }
            },
            "type": "histogram"
           }
          ],
          "histogram2d": [
           {
            "colorbar": {
             "outlinewidth": 0,
             "ticks": ""
            },
            "colorscale": [
             [
              0,
              "#0d0887"
             ],
             [
              0.1111111111111111,
              "#46039f"
             ],
             [
              0.2222222222222222,
              "#7201a8"
             ],
             [
              0.3333333333333333,
              "#9c179e"
             ],
             [
              0.4444444444444444,
              "#bd3786"
             ],
             [
              0.5555555555555556,
              "#d8576b"
             ],
             [
              0.6666666666666666,
              "#ed7953"
             ],
             [
              0.7777777777777778,
              "#fb9f3a"
             ],
             [
              0.8888888888888888,
              "#fdca26"
             ],
             [
              1,
              "#f0f921"
             ]
            ],
            "type": "histogram2d"
           }
          ],
          "histogram2dcontour": [
           {
            "colorbar": {
             "outlinewidth": 0,
             "ticks": ""
            },
            "colorscale": [
             [
              0,
              "#0d0887"
             ],
             [
              0.1111111111111111,
              "#46039f"
             ],
             [
              0.2222222222222222,
              "#7201a8"
             ],
             [
              0.3333333333333333,
              "#9c179e"
             ],
             [
              0.4444444444444444,
              "#bd3786"
             ],
             [
              0.5555555555555556,
              "#d8576b"
             ],
             [
              0.6666666666666666,
              "#ed7953"
             ],
             [
              0.7777777777777778,
              "#fb9f3a"
             ],
             [
              0.8888888888888888,
              "#fdca26"
             ],
             [
              1,
              "#f0f921"
             ]
            ],
            "type": "histogram2dcontour"
           }
          ],
          "mesh3d": [
           {
            "colorbar": {
             "outlinewidth": 0,
             "ticks": ""
            },
            "type": "mesh3d"
           }
          ],
          "parcoords": [
           {
            "line": {
             "colorbar": {
              "outlinewidth": 0,
              "ticks": ""
             }
            },
            "type": "parcoords"
           }
          ],
          "pie": [
           {
            "automargin": true,
            "type": "pie"
           }
          ],
          "scatter": [
           {
            "fillpattern": {
             "fillmode": "overlay",
             "size": 10,
             "solidity": 0.2
            },
            "type": "scatter"
           }
          ],
          "scatter3d": [
           {
            "line": {
             "colorbar": {
              "outlinewidth": 0,
              "ticks": ""
             }
            },
            "marker": {
             "colorbar": {
              "outlinewidth": 0,
              "ticks": ""
             }
            },
            "type": "scatter3d"
           }
          ],
          "scattercarpet": [
           {
            "marker": {
             "colorbar": {
              "outlinewidth": 0,
              "ticks": ""
             }
            },
            "type": "scattercarpet"
           }
          ],
          "scattergeo": [
           {
            "marker": {
             "colorbar": {
              "outlinewidth": 0,
              "ticks": ""
             }
            },
            "type": "scattergeo"
           }
          ],
          "scattergl": [
           {
            "marker": {
             "colorbar": {
              "outlinewidth": 0,
              "ticks": ""
             }
            },
            "type": "scattergl"
           }
          ],
          "scattermapbox": [
           {
            "marker": {
             "colorbar": {
              "outlinewidth": 0,
              "ticks": ""
             }
            },
            "type": "scattermapbox"
           }
          ],
          "scatterpolar": [
           {
            "marker": {
             "colorbar": {
              "outlinewidth": 0,
              "ticks": ""
             }
            },
            "type": "scatterpolar"
           }
          ],
          "scatterpolargl": [
           {
            "marker": {
             "colorbar": {
              "outlinewidth": 0,
              "ticks": ""
             }
            },
            "type": "scatterpolargl"
           }
          ],
          "scatterternary": [
           {
            "marker": {
             "colorbar": {
              "outlinewidth": 0,
              "ticks": ""
             }
            },
            "type": "scatterternary"
           }
          ],
          "surface": [
           {
            "colorbar": {
             "outlinewidth": 0,
             "ticks": ""
            },
            "colorscale": [
             [
              0,
              "#0d0887"
             ],
             [
              0.1111111111111111,
              "#46039f"
             ],
             [
              0.2222222222222222,
              "#7201a8"
             ],
             [
              0.3333333333333333,
              "#9c179e"
             ],
             [
              0.4444444444444444,
              "#bd3786"
             ],
             [
              0.5555555555555556,
              "#d8576b"
             ],
             [
              0.6666666666666666,
              "#ed7953"
             ],
             [
              0.7777777777777778,
              "#fb9f3a"
             ],
             [
              0.8888888888888888,
              "#fdca26"
             ],
             [
              1,
              "#f0f921"
             ]
            ],
            "type": "surface"
           }
          ],
          "table": [
           {
            "cells": {
             "fill": {
              "color": "#EBF0F8"
             },
             "line": {
              "color": "white"
             }
            },
            "header": {
             "fill": {
              "color": "#C8D4E3"
             },
             "line": {
              "color": "white"
             }
            },
            "type": "table"
           }
          ]
         },
         "layout": {
          "annotationdefaults": {
           "arrowcolor": "#2a3f5f",
           "arrowhead": 0,
           "arrowwidth": 1
          },
          "autotypenumbers": "strict",
          "coloraxis": {
           "colorbar": {
            "outlinewidth": 0,
            "ticks": ""
           }
          },
          "colorscale": {
           "diverging": [
            [
             0,
             "#8e0152"
            ],
            [
             0.1,
             "#c51b7d"
            ],
            [
             0.2,
             "#de77ae"
            ],
            [
             0.3,
             "#f1b6da"
            ],
            [
             0.4,
             "#fde0ef"
            ],
            [
             0.5,
             "#f7f7f7"
            ],
            [
             0.6,
             "#e6f5d0"
            ],
            [
             0.7,
             "#b8e186"
            ],
            [
             0.8,
             "#7fbc41"
            ],
            [
             0.9,
             "#4d9221"
            ],
            [
             1,
             "#276419"
            ]
           ],
           "sequential": [
            [
             0,
             "#0d0887"
            ],
            [
             0.1111111111111111,
             "#46039f"
            ],
            [
             0.2222222222222222,
             "#7201a8"
            ],
            [
             0.3333333333333333,
             "#9c179e"
            ],
            [
             0.4444444444444444,
             "#bd3786"
            ],
            [
             0.5555555555555556,
             "#d8576b"
            ],
            [
             0.6666666666666666,
             "#ed7953"
            ],
            [
             0.7777777777777778,
             "#fb9f3a"
            ],
            [
             0.8888888888888888,
             "#fdca26"
            ],
            [
             1,
             "#f0f921"
            ]
           ],
           "sequentialminus": [
            [
             0,
             "#0d0887"
            ],
            [
             0.1111111111111111,
             "#46039f"
            ],
            [
             0.2222222222222222,
             "#7201a8"
            ],
            [
             0.3333333333333333,
             "#9c179e"
            ],
            [
             0.4444444444444444,
             "#bd3786"
            ],
            [
             0.5555555555555556,
             "#d8576b"
            ],
            [
             0.6666666666666666,
             "#ed7953"
            ],
            [
             0.7777777777777778,
             "#fb9f3a"
            ],
            [
             0.8888888888888888,
             "#fdca26"
            ],
            [
             1,
             "#f0f921"
            ]
           ]
          },
          "colorway": [
           "#636efa",
           "#EF553B",
           "#00cc96",
           "#ab63fa",
           "#FFA15A",
           "#19d3f3",
           "#FF6692",
           "#B6E880",
           "#FF97FF",
           "#FECB52"
          ],
          "font": {
           "color": "#2a3f5f"
          },
          "geo": {
           "bgcolor": "white",
           "lakecolor": "white",
           "landcolor": "#E5ECF6",
           "showlakes": true,
           "showland": true,
           "subunitcolor": "white"
          },
          "hoverlabel": {
           "align": "left"
          },
          "hovermode": "closest",
          "mapbox": {
           "style": "light"
          },
          "paper_bgcolor": "white",
          "plot_bgcolor": "#E5ECF6",
          "polar": {
           "angularaxis": {
            "gridcolor": "white",
            "linecolor": "white",
            "ticks": ""
           },
           "bgcolor": "#E5ECF6",
           "radialaxis": {
            "gridcolor": "white",
            "linecolor": "white",
            "ticks": ""
           }
          },
          "scene": {
           "xaxis": {
            "backgroundcolor": "#E5ECF6",
            "gridcolor": "white",
            "gridwidth": 2,
            "linecolor": "white",
            "showbackground": true,
            "ticks": "",
            "zerolinecolor": "white"
           },
           "yaxis": {
            "backgroundcolor": "#E5ECF6",
            "gridcolor": "white",
            "gridwidth": 2,
            "linecolor": "white",
            "showbackground": true,
            "ticks": "",
            "zerolinecolor": "white"
           },
           "zaxis": {
            "backgroundcolor": "#E5ECF6",
            "gridcolor": "white",
            "gridwidth": 2,
            "linecolor": "white",
            "showbackground": true,
            "ticks": "",
            "zerolinecolor": "white"
           }
          },
          "shapedefaults": {
           "line": {
            "color": "#2a3f5f"
           }
          },
          "ternary": {
           "aaxis": {
            "gridcolor": "white",
            "linecolor": "white",
            "ticks": ""
           },
           "baxis": {
            "gridcolor": "white",
            "linecolor": "white",
            "ticks": ""
           },
           "bgcolor": "#E5ECF6",
           "caxis": {
            "gridcolor": "white",
            "linecolor": "white",
            "ticks": ""
           }
          },
          "title": {
           "x": 0.05
          },
          "xaxis": {
           "automargin": true,
           "gridcolor": "white",
           "linecolor": "white",
           "ticks": "",
           "title": {
            "standoff": 15
           },
           "zerolinecolor": "white",
           "zerolinewidth": 2
          },
          "yaxis": {
           "automargin": true,
           "gridcolor": "white",
           "linecolor": "white",
           "ticks": "",
           "title": {
            "standoff": 15
           },
           "zerolinecolor": "white",
           "zerolinewidth": 2
          }
         }
        },
        "title": {
         "text": "Average and Median Discount Percentage by Category"
        },
        "xaxis": {
         "anchor": "y",
         "domain": [
          0,
          1
         ],
         "title": {
          "text": "Category"
         }
        },
        "yaxis": {
         "anchor": "x",
         "domain": [
          0,
          1
         ],
         "title": {
          "text": "Discount Percentage"
         }
        }
       }
      },
      "text/html": [
       "<div>                            <div id=\"0ca0d9da-6d2c-4ba0-9da6-be7d6921b097\" class=\"plotly-graph-div\" style=\"height:525px; width:100%;\"></div>            <script type=\"text/javascript\">                require([\"plotly\"], function(Plotly) {                    window.PLOTLYENV=window.PLOTLYENV || {};                                    if (document.getElementById(\"0ca0d9da-6d2c-4ba0-9da6-be7d6921b097\")) {                    Plotly.newPlot(                        \"0ca0d9da-6d2c-4ba0-9da6-be7d6921b097\",                        [{\"hovertemplate\":\"variable=mean<br>category_1=%{x}<br>value=%{y}<extra></extra>\",\"legendgroup\":\"mean\",\"marker\":{\"color\":\"blue\",\"symbol\":\"circle\"},\"mode\":\"markers\",\"name\":\"mean\",\"orientation\":\"v\",\"showlegend\":true,\"x\":[\"Car&Motorbike\",\"Computers&Accessories\",\"Electronics\",\"Health&PersonalCare\",\"Home&Kitchen\",\"HomeImprovement\",\"MusicalInstruments\",\"OfficeProducts\",\"Toys&Games\"],\"xaxis\":\"x\",\"y\":[0.42,0.540242825607064,0.5082889733840305,0.53,0.40120535714285716,0.575,0.45999999999999996,0.1235483870967742,0.0],\"yaxis\":\"y\",\"type\":\"scatter\"},{\"hovertemplate\":\"variable=median<br>category_1=%{x}<br>value=%{y}<extra></extra>\",\"legendgroup\":\"median\",\"marker\":{\"color\":\"red\",\"symbol\":\"circle\"},\"mode\":\"markers\",\"name\":\"median\",\"orientation\":\"v\",\"showlegend\":true,\"x\":[\"Car&Motorbike\",\"Computers&Accessories\",\"Electronics\",\"Health&PersonalCare\",\"Home&Kitchen\",\"HomeImprovement\",\"MusicalInstruments\",\"OfficeProducts\",\"Toys&Games\"],\"xaxis\":\"x\",\"y\":[0.42,0.58,0.54,0.53,0.415,0.575,0.45999999999999996,0.05,0.0],\"yaxis\":\"y\",\"type\":\"scatter\"}],                        {\"template\":{\"data\":{\"histogram2dcontour\":[{\"type\":\"histogram2dcontour\",\"colorbar\":{\"outlinewidth\":0,\"ticks\":\"\"},\"colorscale\":[[0.0,\"#0d0887\"],[0.1111111111111111,\"#46039f\"],[0.2222222222222222,\"#7201a8\"],[0.3333333333333333,\"#9c179e\"],[0.4444444444444444,\"#bd3786\"],[0.5555555555555556,\"#d8576b\"],[0.6666666666666666,\"#ed7953\"],[0.7777777777777778,\"#fb9f3a\"],[0.8888888888888888,\"#fdca26\"],[1.0,\"#f0f921\"]]}],\"choropleth\":[{\"type\":\"choropleth\",\"colorbar\":{\"outlinewidth\":0,\"ticks\":\"\"}}],\"histogram2d\":[{\"type\":\"histogram2d\",\"colorbar\":{\"outlinewidth\":0,\"ticks\":\"\"},\"colorscale\":[[0.0,\"#0d0887\"],[0.1111111111111111,\"#46039f\"],[0.2222222222222222,\"#7201a8\"],[0.3333333333333333,\"#9c179e\"],[0.4444444444444444,\"#bd3786\"],[0.5555555555555556,\"#d8576b\"],[0.6666666666666666,\"#ed7953\"],[0.7777777777777778,\"#fb9f3a\"],[0.8888888888888888,\"#fdca26\"],[1.0,\"#f0f921\"]]}],\"heatmap\":[{\"type\":\"heatmap\",\"colorbar\":{\"outlinewidth\":0,\"ticks\":\"\"},\"colorscale\":[[0.0,\"#0d0887\"],[0.1111111111111111,\"#46039f\"],[0.2222222222222222,\"#7201a8\"],[0.3333333333333333,\"#9c179e\"],[0.4444444444444444,\"#bd3786\"],[0.5555555555555556,\"#d8576b\"],[0.6666666666666666,\"#ed7953\"],[0.7777777777777778,\"#fb9f3a\"],[0.8888888888888888,\"#fdca26\"],[1.0,\"#f0f921\"]]}],\"heatmapgl\":[{\"type\":\"heatmapgl\",\"colorbar\":{\"outlinewidth\":0,\"ticks\":\"\"},\"colorscale\":[[0.0,\"#0d0887\"],[0.1111111111111111,\"#46039f\"],[0.2222222222222222,\"#7201a8\"],[0.3333333333333333,\"#9c179e\"],[0.4444444444444444,\"#bd3786\"],[0.5555555555555556,\"#d8576b\"],[0.6666666666666666,\"#ed7953\"],[0.7777777777777778,\"#fb9f3a\"],[0.8888888888888888,\"#fdca26\"],[1.0,\"#f0f921\"]]}],\"contourcarpet\":[{\"type\":\"contourcarpet\",\"colorbar\":{\"outlinewidth\":0,\"ticks\":\"\"}}],\"contour\":[{\"type\":\"contour\",\"colorbar\":{\"outlinewidth\":0,\"ticks\":\"\"},\"colorscale\":[[0.0,\"#0d0887\"],[0.1111111111111111,\"#46039f\"],[0.2222222222222222,\"#7201a8\"],[0.3333333333333333,\"#9c179e\"],[0.4444444444444444,\"#bd3786\"],[0.5555555555555556,\"#d8576b\"],[0.6666666666666666,\"#ed7953\"],[0.7777777777777778,\"#fb9f3a\"],[0.8888888888888888,\"#fdca26\"],[1.0,\"#f0f921\"]]}],\"surface\":[{\"type\":\"surface\",\"colorbar\":{\"outlinewidth\":0,\"ticks\":\"\"},\"colorscale\":[[0.0,\"#0d0887\"],[0.1111111111111111,\"#46039f\"],[0.2222222222222222,\"#7201a8\"],[0.3333333333333333,\"#9c179e\"],[0.4444444444444444,\"#bd3786\"],[0.5555555555555556,\"#d8576b\"],[0.6666666666666666,\"#ed7953\"],[0.7777777777777778,\"#fb9f3a\"],[0.8888888888888888,\"#fdca26\"],[1.0,\"#f0f921\"]]}],\"mesh3d\":[{\"type\":\"mesh3d\",\"colorbar\":{\"outlinewidth\":0,\"ticks\":\"\"}}],\"scatter\":[{\"fillpattern\":{\"fillmode\":\"overlay\",\"size\":10,\"solidity\":0.2},\"type\":\"scatter\"}],\"parcoords\":[{\"type\":\"parcoords\",\"line\":{\"colorbar\":{\"outlinewidth\":0,\"ticks\":\"\"}}}],\"scatterpolargl\":[{\"type\":\"scatterpolargl\",\"marker\":{\"colorbar\":{\"outlinewidth\":0,\"ticks\":\"\"}}}],\"bar\":[{\"error_x\":{\"color\":\"#2a3f5f\"},\"error_y\":{\"color\":\"#2a3f5f\"},\"marker\":{\"line\":{\"color\":\"#E5ECF6\",\"width\":0.5},\"pattern\":{\"fillmode\":\"overlay\",\"size\":10,\"solidity\":0.2}},\"type\":\"bar\"}],\"scattergeo\":[{\"type\":\"scattergeo\",\"marker\":{\"colorbar\":{\"outlinewidth\":0,\"ticks\":\"\"}}}],\"scatterpolar\":[{\"type\":\"scatterpolar\",\"marker\":{\"colorbar\":{\"outlinewidth\":0,\"ticks\":\"\"}}}],\"histogram\":[{\"marker\":{\"pattern\":{\"fillmode\":\"overlay\",\"size\":10,\"solidity\":0.2}},\"type\":\"histogram\"}],\"scattergl\":[{\"type\":\"scattergl\",\"marker\":{\"colorbar\":{\"outlinewidth\":0,\"ticks\":\"\"}}}],\"scatter3d\":[{\"type\":\"scatter3d\",\"line\":{\"colorbar\":{\"outlinewidth\":0,\"ticks\":\"\"}},\"marker\":{\"colorbar\":{\"outlinewidth\":0,\"ticks\":\"\"}}}],\"scattermapbox\":[{\"type\":\"scattermapbox\",\"marker\":{\"colorbar\":{\"outlinewidth\":0,\"ticks\":\"\"}}}],\"scatterternary\":[{\"type\":\"scatterternary\",\"marker\":{\"colorbar\":{\"outlinewidth\":0,\"ticks\":\"\"}}}],\"scattercarpet\":[{\"type\":\"scattercarpet\",\"marker\":{\"colorbar\":{\"outlinewidth\":0,\"ticks\":\"\"}}}],\"carpet\":[{\"aaxis\":{\"endlinecolor\":\"#2a3f5f\",\"gridcolor\":\"white\",\"linecolor\":\"white\",\"minorgridcolor\":\"white\",\"startlinecolor\":\"#2a3f5f\"},\"baxis\":{\"endlinecolor\":\"#2a3f5f\",\"gridcolor\":\"white\",\"linecolor\":\"white\",\"minorgridcolor\":\"white\",\"startlinecolor\":\"#2a3f5f\"},\"type\":\"carpet\"}],\"table\":[{\"cells\":{\"fill\":{\"color\":\"#EBF0F8\"},\"line\":{\"color\":\"white\"}},\"header\":{\"fill\":{\"color\":\"#C8D4E3\"},\"line\":{\"color\":\"white\"}},\"type\":\"table\"}],\"barpolar\":[{\"marker\":{\"line\":{\"color\":\"#E5ECF6\",\"width\":0.5},\"pattern\":{\"fillmode\":\"overlay\",\"size\":10,\"solidity\":0.2}},\"type\":\"barpolar\"}],\"pie\":[{\"automargin\":true,\"type\":\"pie\"}]},\"layout\":{\"autotypenumbers\":\"strict\",\"colorway\":[\"#636efa\",\"#EF553B\",\"#00cc96\",\"#ab63fa\",\"#FFA15A\",\"#19d3f3\",\"#FF6692\",\"#B6E880\",\"#FF97FF\",\"#FECB52\"],\"font\":{\"color\":\"#2a3f5f\"},\"hovermode\":\"closest\",\"hoverlabel\":{\"align\":\"left\"},\"paper_bgcolor\":\"white\",\"plot_bgcolor\":\"#E5ECF6\",\"polar\":{\"bgcolor\":\"#E5ECF6\",\"angularaxis\":{\"gridcolor\":\"white\",\"linecolor\":\"white\",\"ticks\":\"\"},\"radialaxis\":{\"gridcolor\":\"white\",\"linecolor\":\"white\",\"ticks\":\"\"}},\"ternary\":{\"bgcolor\":\"#E5ECF6\",\"aaxis\":{\"gridcolor\":\"white\",\"linecolor\":\"white\",\"ticks\":\"\"},\"baxis\":{\"gridcolor\":\"white\",\"linecolor\":\"white\",\"ticks\":\"\"},\"caxis\":{\"gridcolor\":\"white\",\"linecolor\":\"white\",\"ticks\":\"\"}},\"coloraxis\":{\"colorbar\":{\"outlinewidth\":0,\"ticks\":\"\"}},\"colorscale\":{\"sequential\":[[0.0,\"#0d0887\"],[0.1111111111111111,\"#46039f\"],[0.2222222222222222,\"#7201a8\"],[0.3333333333333333,\"#9c179e\"],[0.4444444444444444,\"#bd3786\"],[0.5555555555555556,\"#d8576b\"],[0.6666666666666666,\"#ed7953\"],[0.7777777777777778,\"#fb9f3a\"],[0.8888888888888888,\"#fdca26\"],[1.0,\"#f0f921\"]],\"sequentialminus\":[[0.0,\"#0d0887\"],[0.1111111111111111,\"#46039f\"],[0.2222222222222222,\"#7201a8\"],[0.3333333333333333,\"#9c179e\"],[0.4444444444444444,\"#bd3786\"],[0.5555555555555556,\"#d8576b\"],[0.6666666666666666,\"#ed7953\"],[0.7777777777777778,\"#fb9f3a\"],[0.8888888888888888,\"#fdca26\"],[1.0,\"#f0f921\"]],\"diverging\":[[0,\"#8e0152\"],[0.1,\"#c51b7d\"],[0.2,\"#de77ae\"],[0.3,\"#f1b6da\"],[0.4,\"#fde0ef\"],[0.5,\"#f7f7f7\"],[0.6,\"#e6f5d0\"],[0.7,\"#b8e186\"],[0.8,\"#7fbc41\"],[0.9,\"#4d9221\"],[1,\"#276419\"]]},\"xaxis\":{\"gridcolor\":\"white\",\"linecolor\":\"white\",\"ticks\":\"\",\"title\":{\"standoff\":15},\"zerolinecolor\":\"white\",\"automargin\":true,\"zerolinewidth\":2},\"yaxis\":{\"gridcolor\":\"white\",\"linecolor\":\"white\",\"ticks\":\"\",\"title\":{\"standoff\":15},\"zerolinecolor\":\"white\",\"automargin\":true,\"zerolinewidth\":2},\"scene\":{\"xaxis\":{\"backgroundcolor\":\"#E5ECF6\",\"gridcolor\":\"white\",\"linecolor\":\"white\",\"showbackground\":true,\"ticks\":\"\",\"zerolinecolor\":\"white\",\"gridwidth\":2},\"yaxis\":{\"backgroundcolor\":\"#E5ECF6\",\"gridcolor\":\"white\",\"linecolor\":\"white\",\"showbackground\":true,\"ticks\":\"\",\"zerolinecolor\":\"white\",\"gridwidth\":2},\"zaxis\":{\"backgroundcolor\":\"#E5ECF6\",\"gridcolor\":\"white\",\"linecolor\":\"white\",\"showbackground\":true,\"ticks\":\"\",\"zerolinecolor\":\"white\",\"gridwidth\":2}},\"shapedefaults\":{\"line\":{\"color\":\"#2a3f5f\"}},\"annotationdefaults\":{\"arrowcolor\":\"#2a3f5f\",\"arrowhead\":0,\"arrowwidth\":1},\"geo\":{\"bgcolor\":\"white\",\"landcolor\":\"#E5ECF6\",\"subunitcolor\":\"white\",\"showland\":true,\"showlakes\":true,\"lakecolor\":\"white\"},\"title\":{\"x\":0.05},\"mapbox\":{\"style\":\"light\"}}},\"xaxis\":{\"anchor\":\"y\",\"domain\":[0.0,1.0],\"title\":{\"text\":\"Category\"}},\"yaxis\":{\"anchor\":\"x\",\"domain\":[0.0,1.0],\"title\":{\"text\":\"Discount Percentage\"}},\"legend\":{\"title\":{\"text\":\"variable\"},\"tracegroupgap\":0},\"margin\":{\"t\":60},\"title\":{\"text\":\"Average and Median Discount Percentage by Category\"}},                        {\"responsive\": true}                    ).then(function(){\n",
       "                            \n",
       "var gd = document.getElementById('0ca0d9da-6d2c-4ba0-9da6-be7d6921b097');\n",
       "var x = new MutationObserver(function (mutations, observer) {{\n",
       "        var display = window.getComputedStyle(gd).display;\n",
       "        if (!display || display === 'none') {{\n",
       "            console.log([gd, 'removed!']);\n",
       "            Plotly.purge(gd);\n",
       "            observer.disconnect();\n",
       "        }}\n",
       "}});\n",
       "\n",
       "// Listen for the removal of the full notebook cells\n",
       "var notebookContainer = gd.closest('#notebook-container');\n",
       "if (notebookContainer) {{\n",
       "    x.observe(notebookContainer, {childList: true});\n",
       "}}\n",
       "\n",
       "// Listen for the clearing of the current output cell\n",
       "var outputEl = gd.closest('.output');\n",
       "if (outputEl) {{\n",
       "    x.observe(outputEl, {childList: true});\n",
       "}}\n",
       "\n",
       "                        })                };                });            </script>        </div>"
      ]
     },
     "metadata": {},
     "output_type": "display_data"
    }
   ],
   "source": [
    "#Visualization of the results \n",
    "\n",
    "import plotly.express as px\n",
    "\n",
    "# create a scatter plot of the discount statistics\n",
    "fig = px.scatter(df1.groupby('category_1')['discount_percentage'].agg(['mean', 'median']).reset_index(),\n",
    "                 x='category_1', y=['mean', 'median'], color_discrete_sequence=['blue', 'red'])\n",
    "\n",
    "# set axis labels and title\n",
    "fig.update_layout(xaxis_title='Category', yaxis_title='Discount Percentage', title='Average and Median Discount Percentage by Category')\n",
    "\n",
    "# show the plot\n",
    "fig.show()\n"
   ]
  },
  {
   "cell_type": "code",
   "execution_count": 41,
   "id": "43e1c352",
   "metadata": {},
   "outputs": [
    {
     "name": "stdout",
     "output_type": "stream",
     "text": [
      "Number of discounts:  1414\n"
     ]
    }
   ],
   "source": [
    "# count the number of discounts\n",
    "num_discounts = len(df[df['discounted_price'] < df['actual_price']])\n",
    "\n",
    "\n",
    "print(\"Number of discounts: \", num_discounts)\n"
   ]
  },
  {
   "cell_type": "code",
   "execution_count": 51,
   "id": "5b4a6e43",
   "metadata": {
    "scrolled": true
   },
   "outputs": [
    {
     "name": "stdout",
     "output_type": "stream",
     "text": [
      "0       4.2\n",
      "1       4.0\n",
      "2       3.9\n",
      "3       4.2\n",
      "4       4.2\n",
      "       ... \n",
      "1460    4.0\n",
      "1461    4.1\n",
      "1462    3.6\n",
      "1463    4.0\n",
      "1464    4.3\n",
      "Name: rating, Length: 1462, dtype: float64\n"
     ]
    }
   ],
   "source": [
    "ratings_data = df['rating']\n",
    "print(ratings_data)\n"
   ]
  },
  {
   "cell_type": "code",
   "execution_count": 52,
   "id": "1dbb1866",
   "metadata": {},
   "outputs": [
    {
     "name": "stdout",
     "output_type": "stream",
     "text": [
      "Mean Rating: 4.096716826265389\n",
      "Median Rating: 4.1\n",
      "Mode Rating: 4.1\n"
     ]
    }
   ],
   "source": [
    "mean_rating = df['rating'].mean()\n",
    "median_rating = df['rating'].median()\n",
    "mode_rating = df['rating'].mode()[0]\n",
    "\n",
    "print('Mean Rating:', mean_rating)\n",
    "print('Median Rating:', median_rating)\n",
    "print('Mode Rating:', mode_rating)\n"
   ]
  },
  {
   "cell_type": "code",
   "execution_count": 53,
   "id": "0405b80d",
   "metadata": {},
   "outputs": [
    {
     "name": "stdout",
     "output_type": "stream",
     "text": [
      "4-5    928\n",
      "3-4    525\n",
      "2-3      8\n",
      "<2       1\n",
      "Name: rating_category, dtype: int64\n"
     ]
    }
   ],
   "source": [
    "# create bins for ratings\n",
    "bins = [0, 2, 3, 4, 5]\n",
    "labels = ['<2', '2-3', '3-4', '4-5']\n",
    "\n",
    "# assign each rating to a bin using the cut() function\n",
    "df['rating_category'] = pd.cut(df['rating'], bins=bins, labels=labels)\n",
    "\n",
    "# count the number of ratings in each category using the value_counts() function\n",
    "rating_counts = df['rating_category'].value_counts()\n",
    "\n",
    "# print the result\n",
    "print(rating_counts)\n"
   ]
  },
  {
   "cell_type": "code",
   "execution_count": 56,
   "id": "c50881f0",
   "metadata": {},
   "outputs": [
    {
     "data": {
      "image/png": "[encoded data removed]",
      "text/plain": [
       "<Figure size 640x480 with 1 Axes>"
      ]
     },
     "metadata": {},
     "output_type": "display_data"
    }
   ],
   "source": [
    "# create a bar chart of rating counts\n",
    "plt.bar(rating_counts.index, rating_counts.values)\n",
    "\n",
    "# add labels and a title\n",
    "plt.xlabel('Rating Category')\n",
    "plt.ylabel('Count')\n",
    "plt.title('Number of Ratings in Each Category')\n",
    "\n",
    "# show the plot\n",
    "plt.show()\n"
   ]
  },
  {
   "cell_type": "code",
   "execution_count": null,
   "id": "7dd77945",
   "metadata": {},
   "outputs": [],
   "source": []
  }
 ],
 "metadata": {
  "kernelspec": {
   "display_name": "Python 3 (ipykernel)",
   "language": "python",
   "name": "python3"
  },
  "language_info": {
   "codemirror_mode": {
    "name": "ipython",
    "version": 3
   },
   "file_extension": ".py",
   "mimetype": "text/x-python",
   "name": "python",
   "nbconvert_exporter": "python",
   "pygments_lexer": "ipython3",
   "version": "3.10.9"
  }
 },
 "nbformat": 4,
 "nbformat_minor": 5
}
